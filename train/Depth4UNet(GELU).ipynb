{
 "cells": [
  {
   "cell_type": "code",
   "execution_count": 1,
   "id": "6e5bda88",
   "metadata": {},
   "outputs": [],
   "source": [
    "import torch\n",
    "import torchvision\n",
    "from torch import nn\n",
    "\n",
    "\n",
    "def conv3x3(i: int, o: int) -> nn.Conv2d:\n",
    "    \"\"\"3×3 convolution with padding=1 (same spatial size).\"\"\"\n",
    "    return nn.Conv2d(i, o, kernel_size=3, padding=1, bias=False)\n",
    "\n",
    "\n",
    "class ConvGelu(nn.Module):\n",
    "    \"\"\"Conv → GELU helper block (replacing Conv+ReLU).\"\"\"\n",
    "\n",
    "    def __init__(self, i: int, o: int):\n",
    "        super().__init__()\n",
    "        self.block = nn.Sequential(\n",
    "            conv3x3(i, o),\n",
    "            nn.GELU(),\n",
    "        )\n",
    "\n",
    "    def forward(self, x):\n",
    "        return self.block(x)\n",
    "\n",
    "\n",
    "class DecoderBlock(nn.Module):\n",
    "    \"\"\"Decoder up‑sampling block: (Conv→GELU) ×1  +  2× upsample via transpose‑conv.\"\"\"\n",
    "\n",
    "    def __init__(self, i: int, m: int, o: int):\n",
    "        super().__init__()\n",
    "        self.block = nn.Sequential(\n",
    "            ConvGelu(i, m),\n",
    "            nn.ConvTranspose2d(m, o, kernel_size=3, stride=2, padding=1, output_padding=1, bias=False),\n",
    "            nn.GELU(),\n",
    "        )\n",
    "\n",
    "    def forward(self, x):\n",
    "        return self.block(x)\n",
    "\n",
    "\n",
    "class InvertedBottleneck(nn.Module):\n",
    "    \"\"\"MobileNet‑v2 style inverted residual bottleneck.\n",
    "\n",
    "    Args:\n",
    "        ch (int): input/output channels.\n",
    "        exp (int): expansion factor. Default 4 (i.e. ch → ch*exp → ch).\n",
    "    \"\"\"\n",
    "\n",
    "    def __init__(self, ch: int, exp: int = 4):\n",
    "        super().__init__()\n",
    "        mid = ch * exp\n",
    "        self.block = nn.Sequential(\n",
    "            # 1×1 point‑wise expansion\n",
    "            nn.Conv2d(ch, mid, kernel_size=1, bias=False),\n",
    "            nn.BatchNorm2d(mid),\n",
    "            nn.GELU(),\n",
    "            # 3×3 depth‑wise conv\n",
    "            nn.Conv2d(mid, mid, kernel_size=3, padding=1, groups=mid, bias=False),\n",
    "            nn.BatchNorm2d(mid),\n",
    "            nn.GELU(),\n",
    "            # 1×1 point‑wise projection back\n",
    "            nn.Conv2d(mid, ch, kernel_size=1, bias=False),\n",
    "            nn.BatchNorm2d(ch),\n",
    "        )\n",
    "\n",
    "    def forward(self, x):\n",
    "        return x + self.block(x)  # residual connection\n",
    "\n",
    "\n",
    "class UNet11_4ch(nn.Module):\n",
    "    \"\"\"UNet‑11 backbone with 4‑channel input, GELU activations, and an extra inverted bottleneck before the final head.\"\"\"\n",
    "\n",
    "    def __init__(self, num_filters: int = 32, pretrained: bool = True):\n",
    "        super().__init__()\n",
    "\n",
    "        # ─────── Encoder (VGG11) ────────────────────────────────────────────\n",
    "        enc = torchvision.models.vgg11(pretrained=pretrained).features\n",
    "\n",
    "        # First conv: 4→64 (copy RGB weights and set 4th channel to mean)\n",
    "        old_conv1 = enc[0]  # 3→64\n",
    "        new_conv1 = nn.Conv2d(4, 64, kernel_size=3, padding=1, bias=False)\n",
    "        if pretrained:\n",
    "            with torch.no_grad():\n",
    "                new_conv1.weight[:, :3] = old_conv1.weight  # copy RGB\n",
    "                new_conv1.weight[:, 3:4] = old_conv1.weight.mean(dim=1, keepdim=True)\n",
    "        enc[0] = new_conv1\n",
    "        self.encoder = enc  # keep as torch.nn.Sequential\n",
    "\n",
    "        # Shortcut handles\n",
    "        self.gelu = nn.GELU()\n",
    "        self.pool = nn.MaxPool2d(2, 2)\n",
    "        self.conv1, self.conv2 = enc[0], enc[3]\n",
    "        self.conv3s, self.conv3 = enc[6], enc[8]\n",
    "        self.conv4s, self.conv4 = enc[11], enc[13]\n",
    "        self.conv5s, self.conv5 = enc[16], enc[18]\n",
    "\n",
    "        # ─────── Decoder ──────────────────────────────────────────────────\n",
    "        nf = num_filters\n",
    "        self.center = DecoderBlock(nf * 8 * 2, nf * 8 * 2, nf * 8)\n",
    "        self.dec5 = DecoderBlock(nf * (16 + 8), nf * 8 * 2, nf * 8)\n",
    "        self.dec4 = DecoderBlock(nf * (16 + 8), nf * 8 * 2, nf * 4)\n",
    "        self.dec3 = DecoderBlock(nf * (8 + 4), nf * 4 * 2, nf * 2)\n",
    "        self.dec2 = DecoderBlock(nf * (4 + 2), nf * 2 * 2, nf)\n",
    "        self.dec1 = ConvGelu(nf * (2 + 1), nf)\n",
    "\n",
    "        # ─────── Inverted Bottleneck  +  Final head ────────────────────────\n",
    "        self.inv = InvertedBottleneck(nf, exp=4)\n",
    "        self.final = nn.Conv2d(nf, 1, kernel_size=1)\n",
    "\n",
    "    # ---------------------------------------------------------------------\n",
    "    def _enc_forward(self, x):\n",
    "        c1 = self.gelu(self.conv1(x))\n",
    "        c2 = self.gelu(self.conv2(self.pool(c1)))\n",
    "        c3s = self.gelu(self.conv3s(self.pool(c2)))\n",
    "        c3 = self.gelu(self.conv3(c3s))\n",
    "        c4s = self.gelu(self.conv4s(self.pool(c3)))\n",
    "        c4 = self.gelu(self.conv4(c4s))\n",
    "        c5s = self.gelu(self.conv5s(self.pool(c4)))\n",
    "        c5 = self.gelu(self.conv5(c5s))\n",
    "        return c1, c2, c3, c4, c5\n",
    "\n",
    "    def forward(self, x):\n",
    "        c1, c2, c3, c4, c5 = self._enc_forward(x)\n",
    "        ctr = self.center(self.pool(c5))\n",
    "\n",
    "        d5 = self.dec5(torch.cat([ctr, c5], dim=1))\n",
    "        d4 = self.dec4(torch.cat([d5, c4], dim=1))\n",
    "        d3 = self.dec3(torch.cat([d4, c3], dim=1))\n",
    "        d2 = self.dec2(torch.cat([d3, c2], dim=1))\n",
    "        d1 = self.dec1(torch.cat([d2, c1], dim=1))\n",
    "\n",
    "        out = self.inv(d1)  # apply inverted bottleneck residual block\n",
    "        return self.final(out)\n",
    "\n",
    "\n"
   ]
  },
  {
   "cell_type": "code",
   "execution_count": 3,
   "id": "c534122e",
   "metadata": {},
   "outputs": [
    {
     "name": "stdout",
     "output_type": "stream",
     "text": [
      "🚀 Device: cuda\n",
      "📊 共 180 張影像\n"
     ]
    },
    {
     "name": "stderr",
     "output_type": "stream",
     "text": [
      "Ep1/100 train: 100%|██████████| 41/41 [01:18<00:00,  1.92s/it]\n",
      "Ep1/100 val: 100%|██████████| 5/5 [00:08<00:00,  1.62s/it]\n"
     ]
    },
    {
     "name": "stdout",
     "output_type": "stream",
     "text": [
      "📝 Ep1 train=0.5191 val=0.4646 dice=0.1685\n",
      "  👑  Saved best model (dice 0.1685)\n"
     ]
    },
    {
     "name": "stderr",
     "output_type": "stream",
     "text": [
      "Ep2/100 train: 100%|██████████| 41/41 [01:10<00:00,  1.73s/it]\n",
      "Ep2/100 val: 100%|██████████| 5/5 [00:07<00:00,  1.54s/it]\n"
     ]
    },
    {
     "name": "stdout",
     "output_type": "stream",
     "text": [
      "📝 Ep2 train=0.4104 val=0.4000 dice=0.4208\n",
      "  👑  Saved best model (dice 0.4208)\n"
     ]
    },
    {
     "name": "stderr",
     "output_type": "stream",
     "text": [
      "Ep3/100 train: 100%|██████████| 41/41 [01:10<00:00,  1.73s/it]\n",
      "Ep3/100 val: 100%|██████████| 5/5 [00:07<00:00,  1.56s/it]\n"
     ]
    },
    {
     "name": "stdout",
     "output_type": "stream",
     "text": [
      "📝 Ep3 train=0.3287 val=0.3521 dice=0.5528\n",
      "  👑  Saved best model (dice 0.5528)\n"
     ]
    },
    {
     "name": "stderr",
     "output_type": "stream",
     "text": [
      "Ep4/100 train: 100%|██████████| 41/41 [01:10<00:00,  1.71s/it]\n",
      "Ep4/100 val: 100%|██████████| 5/5 [00:07<00:00,  1.60s/it]\n"
     ]
    },
    {
     "name": "stdout",
     "output_type": "stream",
     "text": [
      "📝 Ep4 train=0.2709 val=0.2875 dice=0.4873\n"
     ]
    },
    {
     "name": "stderr",
     "output_type": "stream",
     "text": [
      "Ep5/100 train: 100%|██████████| 41/41 [01:09<00:00,  1.70s/it]\n",
      "Ep5/100 val: 100%|██████████| 5/5 [00:07<00:00,  1.54s/it]\n"
     ]
    },
    {
     "name": "stdout",
     "output_type": "stream",
     "text": [
      "📝 Ep5 train=0.3109 val=0.3759 dice=0.4302\n"
     ]
    },
    {
     "name": "stderr",
     "output_type": "stream",
     "text": [
      "Ep6/100 train: 100%|██████████| 41/41 [01:10<00:00,  1.72s/it]\n",
      "Ep6/100 val: 100%|██████████| 5/5 [00:07<00:00,  1.54s/it]\n"
     ]
    },
    {
     "name": "stdout",
     "output_type": "stream",
     "text": [
      "📝 Ep6 train=0.2490 val=0.3466 dice=0.7018\n",
      "  👑  Saved best model (dice 0.7018)\n"
     ]
    },
    {
     "name": "stderr",
     "output_type": "stream",
     "text": [
      "Ep7/100 train: 100%|██████████| 41/41 [01:10<00:00,  1.72s/it]\n",
      "Ep7/100 val: 100%|██████████| 5/5 [00:07<00:00,  1.53s/it]\n"
     ]
    },
    {
     "name": "stdout",
     "output_type": "stream",
     "text": [
      "📝 Ep7 train=0.2147 val=0.2491 dice=0.6633\n"
     ]
    },
    {
     "name": "stderr",
     "output_type": "stream",
     "text": [
      "Ep8/100 train: 100%|██████████| 41/41 [01:10<00:00,  1.71s/it]\n",
      "Ep8/100 val: 100%|██████████| 5/5 [00:07<00:00,  1.55s/it]\n"
     ]
    },
    {
     "name": "stdout",
     "output_type": "stream",
     "text": [
      "📝 Ep8 train=0.2149 val=0.2581 dice=0.5134\n"
     ]
    },
    {
     "name": "stderr",
     "output_type": "stream",
     "text": [
      "Ep9/100 train: 100%|██████████| 41/41 [01:10<00:00,  1.71s/it]\n",
      "Ep9/100 val: 100%|██████████| 5/5 [00:07<00:00,  1.54s/it]\n"
     ]
    },
    {
     "name": "stdout",
     "output_type": "stream",
     "text": [
      "📝 Ep9 train=0.2056 val=0.2404 dice=0.7911\n",
      "  👑  Saved best model (dice 0.7911)\n"
     ]
    },
    {
     "name": "stderr",
     "output_type": "stream",
     "text": [
      "Ep10/100 train: 100%|██████████| 41/41 [01:10<00:00,  1.73s/it]\n",
      "Ep10/100 val: 100%|██████████| 5/5 [00:07<00:00,  1.55s/it]\n"
     ]
    },
    {
     "name": "stdout",
     "output_type": "stream",
     "text": [
      "📝 Ep10 train=0.2398 val=0.2296 dice=0.6283\n"
     ]
    },
    {
     "name": "stderr",
     "output_type": "stream",
     "text": [
      "Ep11/100 train: 100%|██████████| 41/41 [01:10<00:00,  1.71s/it]\n",
      "Ep11/100 val: 100%|██████████| 5/5 [00:07<00:00,  1.54s/it]\n"
     ]
    },
    {
     "name": "stdout",
     "output_type": "stream",
     "text": [
      "📝 Ep11 train=0.2315 val=0.2601 dice=0.7281\n"
     ]
    },
    {
     "name": "stderr",
     "output_type": "stream",
     "text": [
      "Ep12/100 train: 100%|██████████| 41/41 [01:09<00:00,  1.71s/it]\n",
      "Ep12/100 val: 100%|██████████| 5/5 [00:07<00:00,  1.54s/it]\n"
     ]
    },
    {
     "name": "stdout",
     "output_type": "stream",
     "text": [
      "📝 Ep12 train=0.2094 val=0.2141 dice=0.6432\n"
     ]
    },
    {
     "name": "stderr",
     "output_type": "stream",
     "text": [
      "Ep13/100 train: 100%|██████████| 41/41 [01:11<00:00,  1.75s/it]\n",
      "Ep13/100 val: 100%|██████████| 5/5 [00:07<00:00,  1.57s/it]\n"
     ]
    },
    {
     "name": "stdout",
     "output_type": "stream",
     "text": [
      "📝 Ep13 train=0.2469 val=0.2075 dice=0.7787\n"
     ]
    },
    {
     "name": "stderr",
     "output_type": "stream",
     "text": [
      "Ep14/100 train: 100%|██████████| 41/41 [01:12<00:00,  1.76s/it]\n",
      "Ep14/100 val: 100%|██████████| 5/5 [00:07<00:00,  1.58s/it]\n"
     ]
    },
    {
     "name": "stdout",
     "output_type": "stream",
     "text": [
      "📝 Ep14 train=0.2345 val=0.1903 dice=0.4068\n"
     ]
    },
    {
     "name": "stderr",
     "output_type": "stream",
     "text": [
      "Ep15/100 train: 100%|██████████| 41/41 [01:13<00:00,  1.80s/it]\n",
      "Ep15/100 val: 100%|██████████| 5/5 [00:07<00:00,  1.58s/it]\n"
     ]
    },
    {
     "name": "stdout",
     "output_type": "stream",
     "text": [
      "📝 Ep15 train=0.2058 val=0.2915 dice=0.7340\n"
     ]
    },
    {
     "name": "stderr",
     "output_type": "stream",
     "text": [
      "Ep16/100 train: 100%|██████████| 41/41 [01:10<00:00,  1.71s/it]\n",
      "Ep16/100 val: 100%|██████████| 5/5 [00:07<00:00,  1.56s/it]\n"
     ]
    },
    {
     "name": "stdout",
     "output_type": "stream",
     "text": [
      "📝 Ep16 train=0.1922 val=0.3677 dice=0.7198\n"
     ]
    },
    {
     "name": "stderr",
     "output_type": "stream",
     "text": [
      "Ep17/100 train: 100%|██████████| 41/41 [01:12<00:00,  1.77s/it]\n",
      "Ep17/100 val: 100%|██████████| 5/5 [00:07<00:00,  1.56s/it]\n"
     ]
    },
    {
     "name": "stdout",
     "output_type": "stream",
     "text": [
      "📝 Ep17 train=0.1955 val=0.3403 dice=0.6968\n"
     ]
    },
    {
     "name": "stderr",
     "output_type": "stream",
     "text": [
      "Ep18/100 train: 100%|██████████| 41/41 [01:10<00:00,  1.72s/it]\n",
      "Ep18/100 val: 100%|██████████| 5/5 [00:07<00:00,  1.54s/it]\n"
     ]
    },
    {
     "name": "stdout",
     "output_type": "stream",
     "text": [
      "📝 Ep18 train=0.2192 val=0.2553 dice=0.7397\n"
     ]
    },
    {
     "name": "stderr",
     "output_type": "stream",
     "text": [
      "Ep19/100 train: 100%|██████████| 41/41 [01:18<00:00,  1.93s/it]\n",
      "Ep19/100 val: 100%|██████████| 5/5 [00:08<00:00,  1.70s/it]\n"
     ]
    },
    {
     "name": "stdout",
     "output_type": "stream",
     "text": [
      "📝 Ep19 train=0.1684 val=0.1792 dice=0.7094\n"
     ]
    },
    {
     "name": "stderr",
     "output_type": "stream",
     "text": [
      "Ep20/100 train: 100%|██████████| 41/41 [01:13<00:00,  1.80s/it]\n",
      "Ep20/100 val: 100%|██████████| 5/5 [00:07<00:00,  1.56s/it]\n"
     ]
    },
    {
     "name": "stdout",
     "output_type": "stream",
     "text": [
      "📝 Ep20 train=0.1968 val=0.1916 dice=0.6603\n"
     ]
    },
    {
     "name": "stderr",
     "output_type": "stream",
     "text": [
      "Ep21/100 train: 100%|██████████| 41/41 [01:10<00:00,  1.71s/it]\n",
      "Ep21/100 val: 100%|██████████| 5/5 [00:07<00:00,  1.54s/it]\n"
     ]
    },
    {
     "name": "stdout",
     "output_type": "stream",
     "text": [
      "📝 Ep21 train=0.1887 val=0.1629 dice=0.7794\n"
     ]
    },
    {
     "name": "stderr",
     "output_type": "stream",
     "text": [
      "Ep22/100 train: 100%|██████████| 41/41 [01:10<00:00,  1.73s/it]\n",
      "Ep22/100 val: 100%|██████████| 5/5 [00:07<00:00,  1.56s/it]\n"
     ]
    },
    {
     "name": "stdout",
     "output_type": "stream",
     "text": [
      "📝 Ep22 train=0.1995 val=0.1781 dice=0.7114\n"
     ]
    },
    {
     "name": "stderr",
     "output_type": "stream",
     "text": [
      "Ep23/100 train: 100%|██████████| 41/41 [01:10<00:00,  1.72s/it]\n",
      "Ep23/100 val: 100%|██████████| 5/5 [00:07<00:00,  1.55s/it]\n"
     ]
    },
    {
     "name": "stdout",
     "output_type": "stream",
     "text": [
      "📝 Ep23 train=0.1910 val=0.1977 dice=0.8142\n",
      "  👑  Saved best model (dice 0.8142)\n"
     ]
    },
    {
     "name": "stderr",
     "output_type": "stream",
     "text": [
      "Ep24/100 train: 100%|██████████| 41/41 [01:13<00:00,  1.80s/it]\n",
      "Ep24/100 val: 100%|██████████| 5/5 [00:08<00:00,  1.61s/it]\n"
     ]
    },
    {
     "name": "stdout",
     "output_type": "stream",
     "text": [
      "📝 Ep24 train=0.2001 val=0.2104 dice=0.5795\n"
     ]
    },
    {
     "name": "stderr",
     "output_type": "stream",
     "text": [
      "Ep25/100 train: 100%|██████████| 41/41 [01:13<00:00,  1.80s/it]\n",
      "Ep25/100 val: 100%|██████████| 5/5 [00:08<00:00,  1.60s/it]\n"
     ]
    },
    {
     "name": "stdout",
     "output_type": "stream",
     "text": [
      "📝 Ep25 train=0.1752 val=0.1899 dice=0.8112\n"
     ]
    },
    {
     "name": "stderr",
     "output_type": "stream",
     "text": [
      "Ep26/100 train: 100%|██████████| 41/41 [01:13<00:00,  1.79s/it]\n",
      "Ep26/100 val: 100%|██████████| 5/5 [00:08<00:00,  1.65s/it]\n"
     ]
    },
    {
     "name": "stdout",
     "output_type": "stream",
     "text": [
      "📝 Ep26 train=0.1811 val=0.2114 dice=0.8387\n",
      "  👑  Saved best model (dice 0.8387)\n"
     ]
    },
    {
     "name": "stderr",
     "output_type": "stream",
     "text": [
      "Ep27/100 train: 100%|██████████| 41/41 [01:13<00:00,  1.79s/it]\n",
      "Ep27/100 val: 100%|██████████| 5/5 [00:08<00:00,  1.63s/it]\n"
     ]
    },
    {
     "name": "stdout",
     "output_type": "stream",
     "text": [
      "📝 Ep27 train=0.1623 val=0.2216 dice=0.6855\n"
     ]
    },
    {
     "name": "stderr",
     "output_type": "stream",
     "text": [
      "Ep28/100 train: 100%|██████████| 41/41 [01:13<00:00,  1.79s/it]\n",
      "Ep28/100 val: 100%|██████████| 5/5 [00:08<00:00,  1.65s/it]\n"
     ]
    },
    {
     "name": "stdout",
     "output_type": "stream",
     "text": [
      "📝 Ep28 train=0.2025 val=0.1857 dice=0.8166\n"
     ]
    },
    {
     "name": "stderr",
     "output_type": "stream",
     "text": [
      "Ep29/100 train: 100%|██████████| 41/41 [01:13<00:00,  1.80s/it]\n",
      "Ep29/100 val: 100%|██████████| 5/5 [00:07<00:00,  1.52s/it]\n"
     ]
    },
    {
     "name": "stdout",
     "output_type": "stream",
     "text": [
      "📝 Ep29 train=0.1900 val=0.2617 dice=0.8246\n"
     ]
    },
    {
     "name": "stderr",
     "output_type": "stream",
     "text": [
      "Ep30/100 train: 100%|██████████| 41/41 [01:11<00:00,  1.74s/it]\n",
      "Ep30/100 val: 100%|██████████| 5/5 [00:07<00:00,  1.52s/it]\n"
     ]
    },
    {
     "name": "stdout",
     "output_type": "stream",
     "text": [
      "📝 Ep30 train=0.1498 val=0.1610 dice=0.6310\n"
     ]
    },
    {
     "name": "stderr",
     "output_type": "stream",
     "text": [
      "Ep31/100 train: 100%|██████████| 41/41 [01:10<00:00,  1.73s/it]\n",
      "Ep31/100 val: 100%|██████████| 5/5 [00:07<00:00,  1.52s/it]\n"
     ]
    },
    {
     "name": "stdout",
     "output_type": "stream",
     "text": [
      "📝 Ep31 train=0.1583 val=0.1439 dice=0.7694\n"
     ]
    },
    {
     "name": "stderr",
     "output_type": "stream",
     "text": [
      "Ep32/100 train: 100%|██████████| 41/41 [01:08<00:00,  1.66s/it]\n",
      "Ep32/100 val: 100%|██████████| 5/5 [00:07<00:00,  1.48s/it]\n"
     ]
    },
    {
     "name": "stdout",
     "output_type": "stream",
     "text": [
      "📝 Ep32 train=0.1667 val=0.1956 dice=0.7818\n"
     ]
    },
    {
     "name": "stderr",
     "output_type": "stream",
     "text": [
      "Ep33/100 train: 100%|██████████| 41/41 [01:07<00:00,  1.65s/it]\n",
      "Ep33/100 val: 100%|██████████| 5/5 [00:07<00:00,  1.52s/it]\n"
     ]
    },
    {
     "name": "stdout",
     "output_type": "stream",
     "text": [
      "📝 Ep33 train=0.1468 val=0.2499 dice=0.7867\n"
     ]
    },
    {
     "name": "stderr",
     "output_type": "stream",
     "text": [
      "Ep34/100 train: 100%|██████████| 41/41 [01:07<00:00,  1.65s/it]\n",
      "Ep34/100 val: 100%|██████████| 5/5 [00:07<00:00,  1.48s/it]\n"
     ]
    },
    {
     "name": "stdout",
     "output_type": "stream",
     "text": [
      "📝 Ep34 train=0.1865 val=0.1964 dice=0.8008\n"
     ]
    },
    {
     "name": "stderr",
     "output_type": "stream",
     "text": [
      "Ep35/100 train: 100%|██████████| 41/41 [01:07<00:00,  1.65s/it]\n",
      "Ep35/100 val: 100%|██████████| 5/5 [00:07<00:00,  1.50s/it]\n"
     ]
    },
    {
     "name": "stdout",
     "output_type": "stream",
     "text": [
      "📝 Ep35 train=0.1694 val=0.1335 dice=0.5921\n"
     ]
    },
    {
     "name": "stderr",
     "output_type": "stream",
     "text": [
      "Ep36/100 train: 100%|██████████| 41/41 [01:07<00:00,  1.65s/it]\n",
      "Ep36/100 val: 100%|██████████| 5/5 [00:07<00:00,  1.49s/it]\n"
     ]
    },
    {
     "name": "stdout",
     "output_type": "stream",
     "text": [
      "📝 Ep36 train=0.1729 val=0.1724 dice=0.7727\n"
     ]
    },
    {
     "name": "stderr",
     "output_type": "stream",
     "text": [
      "Ep37/100 train: 100%|██████████| 41/41 [01:07<00:00,  1.65s/it]\n",
      "Ep37/100 val: 100%|██████████| 5/5 [00:07<00:00,  1.50s/it]\n"
     ]
    },
    {
     "name": "stdout",
     "output_type": "stream",
     "text": [
      "📝 Ep37 train=0.1894 val=0.1488 dice=0.6386\n"
     ]
    },
    {
     "name": "stderr",
     "output_type": "stream",
     "text": [
      "Ep38/100 train: 100%|██████████| 41/41 [01:08<00:00,  1.66s/it]\n",
      "Ep38/100 val: 100%|██████████| 5/5 [00:07<00:00,  1.56s/it]\n"
     ]
    },
    {
     "name": "stdout",
     "output_type": "stream",
     "text": [
      "📝 Ep38 train=0.1699 val=0.1698 dice=0.7308\n"
     ]
    },
    {
     "name": "stderr",
     "output_type": "stream",
     "text": [
      "Ep39/100 train: 100%|██████████| 41/41 [01:07<00:00,  1.66s/it]\n",
      "Ep39/100 val: 100%|██████████| 5/5 [00:07<00:00,  1.48s/it]\n"
     ]
    },
    {
     "name": "stdout",
     "output_type": "stream",
     "text": [
      "📝 Ep39 train=0.1683 val=0.1319 dice=0.7736\n"
     ]
    },
    {
     "name": "stderr",
     "output_type": "stream",
     "text": [
      "Ep40/100 train: 100%|██████████| 41/41 [01:07<00:00,  1.66s/it]\n",
      "Ep40/100 val: 100%|██████████| 5/5 [00:07<00:00,  1.50s/it]\n"
     ]
    },
    {
     "name": "stdout",
     "output_type": "stream",
     "text": [
      "📝 Ep40 train=0.1547 val=0.1575 dice=0.8171\n"
     ]
    },
    {
     "name": "stderr",
     "output_type": "stream",
     "text": [
      "Ep41/100 train: 100%|██████████| 41/41 [01:08<00:00,  1.66s/it]\n",
      "Ep41/100 val: 100%|██████████| 5/5 [00:07<00:00,  1.51s/it]\n"
     ]
    },
    {
     "name": "stdout",
     "output_type": "stream",
     "text": [
      "📝 Ep41 train=0.1908 val=0.1887 dice=0.6716\n"
     ]
    },
    {
     "name": "stderr",
     "output_type": "stream",
     "text": [
      "Ep42/100 train: 100%|██████████| 41/41 [01:07<00:00,  1.66s/it]\n",
      "Ep42/100 val: 100%|██████████| 5/5 [00:07<00:00,  1.55s/it]\n"
     ]
    },
    {
     "name": "stdout",
     "output_type": "stream",
     "text": [
      "📝 Ep42 train=0.1358 val=0.2160 dice=0.8342\n"
     ]
    },
    {
     "name": "stderr",
     "output_type": "stream",
     "text": [
      "Ep43/100 train: 100%|██████████| 41/41 [01:07<00:00,  1.65s/it]\n",
      "Ep43/100 val: 100%|██████████| 5/5 [00:07<00:00,  1.52s/it]\n"
     ]
    },
    {
     "name": "stdout",
     "output_type": "stream",
     "text": [
      "📝 Ep43 train=0.1948 val=0.2820 dice=0.7276\n"
     ]
    },
    {
     "name": "stderr",
     "output_type": "stream",
     "text": [
      "Ep44/100 train: 100%|██████████| 41/41 [01:07<00:00,  1.64s/it]\n",
      "Ep44/100 val: 100%|██████████| 5/5 [00:07<00:00,  1.50s/it]\n"
     ]
    },
    {
     "name": "stdout",
     "output_type": "stream",
     "text": [
      "📝 Ep44 train=0.1702 val=0.1597 dice=0.7036\n"
     ]
    },
    {
     "name": "stderr",
     "output_type": "stream",
     "text": [
      "Ep45/100 train: 100%|██████████| 41/41 [01:07<00:00,  1.65s/it]\n",
      "Ep45/100 val: 100%|██████████| 5/5 [00:07<00:00,  1.49s/it]\n"
     ]
    },
    {
     "name": "stdout",
     "output_type": "stream",
     "text": [
      "📝 Ep45 train=0.1510 val=0.1755 dice=0.6433\n"
     ]
    },
    {
     "name": "stderr",
     "output_type": "stream",
     "text": [
      "Ep46/100 train: 100%|██████████| 41/41 [01:07<00:00,  1.64s/it]\n",
      "Ep46/100 val: 100%|██████████| 5/5 [00:07<00:00,  1.48s/it]\n"
     ]
    },
    {
     "name": "stdout",
     "output_type": "stream",
     "text": [
      "📝 Ep46 train=0.1835 val=0.1860 dice=0.8144\n"
     ]
    },
    {
     "name": "stderr",
     "output_type": "stream",
     "text": [
      "Ep47/100 train: 100%|██████████| 41/41 [01:07<00:00,  1.66s/it]\n",
      "Ep47/100 val: 100%|██████████| 5/5 [00:07<00:00,  1.50s/it]\n"
     ]
    },
    {
     "name": "stdout",
     "output_type": "stream",
     "text": [
      "📝 Ep47 train=0.1729 val=0.1931 dice=0.7488\n"
     ]
    },
    {
     "name": "stderr",
     "output_type": "stream",
     "text": [
      "Ep48/100 train: 100%|██████████| 41/41 [01:07<00:00,  1.64s/it]\n",
      "Ep48/100 val: 100%|██████████| 5/5 [00:07<00:00,  1.48s/it]\n"
     ]
    },
    {
     "name": "stdout",
     "output_type": "stream",
     "text": [
      "📝 Ep48 train=0.1600 val=0.1863 dice=0.6550\n"
     ]
    },
    {
     "name": "stderr",
     "output_type": "stream",
     "text": [
      "Ep49/100 train: 100%|██████████| 41/41 [01:07<00:00,  1.64s/it]\n",
      "Ep49/100 val: 100%|██████████| 5/5 [00:07<00:00,  1.47s/it]\n"
     ]
    },
    {
     "name": "stdout",
     "output_type": "stream",
     "text": [
      "📝 Ep49 train=0.1321 val=0.2032 dice=0.7493\n"
     ]
    },
    {
     "name": "stderr",
     "output_type": "stream",
     "text": [
      "Ep50/100 train: 100%|██████████| 41/41 [01:07<00:00,  1.64s/it]\n",
      "Ep50/100 val: 100%|██████████| 5/5 [00:07<00:00,  1.53s/it]\n"
     ]
    },
    {
     "name": "stdout",
     "output_type": "stream",
     "text": [
      "📝 Ep50 train=0.1558 val=0.3126 dice=0.8079\n"
     ]
    },
    {
     "name": "stderr",
     "output_type": "stream",
     "text": [
      "Ep51/100 train: 100%|██████████| 41/41 [01:13<00:00,  1.80s/it]\n",
      "Ep51/100 val: 100%|██████████| 5/5 [00:07<00:00,  1.57s/it]\n"
     ]
    },
    {
     "name": "stdout",
     "output_type": "stream",
     "text": [
      "📝 Ep51 train=0.1420 val=0.1888 dice=0.7442\n"
     ]
    },
    {
     "name": "stderr",
     "output_type": "stream",
     "text": [
      "Ep52/100 train: 100%|██████████| 41/41 [01:13<00:00,  1.80s/it]\n",
      "Ep52/100 val: 100%|██████████| 5/5 [00:07<00:00,  1.50s/it]\n"
     ]
    },
    {
     "name": "stdout",
     "output_type": "stream",
     "text": [
      "📝 Ep52 train=0.1743 val=0.1586 dice=0.7468\n"
     ]
    },
    {
     "name": "stderr",
     "output_type": "stream",
     "text": [
      "Ep53/100 train: 100%|██████████| 41/41 [01:08<00:00,  1.68s/it]\n",
      "Ep53/100 val: 100%|██████████| 5/5 [00:07<00:00,  1.51s/it]\n"
     ]
    },
    {
     "name": "stdout",
     "output_type": "stream",
     "text": [
      "📝 Ep53 train=0.1402 val=0.2071 dice=0.7021\n"
     ]
    },
    {
     "name": "stderr",
     "output_type": "stream",
     "text": [
      "Ep54/100 train: 100%|██████████| 41/41 [01:11<00:00,  1.75s/it]\n",
      "Ep54/100 val: 100%|██████████| 5/5 [00:07<00:00,  1.57s/it]\n"
     ]
    },
    {
     "name": "stdout",
     "output_type": "stream",
     "text": [
      "📝 Ep54 train=0.1409 val=0.2335 dice=0.7569\n"
     ]
    },
    {
     "name": "stderr",
     "output_type": "stream",
     "text": [
      "Ep55/100 train: 100%|██████████| 41/41 [01:13<00:00,  1.79s/it]\n",
      "Ep55/100 val: 100%|██████████| 5/5 [00:08<00:00,  1.74s/it]\n"
     ]
    },
    {
     "name": "stdout",
     "output_type": "stream",
     "text": [
      "📝 Ep55 train=0.1579 val=0.2304 dice=0.8327\n"
     ]
    },
    {
     "name": "stderr",
     "output_type": "stream",
     "text": [
      "Ep56/100 train: 100%|██████████| 41/41 [01:10<00:00,  1.71s/it]\n",
      "Ep56/100 val: 100%|██████████| 5/5 [00:08<00:00,  1.60s/it]\n"
     ]
    },
    {
     "name": "stdout",
     "output_type": "stream",
     "text": [
      "📝 Ep56 train=0.1596 val=0.1795 dice=0.8113\n"
     ]
    },
    {
     "name": "stderr",
     "output_type": "stream",
     "text": [
      "Ep57/100 train: 100%|██████████| 41/41 [01:11<00:00,  1.73s/it]\n",
      "Ep57/100 val: 100%|██████████| 5/5 [00:07<00:00,  1.55s/it]\n"
     ]
    },
    {
     "name": "stdout",
     "output_type": "stream",
     "text": [
      "📝 Ep57 train=0.1681 val=0.2051 dice=0.6640\n"
     ]
    },
    {
     "name": "stderr",
     "output_type": "stream",
     "text": [
      "Ep58/100 train: 100%|██████████| 41/41 [01:10<00:00,  1.72s/it]\n",
      "Ep58/100 val: 100%|██████████| 5/5 [00:07<00:00,  1.59s/it]\n"
     ]
    },
    {
     "name": "stdout",
     "output_type": "stream",
     "text": [
      "📝 Ep58 train=0.1615 val=0.2032 dice=0.7818\n"
     ]
    },
    {
     "name": "stderr",
     "output_type": "stream",
     "text": [
      "Ep59/100 train: 100%|██████████| 41/41 [01:09<00:00,  1.70s/it]\n",
      "Ep59/100 val: 100%|██████████| 5/5 [00:07<00:00,  1.47s/it]\n"
     ]
    },
    {
     "name": "stdout",
     "output_type": "stream",
     "text": [
      "📝 Ep59 train=0.1760 val=0.1950 dice=0.8232\n"
     ]
    },
    {
     "name": "stderr",
     "output_type": "stream",
     "text": [
      "Ep60/100 train: 100%|██████████| 41/41 [01:07<00:00,  1.65s/it]\n",
      "Ep60/100 val: 100%|██████████| 5/5 [00:07<00:00,  1.48s/it]\n"
     ]
    },
    {
     "name": "stdout",
     "output_type": "stream",
     "text": [
      "📝 Ep60 train=0.1623 val=0.1996 dice=0.7392\n"
     ]
    },
    {
     "name": "stderr",
     "output_type": "stream",
     "text": [
      "Ep61/100 train: 100%|██████████| 41/41 [01:08<00:00,  1.66s/it]\n",
      "Ep61/100 val: 100%|██████████| 5/5 [00:07<00:00,  1.50s/it]\n"
     ]
    },
    {
     "name": "stdout",
     "output_type": "stream",
     "text": [
      "📝 Ep61 train=0.1327 val=0.1702 dice=0.6673\n"
     ]
    },
    {
     "name": "stderr",
     "output_type": "stream",
     "text": [
      "Ep62/100 train: 100%|██████████| 41/41 [01:07<00:00,  1.64s/it]\n",
      "Ep62/100 val: 100%|██████████| 5/5 [00:07<00:00,  1.48s/it]\n"
     ]
    },
    {
     "name": "stdout",
     "output_type": "stream",
     "text": [
      "📝 Ep62 train=0.1364 val=0.3760 dice=0.6394\n"
     ]
    },
    {
     "name": "stderr",
     "output_type": "stream",
     "text": [
      "Ep63/100 train: 100%|██████████| 41/41 [01:07<00:00,  1.64s/it]\n",
      "Ep63/100 val: 100%|██████████| 5/5 [00:07<00:00,  1.50s/it]\n"
     ]
    },
    {
     "name": "stdout",
     "output_type": "stream",
     "text": [
      "📝 Ep63 train=0.1480 val=0.1399 dice=0.8366\n"
     ]
    },
    {
     "name": "stderr",
     "output_type": "stream",
     "text": [
      "Ep64/100 train: 100%|██████████| 41/41 [01:07<00:00,  1.65s/it]\n",
      "Ep64/100 val: 100%|██████████| 5/5 [00:07<00:00,  1.48s/it]\n"
     ]
    },
    {
     "name": "stdout",
     "output_type": "stream",
     "text": [
      "📝 Ep64 train=0.1456 val=0.2660 dice=0.8282\n"
     ]
    },
    {
     "name": "stderr",
     "output_type": "stream",
     "text": [
      "Ep65/100 train: 100%|██████████| 41/41 [01:07<00:00,  1.65s/it]\n",
      "Ep65/100 val: 100%|██████████| 5/5 [00:07<00:00,  1.53s/it]\n"
     ]
    },
    {
     "name": "stdout",
     "output_type": "stream",
     "text": [
      "📝 Ep65 train=0.1368 val=0.1643 dice=0.8202\n"
     ]
    },
    {
     "name": "stderr",
     "output_type": "stream",
     "text": [
      "Ep66/100 train: 100%|██████████| 41/41 [01:07<00:00,  1.66s/it]\n",
      "Ep66/100 val: 100%|██████████| 5/5 [00:07<00:00,  1.49s/it]\n"
     ]
    },
    {
     "name": "stdout",
     "output_type": "stream",
     "text": [
      "📝 Ep66 train=0.1537 val=0.2118 dice=0.7247\n"
     ]
    },
    {
     "name": "stderr",
     "output_type": "stream",
     "text": [
      "Ep67/100 train: 100%|██████████| 41/41 [01:07<00:00,  1.65s/it]\n",
      "Ep67/100 val: 100%|██████████| 5/5 [00:07<00:00,  1.49s/it]\n"
     ]
    },
    {
     "name": "stdout",
     "output_type": "stream",
     "text": [
      "📝 Ep67 train=0.1597 val=0.1568 dice=0.7457\n"
     ]
    },
    {
     "name": "stderr",
     "output_type": "stream",
     "text": [
      "Ep68/100 train: 100%|██████████| 41/41 [01:07<00:00,  1.65s/it]\n",
      "Ep68/100 val: 100%|██████████| 5/5 [00:07<00:00,  1.49s/it]\n"
     ]
    },
    {
     "name": "stdout",
     "output_type": "stream",
     "text": [
      "📝 Ep68 train=0.1344 val=0.1451 dice=0.7237\n"
     ]
    },
    {
     "name": "stderr",
     "output_type": "stream",
     "text": [
      "Ep69/100 train: 100%|██████████| 41/41 [01:07<00:00,  1.65s/it]\n",
      "Ep69/100 val: 100%|██████████| 5/5 [00:07<00:00,  1.48s/it]\n"
     ]
    },
    {
     "name": "stdout",
     "output_type": "stream",
     "text": [
      "📝 Ep69 train=0.1378 val=0.1947 dice=0.6614\n"
     ]
    },
    {
     "name": "stderr",
     "output_type": "stream",
     "text": [
      "Ep70/100 train: 100%|██████████| 41/41 [01:07<00:00,  1.65s/it]\n",
      "Ep70/100 val: 100%|██████████| 5/5 [00:07<00:00,  1.54s/it]\n"
     ]
    },
    {
     "name": "stdout",
     "output_type": "stream",
     "text": [
      "📝 Ep70 train=0.1685 val=0.1190 dice=0.7519\n"
     ]
    },
    {
     "name": "stderr",
     "output_type": "stream",
     "text": [
      "Ep71/100 train: 100%|██████████| 41/41 [01:07<00:00,  1.65s/it]\n",
      "Ep71/100 val: 100%|██████████| 5/5 [00:07<00:00,  1.47s/it]\n"
     ]
    },
    {
     "name": "stdout",
     "output_type": "stream",
     "text": [
      "📝 Ep71 train=0.1618 val=0.1614 dice=0.7074\n"
     ]
    },
    {
     "name": "stderr",
     "output_type": "stream",
     "text": [
      "Ep72/100 train: 100%|██████████| 41/41 [01:07<00:00,  1.66s/it]\n",
      "Ep72/100 val: 100%|██████████| 5/5 [00:07<00:00,  1.50s/it]\n"
     ]
    },
    {
     "name": "stdout",
     "output_type": "stream",
     "text": [
      "📝 Ep72 train=0.1497 val=0.2517 dice=0.8074\n"
     ]
    },
    {
     "name": "stderr",
     "output_type": "stream",
     "text": [
      "Ep73/100 train: 100%|██████████| 41/41 [01:07<00:00,  1.66s/it]\n",
      "Ep73/100 val: 100%|██████████| 5/5 [00:07<00:00,  1.47s/it]\n"
     ]
    },
    {
     "name": "stdout",
     "output_type": "stream",
     "text": [
      "📝 Ep73 train=0.1668 val=0.2101 dice=0.6014\n"
     ]
    },
    {
     "name": "stderr",
     "output_type": "stream",
     "text": [
      "Ep74/100 train: 100%|██████████| 41/41 [01:07<00:00,  1.66s/it]\n",
      "Ep74/100 val: 100%|██████████| 5/5 [00:07<00:00,  1.50s/it]\n"
     ]
    },
    {
     "name": "stdout",
     "output_type": "stream",
     "text": [
      "📝 Ep74 train=0.1503 val=0.1371 dice=0.8035\n"
     ]
    },
    {
     "name": "stderr",
     "output_type": "stream",
     "text": [
      "Ep75/100 train: 100%|██████████| 41/41 [01:07<00:00,  1.66s/it]\n",
      "Ep75/100 val: 100%|██████████| 5/5 [00:07<00:00,  1.47s/it]\n"
     ]
    },
    {
     "name": "stdout",
     "output_type": "stream",
     "text": [
      "📝 Ep75 train=0.1522 val=0.2018 dice=0.7687\n"
     ]
    },
    {
     "name": "stderr",
     "output_type": "stream",
     "text": [
      "Ep76/100 train: 100%|██████████| 41/41 [01:07<00:00,  1.65s/it]\n",
      "Ep76/100 val: 100%|██████████| 5/5 [00:07<00:00,  1.47s/it]\n"
     ]
    },
    {
     "name": "stdout",
     "output_type": "stream",
     "text": [
      "📝 Ep76 train=0.1316 val=0.1538 dice=0.7706\n"
     ]
    },
    {
     "name": "stderr",
     "output_type": "stream",
     "text": [
      "Ep77/100 train: 100%|██████████| 41/41 [01:08<00:00,  1.66s/it]\n",
      "Ep77/100 val: 100%|██████████| 5/5 [00:07<00:00,  1.49s/it]\n"
     ]
    },
    {
     "name": "stdout",
     "output_type": "stream",
     "text": [
      "📝 Ep77 train=0.1498 val=0.1879 dice=0.7799\n"
     ]
    },
    {
     "name": "stderr",
     "output_type": "stream",
     "text": [
      "Ep78/100 train: 100%|██████████| 41/41 [01:07<00:00,  1.65s/it]\n",
      "Ep78/100 val: 100%|██████████| 5/5 [00:07<00:00,  1.48s/it]\n"
     ]
    },
    {
     "name": "stdout",
     "output_type": "stream",
     "text": [
      "📝 Ep78 train=0.1328 val=0.1765 dice=0.7754\n"
     ]
    },
    {
     "name": "stderr",
     "output_type": "stream",
     "text": [
      "Ep79/100 train: 100%|██████████| 41/41 [01:07<00:00,  1.66s/it]\n",
      "Ep79/100 val: 100%|██████████| 5/5 [00:07<00:00,  1.53s/it]\n"
     ]
    },
    {
     "name": "stdout",
     "output_type": "stream",
     "text": [
      "📝 Ep79 train=0.1734 val=0.1673 dice=0.7163\n"
     ]
    },
    {
     "name": "stderr",
     "output_type": "stream",
     "text": [
      "Ep80/100 train: 100%|██████████| 41/41 [01:08<00:00,  1.67s/it]\n",
      "Ep80/100 val: 100%|██████████| 5/5 [00:07<00:00,  1.48s/it]\n"
     ]
    },
    {
     "name": "stdout",
     "output_type": "stream",
     "text": [
      "📝 Ep80 train=0.1588 val=0.2050 dice=0.7795\n"
     ]
    },
    {
     "name": "stderr",
     "output_type": "stream",
     "text": [
      "Ep81/100 train: 100%|██████████| 41/41 [01:07<00:00,  1.66s/it]\n",
      "Ep81/100 val: 100%|██████████| 5/5 [00:07<00:00,  1.50s/it]\n"
     ]
    },
    {
     "name": "stdout",
     "output_type": "stream",
     "text": [
      "📝 Ep81 train=0.1632 val=0.1365 dice=0.8243\n"
     ]
    },
    {
     "name": "stderr",
     "output_type": "stream",
     "text": [
      "Ep82/100 train: 100%|██████████| 41/41 [01:08<00:00,  1.67s/it]\n",
      "Ep82/100 val: 100%|██████████| 5/5 [00:07<00:00,  1.54s/it]\n"
     ]
    },
    {
     "name": "stdout",
     "output_type": "stream",
     "text": [
      "📝 Ep82 train=0.1553 val=0.1393 dice=0.7344\n"
     ]
    },
    {
     "name": "stderr",
     "output_type": "stream",
     "text": [
      "Ep83/100 train: 100%|██████████| 41/41 [01:08<00:00,  1.66s/it]\n",
      "Ep83/100 val: 100%|██████████| 5/5 [00:07<00:00,  1.48s/it]\n"
     ]
    },
    {
     "name": "stdout",
     "output_type": "stream",
     "text": [
      "📝 Ep83 train=0.1630 val=0.1736 dice=0.7827\n"
     ]
    },
    {
     "name": "stderr",
     "output_type": "stream",
     "text": [
      "Ep84/100 train: 100%|██████████| 41/41 [01:07<00:00,  1.66s/it]\n",
      "Ep84/100 val: 100%|██████████| 5/5 [00:07<00:00,  1.52s/it]\n"
     ]
    },
    {
     "name": "stdout",
     "output_type": "stream",
     "text": [
      "📝 Ep84 train=0.1437 val=0.1962 dice=0.7291\n"
     ]
    },
    {
     "name": "stderr",
     "output_type": "stream",
     "text": [
      "Ep85/100 train: 100%|██████████| 41/41 [01:07<00:00,  1.66s/it]\n",
      "Ep85/100 val: 100%|██████████| 5/5 [00:07<00:00,  1.48s/it]\n"
     ]
    },
    {
     "name": "stdout",
     "output_type": "stream",
     "text": [
      "📝 Ep85 train=0.1318 val=0.1304 dice=0.7324\n"
     ]
    },
    {
     "name": "stderr",
     "output_type": "stream",
     "text": [
      "Ep86/100 train: 100%|██████████| 41/41 [01:08<00:00,  1.67s/it]\n",
      "Ep86/100 val: 100%|██████████| 5/5 [00:07<00:00,  1.49s/it]\n"
     ]
    },
    {
     "name": "stdout",
     "output_type": "stream",
     "text": [
      "📝 Ep86 train=0.1627 val=0.1980 dice=0.7751\n"
     ]
    },
    {
     "name": "stderr",
     "output_type": "stream",
     "text": [
      "Ep87/100 train: 100%|██████████| 41/41 [01:07<00:00,  1.66s/it]\n",
      "Ep87/100 val: 100%|██████████| 5/5 [00:07<00:00,  1.50s/it]\n"
     ]
    },
    {
     "name": "stdout",
     "output_type": "stream",
     "text": [
      "📝 Ep87 train=0.1390 val=0.1068 dice=0.6319\n"
     ]
    },
    {
     "name": "stderr",
     "output_type": "stream",
     "text": [
      "Ep88/100 train: 100%|██████████| 41/41 [01:07<00:00,  1.65s/it]\n",
      "Ep88/100 val: 100%|██████████| 5/5 [00:07<00:00,  1.51s/it]\n"
     ]
    },
    {
     "name": "stdout",
     "output_type": "stream",
     "text": [
      "📝 Ep88 train=0.1453 val=0.1663 dice=0.7375\n"
     ]
    },
    {
     "name": "stderr",
     "output_type": "stream",
     "text": [
      "Ep89/100 train: 100%|██████████| 41/41 [01:07<00:00,  1.65s/it]\n",
      "Ep89/100 val: 100%|██████████| 5/5 [00:07<00:00,  1.48s/it]\n"
     ]
    },
    {
     "name": "stdout",
     "output_type": "stream",
     "text": [
      "📝 Ep89 train=0.1330 val=0.1248 dice=0.8115\n"
     ]
    },
    {
     "name": "stderr",
     "output_type": "stream",
     "text": [
      "Ep90/100 train: 100%|██████████| 41/41 [01:07<00:00,  1.64s/it]\n",
      "Ep90/100 val: 100%|██████████| 5/5 [00:07<00:00,  1.48s/it]\n"
     ]
    },
    {
     "name": "stdout",
     "output_type": "stream",
     "text": [
      "📝 Ep90 train=0.1432 val=0.2177 dice=0.7607\n"
     ]
    },
    {
     "name": "stderr",
     "output_type": "stream",
     "text": [
      "Ep91/100 train: 100%|██████████| 41/41 [01:07<00:00,  1.65s/it]\n",
      "Ep91/100 val: 100%|██████████| 5/5 [00:07<00:00,  1.48s/it]\n"
     ]
    },
    {
     "name": "stdout",
     "output_type": "stream",
     "text": [
      "📝 Ep91 train=0.1303 val=0.1907 dice=0.7998\n"
     ]
    },
    {
     "name": "stderr",
     "output_type": "stream",
     "text": [
      "Ep92/100 train: 100%|██████████| 41/41 [01:07<00:00,  1.64s/it]\n",
      "Ep92/100 val: 100%|██████████| 5/5 [00:07<00:00,  1.49s/it]\n"
     ]
    },
    {
     "name": "stdout",
     "output_type": "stream",
     "text": [
      "📝 Ep92 train=0.1421 val=0.1597 dice=0.7624\n"
     ]
    },
    {
     "name": "stderr",
     "output_type": "stream",
     "text": [
      "Ep93/100 train: 100%|██████████| 41/41 [01:07<00:00,  1.64s/it]\n",
      "Ep93/100 val: 100%|██████████| 5/5 [00:07<00:00,  1.51s/it]\n"
     ]
    },
    {
     "name": "stdout",
     "output_type": "stream",
     "text": [
      "📝 Ep93 train=0.1946 val=0.1634 dice=0.8115\n"
     ]
    },
    {
     "name": "stderr",
     "output_type": "stream",
     "text": [
      "Ep94/100 train: 100%|██████████| 41/41 [01:07<00:00,  1.65s/it]\n",
      "Ep94/100 val: 100%|██████████| 5/5 [00:07<00:00,  1.50s/it]\n"
     ]
    },
    {
     "name": "stdout",
     "output_type": "stream",
     "text": [
      "📝 Ep94 train=0.1496 val=0.1423 dice=0.6811\n"
     ]
    },
    {
     "name": "stderr",
     "output_type": "stream",
     "text": [
      "Ep95/100 train: 100%|██████████| 41/41 [01:07<00:00,  1.64s/it]\n",
      "Ep95/100 val: 100%|██████████| 5/5 [00:07<00:00,  1.47s/it]\n"
     ]
    },
    {
     "name": "stdout",
     "output_type": "stream",
     "text": [
      "📝 Ep95 train=0.1363 val=0.1685 dice=0.8252\n"
     ]
    },
    {
     "name": "stderr",
     "output_type": "stream",
     "text": [
      "Ep96/100 train: 100%|██████████| 41/41 [01:07<00:00,  1.64s/it]\n",
      "Ep96/100 val: 100%|██████████| 5/5 [00:07<00:00,  1.47s/it]\n"
     ]
    },
    {
     "name": "stdout",
     "output_type": "stream",
     "text": [
      "📝 Ep96 train=0.1372 val=0.1069 dice=0.8269\n"
     ]
    },
    {
     "name": "stderr",
     "output_type": "stream",
     "text": [
      "Ep97/100 train: 100%|██████████| 41/41 [01:07<00:00,  1.65s/it]\n",
      "Ep97/100 val: 100%|██████████| 5/5 [00:07<00:00,  1.48s/it]\n"
     ]
    },
    {
     "name": "stdout",
     "output_type": "stream",
     "text": [
      "📝 Ep97 train=0.1290 val=0.2102 dice=0.7577\n"
     ]
    },
    {
     "name": "stderr",
     "output_type": "stream",
     "text": [
      "Ep98/100 train: 100%|██████████| 41/41 [01:07<00:00,  1.65s/it]\n",
      "Ep98/100 val: 100%|██████████| 5/5 [00:07<00:00,  1.48s/it]\n"
     ]
    },
    {
     "name": "stdout",
     "output_type": "stream",
     "text": [
      "📝 Ep98 train=0.1363 val=0.1349 dice=0.7609\n"
     ]
    },
    {
     "name": "stderr",
     "output_type": "stream",
     "text": [
      "Ep99/100 train: 100%|██████████| 41/41 [01:07<00:00,  1.66s/it]\n",
      "Ep99/100 val: 100%|██████████| 5/5 [00:07<00:00,  1.49s/it]\n"
     ]
    },
    {
     "name": "stdout",
     "output_type": "stream",
     "text": [
      "📝 Ep99 train=0.1344 val=0.1434 dice=0.8027\n"
     ]
    },
    {
     "name": "stderr",
     "output_type": "stream",
     "text": [
      "Ep100/100 train: 100%|██████████| 41/41 [01:04<00:00,  1.56s/it]\n",
      "Ep100/100 val: 100%|██████████| 5/5 [00:06<00:00,  1.39s/it]"
     ]
    },
    {
     "name": "stdout",
     "output_type": "stream",
     "text": [
      "📝 Ep100 train=0.1526 val=0.1442 dice=0.8746\n",
      "  👑  Saved best model (dice 0.8746)\n"
     ]
    },
    {
     "name": "stderr",
     "output_type": "stream",
     "text": [
      "\n"
     ]
    }
   ],
   "source": [
    "# train_unet4ch.py\n",
    "import os, csv, random, argparse\n",
    "import numpy as np\n",
    "from PIL import Image\n",
    "from tqdm.auto import tqdm\n",
    "import torch, torchvision\n",
    "from torch import nn\n",
    "from torch.utils.data import Dataset, DataLoader\n",
    "#from model import UNet11_4ch                 # ★★ 改成 4ch 版本\n",
    "\n",
    "# ---------------- Dataset ----------------\n",
    "class AerialPatchDataset4C(Dataset):\n",
    "    \"\"\"\n",
    "    root/\n",
    "     ├─ images/        austin1.tif ...\n",
    "     ├─ depth_images/  austin1_depth.png / tif / jpg ...\n",
    "     └─ gt/            austin1.tif (遮罩，與 images 同名)\n",
    "    \"\"\"\n",
    "    COMMON_EXTS = [\".png\", \".jpg\", \".jpeg\", \".tif\", \".tiff\"]\n",
    "\n",
    "    def __init__(self, root, crop=256):\n",
    "        self.crop      = crop\n",
    "        self.img_dir   = os.path.join(root, \"images\")\n",
    "        self.depth_dir = os.path.join(root, \"depth_images\")\n",
    "        self.mask_dir  = os.path.join(root, \"gt\")\n",
    "\n",
    "        self.names     = sorted(os.listdir(self.img_dir))           # ex: austin1.tif\n",
    "        self.depth_map = self._build_depth_map()                    # ★★ 建對應表\n",
    "\n",
    "        self.mean = torch.tensor([0.485,0.456,0.406,0.5]).view(4,1,1)\n",
    "        self.std  = torch.tensor([0.229,0.224,0.225,0.5]).view(4,1,1)\n",
    "\n",
    "    # ----------  新增：掃描 depth_images ----------\n",
    "    def _build_depth_map(self):\n",
    "        depth_files = os.listdir(self.depth_dir)\n",
    "        depth_dict  = {}\n",
    "        for f in depth_files:\n",
    "            stem, ext = os.path.splitext(f)\n",
    "            if stem.endswith(\"_depth\"):\n",
    "                base = stem[:-6]                    # 去掉 \"_depth\"\n",
    "                depth_dict[base] = f\n",
    "        return depth_dict                           # {austin1: austin1_depth.png}\n",
    "\n",
    "    def __len__(self): return len(self.names)\n",
    "\n",
    "    def _random_crop(self, img, depth, msk):\n",
    "        h, w = img.shape[:2]; ch = cw = self.crop\n",
    "        top  = random.randint(0, h - ch); left = random.randint(0, w - cw)\n",
    "        return (arr[top:top+ch, left:left+cw] for arr in (img, depth, msk))\n",
    "\n",
    "    def __getitem__(self, idx):\n",
    "        name = self.names[idx]                      # austin1.tif\n",
    "        stem, ext = os.path.splitext(name)          # austin1, .tif\n",
    "        try:\n",
    "            # --- 找對應的深度圖檔名 ---\n",
    "            if stem in self.depth_map:\n",
    "                depth_fname = self.depth_map[stem]\n",
    "            else:\n",
    "                # 保險：按副檔名猜測\n",
    "                depth_fname = None\n",
    "                for ex in [ext] + self.COMMON_EXTS:\n",
    "                    cand = f\"{stem}_depth{ex}\"\n",
    "                    if os.path.exists(os.path.join(self.depth_dir, cand)):\n",
    "                        depth_fname = cand; break\n",
    "                if depth_fname is None:\n",
    "                    raise FileNotFoundError(f\"找不到 {stem}_depth.*\")\n",
    "\n",
    "            # --- 讀檔 ---\n",
    "            rgb   = Image.open(os.path.join(self.img_dir,   name)).convert(\"RGB\")\n",
    "            depth = Image.open(os.path.join(self.depth_dir, depth_fname)).convert(\"L\")\n",
    "            msk   = Image.open(os.path.join(self.mask_dir,  name)).convert(\"L\")\n",
    "\n",
    "            rgb   = np.asarray(rgb)\n",
    "            depth = np.asarray(depth)[..., None]              # H×W×1\n",
    "            msk   = (np.asarray(msk) // 255).astype(np.uint8)\n",
    "\n",
    "            rgb, depth, msk = self._random_crop(rgb, depth, msk)\n",
    "\n",
    "            # --- to tensor ---\n",
    "            rgb   = torch.from_numpy(rgb).permute(2,0,1).float() / 255.0\n",
    "            depth = torch.from_numpy(depth).permute(2,0,1).float() / 255.0\n",
    "            img4  = torch.cat([rgb, depth], 0)                # 4×H×W\n",
    "            img4  = (img4 - self.mean) / self.std\n",
    "            msk   = torch.from_numpy(msk).float().unsqueeze(0)\n",
    "            return img4, msk\n",
    "\n",
    "        except Exception as e:\n",
    "            print(f\"❌ [錯誤] {name}: {e}\")\n",
    "            return (torch.zeros(4, self.crop, self.crop),\n",
    "                    torch.zeros(1, self.crop, self.crop))\n",
    "\n",
    "# ---------------- Metric -----------------\n",
    "def dice_coef(pred, target, eps=1e-7):\n",
    "    pred = (torch.sigmoid(pred) > 0.5).float()\n",
    "    inter = (pred * target).sum((1,2,3))\n",
    "    union = pred.sum((1,2,3)) + target.sum((1,2,3))\n",
    "    return ((2*inter+eps)/(union+eps)).mean()\n",
    "\n",
    "# ---------------- Train ------------------\n",
    "def main(args):\n",
    "    torch.multiprocessing.set_start_method('spawn', force=True)\n",
    "    device = torch.device(\"cuda\" if torch.cuda.is_available() else \"cpu\")\n",
    "    print(\"🚀 Device:\", device)\n",
    "\n",
    "    root = r\"E:\\論文\\空拍地圖語意分割\\Depth4UNet\\AerialImageDataset\\train\"\n",
    "    if not os.path.exists(root):\n",
    "        print(f\"❌ 找不到資料目錄 {root}\"); return\n",
    "\n",
    "    data = AerialPatchDataset4C(root, crop=args.crop)\n",
    "    print(f\"📊 共 {len(data)} 張影像\")\n",
    "    v = int(0.1*len(data))\n",
    "    train_ds, val_ds = torch.utils.data.random_split(data, [len(data)-v, v])\n",
    "\n",
    "    def loader(ds, shf): return DataLoader(\n",
    "        ds, batch_size=args.bs, shuffle=shf,\n",
    "        num_workers=0, pin_memory=False, persistent_workers=False)\n",
    "\n",
    "    train_ld, val_ld = loader(train_ds, True), loader(val_ds, False)\n",
    "\n",
    "    model = UNet11_4ch(pretrained=True).to(device)      # ★★\n",
    "    crit  = nn.BCEWithLogitsLoss()\n",
    "    opt   = torch.optim.Adam(model.parameters(), lr=args.lr)\n",
    "    scaler= torch.amp.GradScaler(device.type)\n",
    "\n",
    "    best = 0; os.makedirs(\"checkpoints\", exist_ok=True)\n",
    "    with open(\"metrics.csv\",\"w\",newline=\"\") as f:\n",
    "        csv.writer(f).writerow([\"epoch\",\"train_loss\",\"val_loss\",\"dice\"])\n",
    "\n",
    "    for ep in range(1, args.epochs+1):\n",
    "        # ---- train ----\n",
    "        model.train(); tr_loss=0; n_tr=0\n",
    "        for img,msk in tqdm(train_ld, desc=f\"Ep{ep}/{args.epochs} train\"):\n",
    "            img,msk = img.to(device), msk.to(device)\n",
    "            with torch.amp.autocast(device.type):\n",
    "                pred = model(img); loss = crit(pred, msk)\n",
    "            opt.zero_grad(); scaler.scale(loss).backward()\n",
    "            scaler.step(opt); scaler.update()\n",
    "            tr_loss += loss.item(); n_tr += 1\n",
    "\n",
    "        # ---- val ----\n",
    "        model.eval(); vl_loss=0; dices=[]; n_v=0\n",
    "        with torch.no_grad():\n",
    "            for img,msk in tqdm(val_ld, desc=f\"Ep{ep}/{args.epochs} val\"):\n",
    "                img,msk = img.to(device), msk.to(device)\n",
    "                with torch.amp.autocast(device.type):\n",
    "                    pred = model(img); loss = crit(pred, msk)\n",
    "                vl_loss += loss.item(); dices.append(dice_coef(pred, msk).item()); n_v += 1\n",
    "\n",
    "        tr_loss /= max(n_tr,1); vl_loss /= max(n_v,1); dice = np.mean(dices) if dices else 0\n",
    "        print(f\"📝 Ep{ep} train={tr_loss:.4f} val={vl_loss:.4f} dice={dice:.4f}\")\n",
    "        with open(\"metrics.csv\",\"a\",newline=\"\") as f:\n",
    "            csv.writer(f).writerow([ep,tr_loss,vl_loss,dice])\n",
    "\n",
    "        if dice > best:\n",
    "            best = dice\n",
    "            torch.save(model.state_dict(), \"checkpoints/best_unet4ch(GELU).pth\")\n",
    "            print(f\"  👑  Saved best model (dice {best:.4f})\")\n",
    "\n",
    "# ---------------- Run --------------------\n",
    "if __name__ == \"__main__\":\n",
    "    args = argparse.Namespace(epochs=100, bs=4, lr=1e-4, crop=256)\n",
    "    main(args)\n"
   ]
  },
  {
   "cell_type": "code",
   "execution_count": null,
   "id": "54e54748",
   "metadata": {},
   "outputs": [
    {
     "name": "stderr",
     "output_type": "stream",
     "text": [
      "usage: ipykernel_launcher.py [-h] --ckpt CKPT --data-root DATA_ROOT [--bs BS]\n",
      "                             [--crop CROP] [--val-ratio VAL_RATIO]\n",
      "ipykernel_launcher.py: error: the following arguments are required: --ckpt, --data-root\n"
     ]
    },
    {
     "ename": "SystemExit",
     "evalue": "2",
     "output_type": "error",
     "traceback": [
      "An exception has occurred, use %tb to see the full traceback.\n",
      "\u001b[1;31mSystemExit\u001b[0m\u001b[1;31m:\u001b[0m 2\n"
     ]
    },
    {
     "name": "stderr",
     "output_type": "stream",
     "text": [
      "c:\\Users\\op237\\miniconda3\\envs\\Depth4UNet\\lib\\site-packages\\IPython\\core\\interactiveshell.py:3516: UserWarning: To exit: use 'exit', 'quit', or Ctrl-D.\n",
      "  warn(\"To exit: use 'exit', 'quit', or Ctrl-D.\", stacklevel=1)\n"
     ]
    }
   ],
   "source": [
    "# %% [markdown]\n",
    "# # Evaluate **UNet11_4ch** & Plot Precision-Recall Curve\n",
    "#\n",
    "# 1. 先設定 `CKPT_PATH` 與 `DATA_ROOT`  \n",
    "# 2. Run all cells / 執行整支 script  \n",
    "# 3. 會列出 matched layers、計算 PR 曲線與 AP，並存出\n",
    "#    * `pr_curve.png`\n",
    "#    * `val_pred.npz`\n",
    "\n",
    "# %% [markdown]\n",
    "# ## （可選）安裝相依套件\n",
    "# 如果缺 `scikit-learn` / `matplotlib`，取消註解以下一行安裝\n",
    "# !pip install scikit-learn matplotlib tqdm\n",
    "\n",
    "# %% Imports & helpers\n",
    "import os, torch, numpy as np, matplotlib.pyplot as plt\n",
    "from tqdm.auto import tqdm\n",
    "from sklearn.metrics import precision_recall_curve, average_precision_score\n",
    "\n",
    "# ---- 匯入你的模型與 Dataset ----\n",
    "from model import UNet11_4ch\n",
    "from train_unet4ch import AerialPatchDataset4C\n",
    "\n",
    "def load_ckpt(model, ckpt_path, label=\"UNet4ch\"):\n",
    "    \"\"\"安全載入權重並回報相符層數\"\"\"\n",
    "    ckpt = torch.load(ckpt_path, map_location=\"cpu\")\n",
    "    model_state = model.state_dict()\n",
    "    compatible = {k: v for k, v in ckpt.items()\n",
    "                  if k in model_state and v.shape == model_state[k].shape}\n",
    "    model_state.update(compatible)\n",
    "    model.load_state_dict(model_state)\n",
    "    print(f\"{label}: matched {len(compatible)} / {len(model_state)} layers\")\n",
    "    return model\n",
    "\n",
    "# %% 🔧 路徑與參數（請修改這裡）\n",
    "CKPT_PATH  = r\"checkpoints/best_unet4ch(GELU).pth\"  # ← 你的 checkpoint\n",
    "DATA_ROOT  = r\"E:\\論文\\空拍地圖語意分割\\Depth4UNet\\AerialImageDataset\\train\"  # ← 資料集根目錄\n",
    "BATCH_SIZE = 4\n",
    "CROP_SIZE  = 256\n",
    "VAL_RATIO  = 0.10\n",
    "\n",
    "device = torch.device(\"cuda\" if torch.cuda.is_available() else \"cpu\")\n",
    "print(\"🚀 Device:\", device)\n",
    "\n",
    "# %% Dataset & DataLoader\n",
    "ds = AerialPatchDataset4C(DATA_ROOT, crop=CROP_SIZE)\n",
    "val_len = int(len(ds) * VAL_RATIO)\n",
    "_, val_ds = torch.utils.data.random_split(ds, [len(ds) - val_len, val_len])\n",
    "\n",
    "val_ld = torch.utils.data.DataLoader(\n",
    "    val_ds, batch_size=BATCH_SIZE, shuffle=False,\n",
    "    num_workers=0, pin_memory=False)\n",
    "\n",
    "# %% Model\n",
    "model = UNet11_4ch(pretrained=False).to(device)\n",
    "model = load_ckpt(model, CKPT_PATH)\n",
    "\n",
    "# %% Inference: collect y_true / y_score\n",
    "model.eval()\n",
    "y_true, y_score = [], []\n",
    "with torch.no_grad():\n",
    "    for img, msk in tqdm(val_ld, desc=\"Infer val\"):\n",
    "        img = img.to(device)\n",
    "        prob = model(img).sigmoid().cpu()   # (B,1,H,W) 機率\n",
    "        y_score.append(prob.flatten())\n",
    "        y_true.append(msk.flatten())\n",
    "\n",
    "y_true  = torch.cat(y_true).numpy()\n",
    "y_score = torch.cat(y_score).numpy()\n",
    "print(f\"Collected {y_true.shape[0]:,} pixels for evaluation\")\n",
    "\n",
    "# %% PR curve & Average Precision\n",
    "precision, recall, _ = precision_recall_curve(y_true, y_score)\n",
    "ap = average_precision_score(y_true, y_score)\n",
    "print(f\"Average Precision = {ap:.4f}\")\n",
    "\n",
    "# %% Plot & save\n",
    "plt.figure()\n",
    "plt.plot(recall, precision)\n",
    "plt.xlabel(\"Recall\")\n",
    "plt.ylabel(\"Precision\")\n",
    "plt.title(f\"PR Curve (AP = {ap:.4f})\")\n",
    "plt.grid()\n",
    "plt.tight_layout()\n",
    "plt.savefig(\"pr_curve.png\")\n",
    "print(\"📈  Saved pr_curve.png\")\n",
    "\n",
    "# Save raw arrays\n",
    "np.savez_compressed(\"val_pred.npz\", y_true=y_true, y_score=y_score)\n",
    "print(\"💾  Saved val_pred.npz\")\n"
   ]
  },
  {
   "cell_type": "code",
   "execution_count": null,
   "id": "83cb8def",
   "metadata": {},
   "outputs": [
    {
     "name": "stdout",
     "output_type": "stream",
     "text": [
      "✅ dice_by_epoch.csv  已寫出\n",
      "✅ pr_curve.csv       已寫出\n",
      "✅ loss_curve.png     已寫出\n",
      "✅ conf_matrix.png    已寫出\n"
     ]
    },
    {
     "data": {
      "image/png": "[encoded data removed]",
      "text/plain": [
       "<Figure size 640x480 with 1 Axes>"
      ]
     },
     "metadata": {},
     "output_type": "display_data"
    },
    {
     "data": {
      "image/png": "[encoded data removed]",
      "text/plain": [
       "<Figure size 640x480 with 1 Axes>"
      ]
     },
     "metadata": {},
     "output_type": "display_data"
    },
    {
     "data": {
      "image/png": "[encoded data removed]",
      "text/plain": [
       "<Figure size 640x480 with 1 Axes>"
      ]
     },
     "metadata": {},
     "output_type": "display_data"
    },
    {
     "data": {
      "image/png": "[encoded data removed]",
      "text/plain": [
       "<Figure size 640x480 with 1 Axes>"
      ]
     },
     "metadata": {},
     "output_type": "display_data"
    }
   ],
   "source": [
    "import csv, numpy as np\n",
    "\n",
    "# === 讀入你先前程式已算好的資料 ===\n",
    "metrics_csv = \"metrics.csv\"\n",
    "val_pred_npz = \"val_pred.npz\"\n",
    "\n",
    "# ── 1. Dice-by-epoch  ───────────────────────────────────────────────\n",
    "epochs, dice = [], []\n",
    "with open(metrics_csv, newline=\"\") as f:\n",
    "    for row in csv.DictReader(f):\n",
    "        epochs.append(int(row[\"epoch\"]))\n",
    "        dice.append(float(row[\"dice\"]))\n",
    "\n",
    "with open(\"dice_by_epoch.csv\", \"w\", newline=\"\") as f:\n",
    "    w = csv.writer(f)\n",
    "    w.writerow([\"epoch\", \"dice\"])\n",
    "    w.writerows(zip(epochs, dice))\n",
    "print(\"✅ dice_by_epoch.csv  已寫出\")\n",
    "plt.figure()\n",
    "plt.plot(epochs, dice, marker='o')\n",
    "plt.xlabel(\"epoch\"); plt.ylabel(\"dice coefficient\")\n",
    "plt.title(\"Dice Coefficient by Epoch\")\n",
    "plt.grid(); plt.tight_layout()\n",
    "plt.savefig(\"dice_curve.png\")\n",
    "\n",
    "# ── 2. Precision-Recall 曲線  ───────────────────────────────────────\n",
    "dat = np.load(val_pred_npz)\n",
    "y_true, y_score = dat[\"y_true\"], dat[\"y_score\"]\n",
    "\n",
    "from sklearn.metrics import precision_recall_curve\n",
    "precision, recall, thresholds = precision_recall_curve(y_true, y_score)\n",
    "\n",
    "# precision, recall 長度 = len(thresholds)+1，為了對齊，先手動補最後一個門檻值 1.0\n",
    "thresholds = np.append(thresholds, 1.0)\n",
    "\n",
    "with open(\"pr_curve.csv\", \"w\", newline=\"\") as f:\n",
    "    w = csv.writer(f)\n",
    "    w.writerow([\"threshold\", \"recall\", \"precision\"])\n",
    "    w.writerows(zip(thresholds, recall, precision))\n",
    "print(\"✅ pr_curve.csv       已寫出\")\n",
    "plt.figure()\n",
    "plt.plot(recall, precision, marker='o')\n",
    "plt.xlabel(\"Recall\"); plt.ylabel(\"Precision\")\n",
    "plt.title(\"Precision-Recall Curve\")\n",
    "plt.grid(); plt.tight_layout()\n",
    "plt.savefig(\"pr_curve.png\")\n",
    "# === 3. Loss Curve ────────────────────────────────────────────────\n",
    "import matplotlib.pyplot as plt\n",
    "\n",
    "# 如果 metrics.csv 還有 train_loss / val_loss 欄，讀進來：\n",
    "train_loss, val_loss = [], []\n",
    "with open(metrics_csv, newline=\"\") as f:\n",
    "    for row in csv.DictReader(f):\n",
    "        train_loss.append(float(row[\"train_loss\"]))\n",
    "        val_loss.append(float(row[\"val_loss\"]))\n",
    "\n",
    "plt.figure()\n",
    "plt.plot(epochs, train_loss, label=\"train loss\")\n",
    "plt.plot(epochs, val_loss,  label=\"val loss\")\n",
    "plt.xlabel(\"epoch\"); plt.ylabel(\"loss\"); plt.title(\"Loss Curve\")\n",
    "plt.grid(); plt.legend()\n",
    "plt.tight_layout()\n",
    "plt.savefig(\"loss_curve.png\")\n",
    "print(\"✅ loss_curve.png     已寫出\")\n",
    "\n",
    "# === 4. Confusion Matrix ──────────────────────────────────────────\n",
    "from sklearn.metrics import confusion_matrix, ConfusionMatrixDisplay\n",
    "\n",
    "# 以固定門檻 0.5 取 y_pred；如要用最佳 F1 門檻可自行替換\n",
    "y_pred = (y_score >= 0.5).astype(int)\n",
    "\n",
    "cm = confusion_matrix(y_true, y_pred, labels=[0,1])   # [[TN, FP], [FN, TP]]\n",
    "\n",
    "fig, ax = plt.subplots()\n",
    "disp = ConfusionMatrixDisplay(cm, display_labels=[\"background\", \"building\"])  # 按你的類別改\n",
    "disp.plot(cmap=None, ax=ax, colorbar=False)  # 不指定 color 以符合預設\n",
    "ax.set_title(\"Confusion Matrix @ threshold 0.5\")\n",
    "plt.tight_layout()\n",
    "fig.savefig(\"conf_matrix.png\")\n",
    "print(\"✅ conf_matrix.png    已寫出\")\n"
   ]
  },
  {
   "cell_type": "code",
   "execution_count": null,
   "id": "d0ed2293",
   "metadata": {},
   "outputs": [
    {
     "name": "stdout",
     "output_type": "stream",
     "text": [
      "🚀 Using device: cuda\n"
     ]
    },
    {
     "name": "stderr",
     "output_type": "stream",
     "text": [
      "c:\\Users\\op237\\miniconda3\\envs\\Depth4UNet\\lib\\site-packages\\torchvision\\models\\_utils.py:208: UserWarning: The parameter 'pretrained' is deprecated since 0.13 and may be removed in the future, please use 'weights' instead.\n",
      "  warnings.warn(\n",
      "c:\\Users\\op237\\miniconda3\\envs\\Depth4UNet\\lib\\site-packages\\torchvision\\models\\_utils.py:223: UserWarning: Arguments other than a weight enum or `None` for 'weights' are deprecated since 0.13 and may be removed in the future. The current behavior is equivalent to passing `weights=None`.\n",
      "  warnings.warn(msg)\n",
      "C:\\Users\\op237\\AppData\\Local\\Temp\\ipykernel_21292\\2759003785.py:38: FutureWarning: You are using `torch.load` with `weights_only=False` (the current default value), which uses the default pickle module implicitly. It is possible to construct malicious pickle data which will execute arbitrary code during unpickling (See https://github.com/pytorch/pytorch/blob/main/SECURITY.md#untrusted-models for more details). In a future release, the default value for `weights_only` will be flipped to `True`. This limits the functions that could be executed during unpickling. Arbitrary objects will no longer be allowed to be loaded via this mode unless they are explicitly allowlisted by the user via `torch.serialization.add_safe_globals`. We recommend you start setting `weights_only=True` for any use case where you don't have full control of the loaded file. Please open an issue on GitHub for any issues related to this experimental feature.\n",
      "  model.load_state_dict(torch.load(CKPT_PATH, map_location=DEVICE))\n"
     ]
    },
    {
     "name": "stdout",
     "output_type": "stream",
     "text": [
      "📥 Loading images …\n",
      "📐 Image size: 5000×5000\n",
      "🔍 Starting prediction…\n",
      "🖼️ Image is large, using sliding window prediction…\n",
      "🔄 Processing 81 windows…\n",
      "  Progress: 10/81 (12.3%)\n",
      "  Progress: 20/81 (24.7%)\n",
      "  Progress: 30/81 (37.0%)\n",
      "  Progress: 40/81 (49.4%)\n",
      "  Progress: 50/81 (61.7%)\n",
      "  Progress: 60/81 (74.1%)\n",
      "  Progress: 70/81 (86.4%)\n",
      "  Progress: 80/81 (98.8%)\n",
      "  Progress: 81/81 (100.0%)\n",
      "✅ Saved blended result: E:\\論文\\空拍地圖語意分割\\Depth4UNet\\AerialImageDataset\\test\\images\\bellingham1_RGBD_pred.png\n",
      "✅ Saved mask: E:\\論文\\空拍地圖語意分割\\Depth4UNet\\AerialImageDataset\\test\\images\\bellingham1_RGBD_mask.png\n",
      "🎉 Prediction completed!\n"
     ]
    }
   ],
   "source": [
    "# ------------------ Demo Predict (RGB + Depth，滑窗版 1024×1024) ------------------\n",
    "\"\"\"\n",
    "此腳本示範如何對 **RGB 圖 + 單通道深度圖** 進行語意分割推論。\n",
    "假設模型輸入為 4 通道（RGB→3 + Depth→1）。\n",
    "\"\"\"\n",
    "import os\n",
    "from typing import Tuple, List\n",
    "\n",
    "import numpy as np\n",
    "from PIL import Image\n",
    "\n",
    "import torch\n",
    "import torch.nn.functional as F\n",
    "import torchvision\n",
    "\n",
    "# ------------------------------------------------------------\n",
    "# ⚙️ 1. 手動設定\n",
    "# ------------------------------------------------------------\n",
    "RGB_PATH   = r\"E:\\論文\\空拍地圖語意分割\\Depth4UNet\\AerialImageDataset\\test\\images\\bellingham1.tif\"      # 三通道 RGB 影像\n",
    "DEPTH_PATH = r\"E:\\論文\\空拍地圖語意分割\\Depth4UNet\\depth\\bellingham1_depth.png\"    # 對應深度圖 (單通道 or 16‑bit)\n",
    "CKPT_PATH  = r\"E:\\論文\\空拍地圖語意分割\\Depth4UNet\\checkpoints\\best_unet4ch(GELU_Inverted Bottleneck).pth\"\n",
    "\n",
    "WINDOW_SIZE = 1024  # 滑窗大小\n",
    "STRIDE      = 512   # 滑窗步長（50% 重疊，減少邊界效應）\n",
    "\n",
    "# ------------------------------------------------------------\n",
    "# ⚙️ 2. 運算裝置\n",
    "# ------------------------------------------------------------\n",
    "DEVICE = torch.device(\"cuda\" if torch.cuda.is_available() else \"cpu\")\n",
    "print(\"🚀 Using device:\", DEVICE)\n",
    "\n",
    "# ------------------------------------------------------------\n",
    "# ⚙️ 3. 載入模型（UNet11_4ch，RGBD → 1 類）\n",
    "# ------------------------------------------------------------\n",
    "#from model import UNet11_4ch  # 若想換 UNet16_4ch，這裡替換即可\n",
    "\n",
    "model = UNet11_4ch(pretrained=False).to(DEVICE).eval()\n",
    "model.load_state_dict(torch.load(CKPT_PATH, map_location=DEVICE))\n",
    "\n",
    "# ------------------------------------------------------------\n",
    "# ⚙️ 4. 影像讀取\n",
    "# ------------------------------------------------------------\n",
    "print(\"📥 Loading images …\")\n",
    "# 讀取 RGB（H×W×3，uint8）\n",
    "rgb_img = Image.open(RGB_PATH).convert(\"RGB\")\n",
    "# 讀取 Depth（H×W 單通道）；自動轉成 8‑bit 再正規化 0–1\n",
    "raw_depth = Image.open(DEPTH_PATH)\n",
    "if raw_depth.mode != \"L\":  # 16‑bit or 32‑bit\n",
    "    depth_np = np.array(raw_depth, dtype=np.float32)\n",
    "    # 依整張圖做 min‑max → 0‑255 再轉 uint8（便於與 RGB 同步前處理）\n",
    "    depth_np = 255.0 * (depth_np - depth_np.min()) / max(depth_np.ptp(), 1e-6)\n",
    "    depth_img = Image.fromarray(depth_np.astype(np.uint8))\n",
    "else:\n",
    "    depth_img = raw_depth\n",
    "\n",
    "W, H = rgb_img.size\n",
    "print(f\"📐 Image size: {W}×{H}\")\n",
    "\n",
    "# ------------------------------------------------------------\n",
    "# ⚙️ 5. 前處理函式\n",
    "# ------------------------------------------------------------\n",
    "# 針對 RGB 的 torchvision 標準化 (ImageNet)\n",
    "_rgb_tf = torchvision.transforms.Compose([\n",
    "    torchvision.transforms.ToTensor(),\n",
    "    torchvision.transforms.Normalize([0.485, 0.456, 0.406],\n",
    "                                     [0.229, 0.224, 0.225])\n",
    "])\n",
    "\n",
    "# Depth → Tensor (0–1) 直接線性拉伸；不做均值方差正規化（依照你訓練時的做法調整）\n",
    "_depth_tf = torchvision.transforms.ToTensor()  # 會得到 0–1 float32\n",
    "\n",
    "\n",
    "def preprocess_patch(rgb_patch: Image.Image, depth_patch: Image.Image) -> torch.Tensor:\n",
    "    \"\"\"將 RGB 與 Depth patch 轉為 (1,4,H,W) Tensor 並 pad 到 32 倍數\"\"\"\n",
    "    t_rgb   = _rgb_tf(rgb_patch)\n",
    "    t_depth = _depth_tf(depth_patch)  # shape (1,H,W)\n",
    "    tensor  = torch.cat([t_rgb, t_depth], dim=0).unsqueeze(0).to(DEVICE)  # (1,4,H,W)\n",
    "    return tensor\n",
    "\n",
    "\n",
    "# ------------------------------------------------------------\n",
    "# ⚙️ 6. Pad‑to‑32 工具\n",
    "# ------------------------------------------------------------\n",
    "\n",
    "def pad32(x: torch.Tensor) -> Tuple[torch.Tensor, int, int]:\n",
    "    \"\"\"Pad tensor (N,C,H,W) 到 32 的倍數，回傳 pad 後 tensor 與 pady、padx\"\"\"\n",
    "    _, _, h, w = x.shape\n",
    "    ph = (32 - h % 32) % 32\n",
    "    pw = (32 - w % 32) % 32\n",
    "    return F.pad(x, (0, pw, 0, ph)), ph, pw\n",
    "\n",
    "\n",
    "# ------------------------------------------------------------\n",
    "# ⚙️ 7. 小圖直接預測\n",
    "# ------------------------------------------------------------\n",
    "\n",
    "def direct_predict(rgb_np: np.ndarray, depth_np: np.ndarray) -> np.ndarray:\n",
    "    print(\"📸 Image is small, using direct prediction…\")\n",
    "    rgb_pil   = Image.fromarray(rgb_np)\n",
    "    depth_pil = Image.fromarray(depth_np)\n",
    "\n",
    "    tensor_img = preprocess_patch(rgb_pil, depth_pil)\n",
    "    tensor_pad, ph, pw = pad32(tensor_img)\n",
    "\n",
    "    with torch.no_grad():\n",
    "        logits = model(tensor_pad)\n",
    "        if ph or pw:\n",
    "            logits = logits[..., : logits.shape[-2] - ph, : logits.shape[-1] - pw]\n",
    "        prob = torch.sigmoid(logits)[0, 0].cpu().numpy()\n",
    "    return prob\n",
    "\n",
    "\n",
    "# ------------------------------------------------------------\n",
    "# ⚙️ 8. 滑窗預測\n",
    "# ------------------------------------------------------------\n",
    "\n",
    "def sliding_window_predict(rgb_np: np.ndarray, depth_np: np.ndarray,\n",
    "                           window: int, stride: int) -> np.ndarray:\n",
    "    H, W, _ = rgb_np.shape\n",
    "\n",
    "    # 若圖片小於滑窗，直接預測\n",
    "    if H <= window and W <= window:\n",
    "        return direct_predict(rgb_np, depth_np)\n",
    "\n",
    "    print(\"🖼️ Image is large, using sliding window prediction…\")\n",
    "\n",
    "    out_mask = np.zeros((H, W), dtype=np.float32)\n",
    "    weight   = np.zeros((H, W), dtype=np.float32)\n",
    "\n",
    "    y_pos = list(range(0, max(1, H - window + 1), stride))\n",
    "    x_pos = list(range(0, max(1, W - window + 1), stride))\n",
    "\n",
    "    if y_pos[-1] + window < H:\n",
    "        y_pos.append(H - window)\n",
    "    if x_pos[-1] + window < W:\n",
    "        x_pos.append(W - window)\n",
    "\n",
    "    total = len(y_pos) * len(x_pos)\n",
    "    print(f\"🔄 Processing {total} windows…\")\n",
    "\n",
    "    idx = 0\n",
    "    for y in y_pos:\n",
    "        for x in x_pos:\n",
    "            idx += 1\n",
    "            y_end, x_end = y + window, x + window\n",
    "            rgb_win   = rgb_np[y: y_end, x: x_end]\n",
    "            depth_win = depth_np[y: y_end, x: x_end]\n",
    "\n",
    "            # 若邊界不足則 pad 至 window\n",
    "            if rgb_win.shape[0] < window or rgb_win.shape[1] < window:\n",
    "                pad_rgb   = np.zeros((window, window, 3), dtype=np.uint8)\n",
    "                pad_depth = np.zeros((window, window), dtype=np.uint8)\n",
    "                pad_rgb[: rgb_win.shape[0], : rgb_win.shape[1], :]   = rgb_win\n",
    "                pad_depth[: depth_win.shape[0], : depth_win.shape[1]] = depth_win\n",
    "                rgb_win, depth_win = pad_rgb, pad_depth\n",
    "\n",
    "            tensor_pad, ph, pw = pad32(preprocess_patch(Image.fromarray(rgb_win),\n",
    "                                                        Image.fromarray(depth_win)))\n",
    "            with torch.no_grad():\n",
    "                logits = model(tensor_pad)\n",
    "                if ph or pw:\n",
    "                    logits = logits[..., : logits.shape[-2] - ph, : logits.shape[-1] - pw]\n",
    "                prob = torch.sigmoid(logits)[0, 0].cpu().numpy()\n",
    "\n",
    "                # 若邊界 pad → 裁回原大小\n",
    "                prob = prob[: rgb_win.shape[0], : rgb_win.shape[1]]\n",
    "\n",
    "            out_mask[y: y_end, x: x_end] += prob[: y_end - y, : x_end - x]\n",
    "            weight[y: y_end, x: x_end]   += 1.0\n",
    "\n",
    "            if idx % 10 == 0 or idx == total:\n",
    "                print(f\"  Progress: {idx}/{total} ({idx / total * 100:.1f}%)\")\n",
    "\n",
    "    return np.divide(out_mask, weight, out=np.zeros_like(out_mask), where=weight != 0)\n",
    "\n",
    "\n",
    "# ------------------------------------------------------------\n",
    "# ⚙️ 9. 執行預測\n",
    "# ------------------------------------------------------------\n",
    "print(\"🔍 Starting prediction…\")\n",
    "\n",
    "rgb_np   = np.array(rgb_img)\n",
    "depth_np = np.array(depth_img)\n",
    "\n",
    "prob_mask = sliding_window_predict(rgb_np, depth_np, WINDOW_SIZE, STRIDE)\n",
    "\n",
    "# ------------------------------------------------------------\n",
    "# ⚙️ 10. 後處理與儲存\n",
    "# ------------------------------------------------------------\n",
    "THRESH = 0.5\n",
    "binary = (prob_mask > THRESH).astype(np.uint8) * 255\n",
    "\n",
    "mask_rgb = np.zeros((*binary.shape, 3), dtype=np.uint8)\n",
    "mask_rgb[..., 1] = binary  # 綠色\n",
    "\n",
    "blend = Image.blend(rgb_img, Image.fromarray(mask_rgb), alpha=0.4)\n",
    "\n",
    "out_base = os.path.splitext(RGB_PATH)[0]\n",
    "blend.save(out_base + \"_RGBD_pred.png\")\n",
    "Image.fromarray(binary).save(out_base + \"_RGBD_mask.png\")\n",
    "\n",
    "print(\"✅ Saved blended result:\", out_base + \"_RGBD_pred.png\")\n",
    "print(\"✅ Saved mask:\", out_base + \"_RGBD_mask.png\")\n",
    "print(\"🎉 Prediction completed!\")\n"
   ]
  }
 ],
 "metadata": {
  "kernelspec": {
   "display_name": "Depth4UNet",
   "language": "python",
   "name": "python3"
  },
  "language_info": {
   "codemirror_mode": {
    "name": "ipython",
    "version": 3
   },
   "file_extension": ".py",
   "mimetype": "text/x-python",
   "name": "python",
   "nbconvert_exporter": "python",
   "pygments_lexer": "ipython3",
   "version": "3.8.20"
  }
 },
 "nbformat": 4,
 "nbformat_minor": 5
}
