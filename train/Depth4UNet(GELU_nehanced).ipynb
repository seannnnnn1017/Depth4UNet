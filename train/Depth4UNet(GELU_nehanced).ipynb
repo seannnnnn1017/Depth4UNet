{
 "cells": [
  {
   "cell_type": "code",
   "execution_count": 2,
   "id": "6e5bda88",
   "metadata": {},
   "outputs": [
    {
     "name": "stdout",
     "output_type": "stream",
     "text": [
      "Multi-scale output shape: torch.Size([1, 1, 256, 256])\n",
      "SE output shape: torch.Size([1, 1, 256, 256])\n",
      "Standard output shape: torch.Size([1, 1, 256, 256])\n"
     ]
    }
   ],
   "source": [
    "import torch\n",
    "import torchvision\n",
    "from torch import nn\n",
    "\n",
    "\n",
    "def conv3x3(i: int, o: int) -> nn.Conv2d:\n",
    "    \"\"\"3×3 convolution with padding=1 (same spatial size).\"\"\"\n",
    "    return nn.Conv2d(i, o, kernel_size=3, padding=1, bias=False)\n",
    "\n",
    "\n",
    "class ConvGelu(nn.Module):\n",
    "    \"\"\"Conv → GELU helper block (replacing Conv+ReLU).\"\"\"\n",
    "\n",
    "    def __init__(self, i: int, o: int):\n",
    "        super().__init__()\n",
    "        self.block = nn.Sequential(\n",
    "            conv3x3(i, o),\n",
    "            nn.GELU(),\n",
    "        )\n",
    "\n",
    "    def forward(self, x):\n",
    "        return self.block(x)\n",
    "\n",
    "\n",
    "class DecoderBlock(nn.Module):\n",
    "    \"\"\"Decoder up‑sampling block: (Conv→GELU) ×1  +  2× upsample via transpose‑conv.\"\"\"\n",
    "\n",
    "    def __init__(self, i: int, m: int, o: int):\n",
    "        super().__init__()\n",
    "        self.block = nn.Sequential(\n",
    "            ConvGelu(i, m),\n",
    "            nn.ConvTranspose2d(m, o, kernel_size=3, stride=2, padding=1, output_padding=1, bias=False),\n",
    "            nn.GELU(),\n",
    "        )\n",
    "\n",
    "    def forward(self, x):\n",
    "        return self.block(x)\n",
    "\n",
    "\n",
    "class InvertedBottleneck(nn.Module):\n",
    "    \"\"\"MobileNet‑v2 style inverted residual bottleneck.\n",
    "\n",
    "    Args:\n",
    "        ch (int): input/output channels.\n",
    "        exp (int): expansion factor. Default 4 (i.e. ch → ch*exp → ch).\n",
    "        use_se (bool): whether to use Squeeze-and-Excitation.\n",
    "    \"\"\"\n",
    "\n",
    "    def __init__(self, ch: int, exp: int = 4, use_se: bool = False):\n",
    "        super().__init__()\n",
    "        mid = ch * exp\n",
    "        \n",
    "        self.expand = nn.Sequential(\n",
    "            nn.Conv2d(ch, mid, kernel_size=1, bias=False),\n",
    "            nn.BatchNorm2d(mid),\n",
    "            nn.GELU(),\n",
    "        )\n",
    "        \n",
    "        self.depthwise = nn.Sequential(\n",
    "            nn.Conv2d(mid, mid, kernel_size=3, padding=1, groups=mid, bias=False),\n",
    "            nn.BatchNorm2d(mid),\n",
    "            nn.GELU(),\n",
    "        )\n",
    "        \n",
    "        # Squeeze-and-Excitation block (optional)\n",
    "        self.se = None\n",
    "        if use_se:\n",
    "            self.se = SqueezeExcitation(mid)\n",
    "        \n",
    "        self.project = nn.Sequential(\n",
    "            nn.Conv2d(mid, ch, kernel_size=1, bias=False),\n",
    "            nn.BatchNorm2d(ch),\n",
    "        )\n",
    "\n",
    "    def forward(self, x):\n",
    "        residual = x\n",
    "        x = self.expand(x)\n",
    "        x = self.depthwise(x)\n",
    "        if self.se is not None:\n",
    "            x = self.se(x)\n",
    "        x = self.project(x)\n",
    "        return residual + x\n",
    "\n",
    "\n",
    "class SqueezeExcitation(nn.Module):\n",
    "    \"\"\"Squeeze-and-Excitation block for channel attention.\"\"\"\n",
    "    \n",
    "    def __init__(self, channels: int, reduction: int = 16):\n",
    "        super().__init__()\n",
    "        self.se = nn.Sequential(\n",
    "            nn.AdaptiveAvgPool2d(1),\n",
    "            nn.Conv2d(channels, channels // reduction, 1, bias=False),\n",
    "            nn.GELU(),\n",
    "            nn.Conv2d(channels // reduction, channels, 1, bias=False),\n",
    "            nn.Sigmoid()\n",
    "        )\n",
    "    \n",
    "    def forward(self, x):\n",
    "        return x * self.se(x)\n",
    "\n",
    "\n",
    "class MultiScaleBottleneck(nn.Module):\n",
    "    \"\"\"Multi-scale bottleneck with different dilation rates.\"\"\"\n",
    "    \n",
    "    def __init__(self, ch: int, exp: int = 4):\n",
    "        super().__init__()\n",
    "        mid = ch * exp\n",
    "        \n",
    "        # Different dilation rates for multi-scale feature extraction\n",
    "        self.branch1 = nn.Sequential(\n",
    "            nn.Conv2d(ch, mid // 4, 1, bias=False),\n",
    "            nn.BatchNorm2d(mid // 4),\n",
    "            nn.GELU(),\n",
    "            nn.Conv2d(mid // 4, mid // 4, 3, padding=1, dilation=1, bias=False),\n",
    "            nn.BatchNorm2d(mid // 4),\n",
    "            nn.GELU(),\n",
    "        )\n",
    "        \n",
    "        self.branch2 = nn.Sequential(\n",
    "            nn.Conv2d(ch, mid // 4, 1, bias=False),\n",
    "            nn.BatchNorm2d(mid // 4),\n",
    "            nn.GELU(),\n",
    "            nn.Conv2d(mid // 4, mid // 4, 3, padding=2, dilation=2, bias=False),\n",
    "            nn.BatchNorm2d(mid // 4),\n",
    "            nn.GELU(),\n",
    "        )\n",
    "        \n",
    "        self.branch3 = nn.Sequential(\n",
    "            nn.Conv2d(ch, mid // 4, 1, bias=False),\n",
    "            nn.BatchNorm2d(mid // 4),\n",
    "            nn.GELU(),\n",
    "            nn.Conv2d(mid // 4, mid // 4, 3, padding=4, dilation=4, bias=False),\n",
    "            nn.BatchNorm2d(mid // 4),\n",
    "            nn.GELU(),\n",
    "        )\n",
    "        \n",
    "        self.branch4 = nn.Sequential(\n",
    "            nn.AdaptiveAvgPool2d(1),\n",
    "            nn.Conv2d(ch, mid // 4, 1, bias=True),  # 使用 bias=True，避免 BatchNorm\n",
    "            nn.GELU(),\n",
    "        )\n",
    "        \n",
    "        self.project = nn.Sequential(\n",
    "            nn.Conv2d(mid, ch, 1, bias=False),\n",
    "            nn.BatchNorm2d(ch),\n",
    "        )\n",
    "    \n",
    "    def forward(self, x):\n",
    "        b1 = self.branch1(x)\n",
    "        b2 = self.branch2(x)\n",
    "        b3 = self.branch3(x)\n",
    "        b4 = self.branch4(x)\n",
    "        \n",
    "        # Upsample branch4 to match spatial dimensions\n",
    "        b4 = nn.functional.interpolate(b4, size=x.shape[2:], mode='bilinear', align_corners=False)\n",
    "        \n",
    "        # Concatenate all branches\n",
    "        concat = torch.cat([b1, b2, b3, b4], dim=1)\n",
    "        out = self.project(concat)\n",
    "        \n",
    "        return x + out\n",
    "\n",
    "\n",
    "class EnhancedUNet11_4ch(nn.Module):\n",
    "    \"\"\"Enhanced UNet‑11 with multiple bottleneck improvements.\"\"\"\n",
    "\n",
    "    def __init__(self, num_filters: int = 32, pretrained: bool = True, bottleneck_type: str = 'multi'):\n",
    "        super().__init__()\n",
    "        \n",
    "        # ─────── Encoder (VGG11) ────────────────────────────────────────────\n",
    "        enc = torchvision.models.vgg11(pretrained=pretrained).features\n",
    "\n",
    "        # First conv: 4→64 (copy RGB weights and set 4th channel to mean)\n",
    "        old_conv1 = enc[0]  # 3→64\n",
    "        new_conv1 = nn.Conv2d(4, 64, kernel_size=3, padding=1, bias=False)\n",
    "        if pretrained:\n",
    "            with torch.no_grad():\n",
    "                new_conv1.weight[:, :3] = old_conv1.weight  # copy RGB\n",
    "                new_conv1.weight[:, 3:4] = old_conv1.weight.mean(dim=1, keepdim=True)\n",
    "        enc[0] = new_conv1\n",
    "        self.encoder = enc\n",
    "\n",
    "        # Shortcut handles\n",
    "        self.gelu = nn.GELU()\n",
    "        self.pool = nn.MaxPool2d(2, 2)\n",
    "        self.conv1, self.conv2 = enc[0], enc[3]\n",
    "        self.conv3s, self.conv3 = enc[6], enc[8]\n",
    "        self.conv4s, self.conv4 = enc[11], enc[13]\n",
    "        self.conv5s, self.conv5 = enc[16], enc[18]\n",
    "\n",
    "        # ─────── Enhanced Decoder with Bottlenecks ──────────────────────────\n",
    "        nf = num_filters\n",
    "        \n",
    "        # 確保通道數匹配\n",
    "        self.center = DecoderBlock(nf * 16, nf * 8 * 2, nf * 8)  # 512 -> 256 -> 256\n",
    "        \n",
    "        # Add bottlenecks in decoder layers\n",
    "        self.dec5 = DecoderBlock(nf * (8 + 16), nf * 8 * 2, nf * 8)  # 768 -> 512 -> 256\n",
    "        self.dec5_bottleneck = self._create_bottleneck(nf * 8, bottleneck_type)\n",
    "        \n",
    "        self.dec4 = DecoderBlock(nf * (8 + 16), nf * 8 * 2, nf * 4)  # 768 -> 512 -> 128\n",
    "        self.dec4_bottleneck = self._create_bottleneck(nf * 4, bottleneck_type)\n",
    "        \n",
    "        self.dec3 = DecoderBlock(nf * (4 + 8), nf * 4 * 2, nf * 2)  # 384 -> 256 -> 64\n",
    "        self.dec3_bottleneck = self._create_bottleneck(nf * 2, bottleneck_type)\n",
    "        \n",
    "        self.dec2 = DecoderBlock(nf * (2 + 4), nf * 2 * 2, nf)  # 192 -> 128 -> 32\n",
    "        self.dec2_bottleneck = self._create_bottleneck(nf, bottleneck_type)\n",
    "        \n",
    "        self.dec1 = ConvGelu(nf * (1 + 2), nf)  # 96 -> 32\n",
    "\n",
    "        # ─────── Multiple Final Bottlenecks ──────────────────────────────────\n",
    "        self.final_bottlenecks = nn.ModuleList([\n",
    "            self._create_bottleneck(nf, bottleneck_type) for _ in range(3)\n",
    "        ])\n",
    "        \n",
    "        # Final convolution\n",
    "        self.final = nn.Conv2d(nf, 1, kernel_size=1)\n",
    "\n",
    "    def _create_bottleneck(self, channels: int, bottleneck_type: str):\n",
    "        \"\"\"Create bottleneck based on type.\"\"\"\n",
    "        if bottleneck_type == 'multi':\n",
    "            return MultiScaleBottleneck(channels, exp=4)\n",
    "        elif bottleneck_type == 'se':\n",
    "            return InvertedBottleneck(channels, exp=4, use_se=True)\n",
    "        else:  # 'standard'\n",
    "            return InvertedBottleneck(channels, exp=4, use_se=False)\n",
    "\n",
    "    def _enc_forward(self, x):\n",
    "        c1 = self.gelu(self.conv1(x))\n",
    "        c2 = self.gelu(self.conv2(self.pool(c1)))\n",
    "        c3s = self.gelu(self.conv3s(self.pool(c2)))\n",
    "        c3 = self.gelu(self.conv3(c3s))\n",
    "        c4s = self.gelu(self.conv4s(self.pool(c3)))\n",
    "        c4 = self.gelu(self.conv4(c4s))\n",
    "        c5s = self.gelu(self.conv5s(self.pool(c4)))\n",
    "        c5 = self.gelu(self.conv5(c5s))\n",
    "        return c1, c2, c3, c4, c5\n",
    "\n",
    "    def forward(self, x):\n",
    "        c1, c2, c3, c4, c5 = self._enc_forward(x)\n",
    "        ctr = self.center(self.pool(c5))\n",
    "\n",
    "        # Enhanced decoder with bottlenecks\n",
    "        d5 = self.dec5(torch.cat([ctr, c5], dim=1))\n",
    "        d5 = self.dec5_bottleneck(d5)\n",
    "        \n",
    "        d4 = self.dec4(torch.cat([d5, c4], dim=1))\n",
    "        d4 = self.dec4_bottleneck(d4)\n",
    "        \n",
    "        d3 = self.dec3(torch.cat([d4, c3], dim=1))\n",
    "        d3 = self.dec3_bottleneck(d3)\n",
    "        \n",
    "        d2 = self.dec2(torch.cat([d3, c2], dim=1))\n",
    "        d2 = self.dec2_bottleneck(d2)\n",
    "        \n",
    "        d1 = self.dec1(torch.cat([d2, c1], dim=1))\n",
    "\n",
    "        # Apply multiple final bottlenecks\n",
    "        out = d1\n",
    "        for bottleneck in self.final_bottlenecks:\n",
    "            out = bottleneck(out)\n",
    "        \n",
    "        return self.final(out)\n",
    "\n",
    "\n",
    "# 使用示例\n",
    "if __name__ == \"__main__\":\n",
    "    # 三種不同的瓶頸配置\n",
    "    model_multi = EnhancedUNet11_4ch(num_filters=32, bottleneck_type='multi')\n",
    "    model_se = EnhancedUNet11_4ch(num_filters=32, bottleneck_type='se')\n",
    "    model_standard = EnhancedUNet11_4ch(num_filters=32, bottleneck_type='standard')\n",
    "    \n",
    "    # 測試輸入\n",
    "    x = torch.randn(1, 4, 256, 256)\n",
    "    \n",
    "    with torch.no_grad():\n",
    "        out_multi = model_multi(x)\n",
    "        out_se = model_se(x)\n",
    "        out_standard = model_standard(x)\n",
    "    \n",
    "    print(f\"Multi-scale output shape: {out_multi.shape}\")\n",
    "    print(f\"SE output shape: {out_se.shape}\")\n",
    "    print(f\"Standard output shape: {out_standard.shape}\")"
   ]
  },
  {
   "cell_type": "code",
   "execution_count": null,
   "id": "c534122e",
   "metadata": {},
   "outputs": [
    {
     "name": "stdout",
     "output_type": "stream",
     "text": [
      "🚀 Device: cuda\n",
      "📊 共 180 張影像\n"
     ]
    },
    {
     "name": "stderr",
     "output_type": "stream",
     "text": [
      "c:\\Users\\op237\\miniconda3\\envs\\Depth4UNet\\lib\\site-packages\\torchvision\\models\\_utils.py:223: UserWarning: Arguments other than a weight enum or `None` for 'weights' are deprecated since 0.13 and may be removed in the future. The current behavior is equivalent to passing `weights=VGG11_Weights.IMAGENET1K_V1`. You can also use `weights=VGG11_Weights.DEFAULT` to get the most up-to-date weights.\n",
      "  warnings.warn(msg)\n",
      "Ep1/100 train: 100%|██████████| 41/41 [01:18<00:00,  1.90s/it]\n",
      "Ep1/100 val: 100%|██████████| 5/5 [00:07<00:00,  1.49s/it]\n"
     ]
    },
    {
     "name": "stdout",
     "output_type": "stream",
     "text": [
      "📝 Ep1 train=0.5454 val=0.3957 dice=0.3539\n",
      "  👑  Saved best model (dice 0.3539)\n"
     ]
    },
    {
     "name": "stderr",
     "output_type": "stream",
     "text": [
      "Ep2/100 train: 100%|██████████| 41/41 [01:16<00:00,  1.87s/it]\n",
      "Ep2/100 val: 100%|██████████| 5/5 [00:07<00:00,  1.41s/it]\n"
     ]
    },
    {
     "name": "stdout",
     "output_type": "stream",
     "text": [
      "📝 Ep2 train=0.3397 val=0.3579 dice=0.5737\n",
      "  👑  Saved best model (dice 0.5737)\n"
     ]
    },
    {
     "name": "stderr",
     "output_type": "stream",
     "text": [
      "Ep3/100 train: 100%|██████████| 41/41 [01:13<00:00,  1.79s/it]\n",
      "Ep3/100 val: 100%|██████████| 5/5 [00:07<00:00,  1.42s/it]\n"
     ]
    },
    {
     "name": "stdout",
     "output_type": "stream",
     "text": [
      "📝 Ep3 train=0.2939 val=0.1926 dice=0.7265\n",
      "  👑  Saved best model (dice 0.7265)\n"
     ]
    },
    {
     "name": "stderr",
     "output_type": "stream",
     "text": [
      "Ep4/100 train: 100%|██████████| 41/41 [01:20<00:00,  1.95s/it]\n",
      "Ep4/100 val: 100%|██████████| 5/5 [00:07<00:00,  1.47s/it]\n"
     ]
    },
    {
     "name": "stdout",
     "output_type": "stream",
     "text": [
      "📝 Ep4 train=0.2576 val=0.2181 dice=0.6313\n"
     ]
    },
    {
     "name": "stderr",
     "output_type": "stream",
     "text": [
      "Ep5/100 train: 100%|██████████| 41/41 [01:14<00:00,  1.82s/it]\n",
      "Ep5/100 val: 100%|██████████| 5/5 [00:07<00:00,  1.41s/it]\n"
     ]
    },
    {
     "name": "stdout",
     "output_type": "stream",
     "text": [
      "📝 Ep5 train=0.2579 val=0.1634 dice=0.7018\n"
     ]
    },
    {
     "name": "stderr",
     "output_type": "stream",
     "text": [
      "Ep6/100 train: 100%|██████████| 41/41 [01:13<00:00,  1.79s/it]\n",
      "Ep6/100 val: 100%|██████████| 5/5 [00:07<00:00,  1.42s/it]\n"
     ]
    },
    {
     "name": "stdout",
     "output_type": "stream",
     "text": [
      "📝 Ep6 train=0.2595 val=0.3621 dice=0.5162\n"
     ]
    },
    {
     "name": "stderr",
     "output_type": "stream",
     "text": [
      "Ep7/100 train: 100%|██████████| 41/41 [01:13<00:00,  1.79s/it]\n",
      "Ep7/100 val: 100%|██████████| 5/5 [00:07<00:00,  1.41s/it]\n"
     ]
    },
    {
     "name": "stdout",
     "output_type": "stream",
     "text": [
      "📝 Ep7 train=0.2418 val=0.2246 dice=0.5381\n"
     ]
    },
    {
     "name": "stderr",
     "output_type": "stream",
     "text": [
      "Ep8/100 train: 100%|██████████| 41/41 [01:13<00:00,  1.79s/it]\n",
      "Ep8/100 val: 100%|██████████| 5/5 [00:07<00:00,  1.41s/it]\n"
     ]
    },
    {
     "name": "stdout",
     "output_type": "stream",
     "text": [
      "📝 Ep8 train=0.2009 val=0.2743 dice=0.7488\n",
      "  👑  Saved best model (dice 0.7488)\n"
     ]
    },
    {
     "name": "stderr",
     "output_type": "stream",
     "text": [
      "Ep9/100 train: 100%|██████████| 41/41 [01:13<00:00,  1.79s/it]\n",
      "Ep9/100 val: 100%|██████████| 5/5 [00:07<00:00,  1.44s/it]\n"
     ]
    },
    {
     "name": "stdout",
     "output_type": "stream",
     "text": [
      "📝 Ep9 train=0.2247 val=0.1429 dice=0.6982\n"
     ]
    },
    {
     "name": "stderr",
     "output_type": "stream",
     "text": [
      "Ep10/100 train: 100%|██████████| 41/41 [01:13<00:00,  1.79s/it]\n",
      "Ep10/100 val: 100%|██████████| 5/5 [00:07<00:00,  1.42s/it]\n"
     ]
    },
    {
     "name": "stdout",
     "output_type": "stream",
     "text": [
      "📝 Ep10 train=0.2072 val=0.2367 dice=0.5511\n"
     ]
    },
    {
     "name": "stderr",
     "output_type": "stream",
     "text": [
      "Ep11/100 train: 100%|██████████| 41/41 [01:13<00:00,  1.79s/it]\n",
      "Ep11/100 val: 100%|██████████| 5/5 [00:07<00:00,  1.42s/it]\n"
     ]
    },
    {
     "name": "stdout",
     "output_type": "stream",
     "text": [
      "📝 Ep11 train=0.2405 val=0.1900 dice=0.7528\n",
      "  👑  Saved best model (dice 0.7528)\n"
     ]
    },
    {
     "name": "stderr",
     "output_type": "stream",
     "text": [
      "Ep12/100 train: 100%|██████████| 41/41 [01:13<00:00,  1.79s/it]\n",
      "Ep12/100 val: 100%|██████████| 5/5 [00:07<00:00,  1.41s/it]\n"
     ]
    },
    {
     "name": "stdout",
     "output_type": "stream",
     "text": [
      "📝 Ep12 train=0.2063 val=0.1590 dice=0.7896\n",
      "  👑  Saved best model (dice 0.7896)\n"
     ]
    },
    {
     "name": "stderr",
     "output_type": "stream",
     "text": [
      "Ep13/100 train: 100%|██████████| 41/41 [01:13<00:00,  1.79s/it]\n",
      "Ep13/100 val: 100%|██████████| 5/5 [00:07<00:00,  1.41s/it]\n"
     ]
    },
    {
     "name": "stdout",
     "output_type": "stream",
     "text": [
      "📝 Ep13 train=0.1962 val=0.2518 dice=0.5684\n"
     ]
    },
    {
     "name": "stderr",
     "output_type": "stream",
     "text": [
      "Ep14/100 train: 100%|██████████| 41/41 [01:13<00:00,  1.79s/it]\n",
      "Ep14/100 val: 100%|██████████| 5/5 [00:07<00:00,  1.41s/it]\n"
     ]
    },
    {
     "name": "stdout",
     "output_type": "stream",
     "text": [
      "📝 Ep14 train=0.2249 val=0.1427 dice=0.7375\n"
     ]
    },
    {
     "name": "stderr",
     "output_type": "stream",
     "text": [
      "Ep15/100 train: 100%|██████████| 41/41 [01:13<00:00,  1.79s/it]\n",
      "Ep15/100 val: 100%|██████████| 5/5 [00:07<00:00,  1.41s/it]\n"
     ]
    },
    {
     "name": "stdout",
     "output_type": "stream",
     "text": [
      "📝 Ep15 train=0.2105 val=0.1592 dice=0.6806\n"
     ]
    },
    {
     "name": "stderr",
     "output_type": "stream",
     "text": [
      "Ep16/100 train: 100%|██████████| 41/41 [01:13<00:00,  1.79s/it]\n",
      "Ep16/100 val: 100%|██████████| 5/5 [00:07<00:00,  1.42s/it]\n"
     ]
    },
    {
     "name": "stdout",
     "output_type": "stream",
     "text": [
      "📝 Ep16 train=0.1756 val=0.1773 dice=0.6475\n"
     ]
    },
    {
     "name": "stderr",
     "output_type": "stream",
     "text": [
      "Ep17/100 train: 100%|██████████| 41/41 [01:13<00:00,  1.79s/it]\n",
      "Ep17/100 val: 100%|██████████| 5/5 [00:07<00:00,  1.41s/it]\n"
     ]
    },
    {
     "name": "stdout",
     "output_type": "stream",
     "text": [
      "📝 Ep17 train=0.2137 val=0.2077 dice=0.7524\n"
     ]
    },
    {
     "name": "stderr",
     "output_type": "stream",
     "text": [
      "Ep18/100 train: 100%|██████████| 41/41 [01:13<00:00,  1.79s/it]\n",
      "Ep18/100 val: 100%|██████████| 5/5 [00:07<00:00,  1.41s/it]\n"
     ]
    },
    {
     "name": "stdout",
     "output_type": "stream",
     "text": [
      "📝 Ep18 train=0.1912 val=0.1385 dice=0.6779\n"
     ]
    },
    {
     "name": "stderr",
     "output_type": "stream",
     "text": [
      "Ep19/100 train: 100%|██████████| 41/41 [01:13<00:00,  1.79s/it]\n",
      "Ep19/100 val: 100%|██████████| 5/5 [00:07<00:00,  1.42s/it]\n"
     ]
    },
    {
     "name": "stdout",
     "output_type": "stream",
     "text": [
      "📝 Ep19 train=0.1715 val=0.2099 dice=0.8054\n",
      "  👑  Saved best model (dice 0.8054)\n"
     ]
    },
    {
     "name": "stderr",
     "output_type": "stream",
     "text": [
      "Ep20/100 train: 100%|██████████| 41/41 [01:13<00:00,  1.79s/it]\n",
      "Ep20/100 val: 100%|██████████| 5/5 [00:07<00:00,  1.42s/it]\n"
     ]
    },
    {
     "name": "stdout",
     "output_type": "stream",
     "text": [
      "📝 Ep20 train=0.1726 val=0.1959 dice=0.7362\n"
     ]
    },
    {
     "name": "stderr",
     "output_type": "stream",
     "text": [
      "Ep21/100 train: 100%|██████████| 41/41 [01:13<00:00,  1.79s/it]\n",
      "Ep21/100 val: 100%|██████████| 5/5 [00:07<00:00,  1.41s/it]\n"
     ]
    },
    {
     "name": "stdout",
     "output_type": "stream",
     "text": [
      "📝 Ep21 train=0.2019 val=0.1706 dice=0.6953\n"
     ]
    },
    {
     "name": "stderr",
     "output_type": "stream",
     "text": [
      "Ep22/100 train: 100%|██████████| 41/41 [01:13<00:00,  1.79s/it]\n",
      "Ep22/100 val: 100%|██████████| 5/5 [00:07<00:00,  1.41s/it]\n"
     ]
    },
    {
     "name": "stdout",
     "output_type": "stream",
     "text": [
      "📝 Ep22 train=0.1936 val=0.1681 dice=0.6948\n"
     ]
    },
    {
     "name": "stderr",
     "output_type": "stream",
     "text": [
      "Ep23/100 train: 100%|██████████| 41/41 [01:13<00:00,  1.79s/it]\n",
      "Ep23/100 val: 100%|██████████| 5/5 [00:07<00:00,  1.41s/it]\n"
     ]
    },
    {
     "name": "stdout",
     "output_type": "stream",
     "text": [
      "📝 Ep23 train=0.2400 val=0.2238 dice=0.6619\n"
     ]
    },
    {
     "name": "stderr",
     "output_type": "stream",
     "text": [
      "Ep24/100 train: 100%|██████████| 41/41 [01:13<00:00,  1.79s/it]\n",
      "Ep24/100 val: 100%|██████████| 5/5 [00:07<00:00,  1.41s/it]\n"
     ]
    },
    {
     "name": "stdout",
     "output_type": "stream",
     "text": [
      "📝 Ep24 train=0.1722 val=0.1995 dice=0.6788\n"
     ]
    },
    {
     "name": "stderr",
     "output_type": "stream",
     "text": [
      "Ep25/100 train: 100%|██████████| 41/41 [01:13<00:00,  1.79s/it]\n",
      "Ep25/100 val: 100%|██████████| 5/5 [00:07<00:00,  1.43s/it]\n"
     ]
    },
    {
     "name": "stdout",
     "output_type": "stream",
     "text": [
      "📝 Ep25 train=0.1886 val=0.1783 dice=0.7478\n"
     ]
    },
    {
     "name": "stderr",
     "output_type": "stream",
     "text": [
      "Ep26/100 train: 100%|██████████| 41/41 [01:13<00:00,  1.79s/it]\n",
      "Ep26/100 val: 100%|██████████| 5/5 [00:07<00:00,  1.42s/it]\n"
     ]
    },
    {
     "name": "stdout",
     "output_type": "stream",
     "text": [
      "📝 Ep26 train=0.1791 val=0.2112 dice=0.8348\n",
      "  👑  Saved best model (dice 0.8348)\n"
     ]
    },
    {
     "name": "stderr",
     "output_type": "stream",
     "text": [
      "Ep27/100 train: 100%|██████████| 41/41 [01:13<00:00,  1.79s/it]\n",
      "Ep27/100 val: 100%|██████████| 5/5 [00:07<00:00,  1.41s/it]\n"
     ]
    },
    {
     "name": "stdout",
     "output_type": "stream",
     "text": [
      "📝 Ep27 train=0.2088 val=0.1838 dice=0.7958\n"
     ]
    },
    {
     "name": "stderr",
     "output_type": "stream",
     "text": [
      "Ep28/100 train: 100%|██████████| 41/41 [01:13<00:00,  1.79s/it]\n",
      "Ep28/100 val: 100%|██████████| 5/5 [00:07<00:00,  1.40s/it]\n"
     ]
    },
    {
     "name": "stdout",
     "output_type": "stream",
     "text": [
      "📝 Ep28 train=0.1808 val=0.1475 dice=0.6578\n"
     ]
    },
    {
     "name": "stderr",
     "output_type": "stream",
     "text": [
      "Ep29/100 train: 100%|██████████| 41/41 [01:13<00:00,  1.79s/it]\n",
      "Ep29/100 val: 100%|██████████| 5/5 [00:07<00:00,  1.41s/it]\n"
     ]
    },
    {
     "name": "stdout",
     "output_type": "stream",
     "text": [
      "📝 Ep29 train=0.1636 val=0.1193 dice=0.8031\n"
     ]
    },
    {
     "name": "stderr",
     "output_type": "stream",
     "text": [
      "Ep30/100 train: 100%|██████████| 41/41 [01:13<00:00,  1.79s/it]\n",
      "Ep30/100 val: 100%|██████████| 5/5 [00:07<00:00,  1.41s/it]\n"
     ]
    },
    {
     "name": "stdout",
     "output_type": "stream",
     "text": [
      "📝 Ep30 train=0.2099 val=0.2008 dice=0.7228\n"
     ]
    },
    {
     "name": "stderr",
     "output_type": "stream",
     "text": [
      "Ep31/100 train: 100%|██████████| 41/41 [01:13<00:00,  1.79s/it]\n",
      "Ep31/100 val: 100%|██████████| 5/5 [00:07<00:00,  1.41s/it]\n"
     ]
    },
    {
     "name": "stdout",
     "output_type": "stream",
     "text": [
      "📝 Ep31 train=0.1790 val=0.2662 dice=0.6265\n"
     ]
    },
    {
     "name": "stderr",
     "output_type": "stream",
     "text": [
      "Ep32/100 train: 100%|██████████| 41/41 [01:13<00:00,  1.79s/it]\n",
      "Ep32/100 val: 100%|██████████| 5/5 [00:07<00:00,  1.41s/it]\n"
     ]
    },
    {
     "name": "stdout",
     "output_type": "stream",
     "text": [
      "📝 Ep32 train=0.1768 val=0.1779 dice=0.7424\n"
     ]
    },
    {
     "name": "stderr",
     "output_type": "stream",
     "text": [
      "Ep33/100 train: 100%|██████████| 41/41 [01:13<00:00,  1.79s/it]\n",
      "Ep33/100 val: 100%|██████████| 5/5 [00:07<00:00,  1.41s/it]\n"
     ]
    },
    {
     "name": "stdout",
     "output_type": "stream",
     "text": [
      "📝 Ep33 train=0.1757 val=0.1606 dice=0.8324\n"
     ]
    },
    {
     "name": "stderr",
     "output_type": "stream",
     "text": [
      "Ep34/100 train: 100%|██████████| 41/41 [01:13<00:00,  1.79s/it]\n",
      "Ep34/100 val: 100%|██████████| 5/5 [00:07<00:00,  1.41s/it]\n"
     ]
    },
    {
     "name": "stdout",
     "output_type": "stream",
     "text": [
      "📝 Ep34 train=0.1636 val=0.1271 dice=0.7129\n"
     ]
    },
    {
     "name": "stderr",
     "output_type": "stream",
     "text": [
      "Ep35/100 train: 100%|██████████| 41/41 [01:13<00:00,  1.79s/it]\n",
      "Ep35/100 val: 100%|██████████| 5/5 [00:07<00:00,  1.40s/it]\n"
     ]
    },
    {
     "name": "stdout",
     "output_type": "stream",
     "text": [
      "📝 Ep35 train=0.1672 val=0.1865 dice=0.7326\n"
     ]
    },
    {
     "name": "stderr",
     "output_type": "stream",
     "text": [
      "Ep36/100 train: 100%|██████████| 41/41 [01:13<00:00,  1.79s/it]\n",
      "Ep36/100 val: 100%|██████████| 5/5 [00:07<00:00,  1.41s/it]\n"
     ]
    },
    {
     "name": "stdout",
     "output_type": "stream",
     "text": [
      "📝 Ep36 train=0.1432 val=0.1654 dice=0.6771\n"
     ]
    },
    {
     "name": "stderr",
     "output_type": "stream",
     "text": [
      "Ep37/100 train: 100%|██████████| 41/41 [01:13<00:00,  1.79s/it]\n",
      "Ep37/100 val: 100%|██████████| 5/5 [00:07<00:00,  1.41s/it]\n"
     ]
    },
    {
     "name": "stdout",
     "output_type": "stream",
     "text": [
      "📝 Ep37 train=0.2007 val=0.2725 dice=0.7247\n"
     ]
    },
    {
     "name": "stderr",
     "output_type": "stream",
     "text": [
      "Ep38/100 train: 100%|██████████| 41/41 [01:13<00:00,  1.79s/it]\n",
      "Ep38/100 val: 100%|██████████| 5/5 [00:07<00:00,  1.41s/it]\n"
     ]
    },
    {
     "name": "stdout",
     "output_type": "stream",
     "text": [
      "📝 Ep38 train=0.1696 val=0.1718 dice=0.5983\n"
     ]
    },
    {
     "name": "stderr",
     "output_type": "stream",
     "text": [
      "Ep39/100 train: 100%|██████████| 41/41 [01:13<00:00,  1.79s/it]\n",
      "Ep39/100 val: 100%|██████████| 5/5 [00:07<00:00,  1.41s/it]\n"
     ]
    },
    {
     "name": "stdout",
     "output_type": "stream",
     "text": [
      "📝 Ep39 train=0.1426 val=0.1214 dice=0.6653\n"
     ]
    },
    {
     "name": "stderr",
     "output_type": "stream",
     "text": [
      "Ep40/100 train: 100%|██████████| 41/41 [01:13<00:00,  1.79s/it]\n",
      "Ep40/100 val: 100%|██████████| 5/5 [00:07<00:00,  1.40s/it]\n"
     ]
    },
    {
     "name": "stdout",
     "output_type": "stream",
     "text": [
      "📝 Ep40 train=0.1884 val=0.1571 dice=0.7496\n"
     ]
    },
    {
     "name": "stderr",
     "output_type": "stream",
     "text": [
      "Ep41/100 train: 100%|██████████| 41/41 [01:13<00:00,  1.78s/it]\n",
      "Ep41/100 val: 100%|██████████| 5/5 [00:07<00:00,  1.41s/it]\n"
     ]
    },
    {
     "name": "stdout",
     "output_type": "stream",
     "text": [
      "📝 Ep41 train=0.1866 val=0.1803 dice=0.7426\n"
     ]
    },
    {
     "name": "stderr",
     "output_type": "stream",
     "text": [
      "Ep42/100 train: 100%|██████████| 41/41 [01:13<00:00,  1.79s/it]\n",
      "Ep42/100 val: 100%|██████████| 5/5 [00:07<00:00,  1.41s/it]\n"
     ]
    },
    {
     "name": "stdout",
     "output_type": "stream",
     "text": [
      "📝 Ep42 train=0.1595 val=0.2091 dice=0.7514\n"
     ]
    },
    {
     "name": "stderr",
     "output_type": "stream",
     "text": [
      "Ep43/100 train: 100%|██████████| 41/41 [01:13<00:00,  1.79s/it]\n",
      "Ep43/100 val: 100%|██████████| 5/5 [00:07<00:00,  1.40s/it]\n"
     ]
    },
    {
     "name": "stdout",
     "output_type": "stream",
     "text": [
      "📝 Ep43 train=0.1658 val=0.2138 dice=0.6789\n"
     ]
    },
    {
     "name": "stderr",
     "output_type": "stream",
     "text": [
      "Ep44/100 train: 100%|██████████| 41/41 [01:13<00:00,  1.78s/it]\n",
      "Ep44/100 val: 100%|██████████| 5/5 [00:07<00:00,  1.42s/it]\n"
     ]
    },
    {
     "name": "stdout",
     "output_type": "stream",
     "text": [
      "📝 Ep44 train=0.1790 val=0.2409 dice=0.5885\n"
     ]
    },
    {
     "name": "stderr",
     "output_type": "stream",
     "text": [
      "Ep45/100 train: 100%|██████████| 41/41 [01:13<00:00,  1.79s/it]\n",
      "Ep45/100 val: 100%|██████████| 5/5 [00:07<00:00,  1.41s/it]\n"
     ]
    },
    {
     "name": "stdout",
     "output_type": "stream",
     "text": [
      "📝 Ep45 train=0.1558 val=0.2012 dice=0.7839\n"
     ]
    },
    {
     "name": "stderr",
     "output_type": "stream",
     "text": [
      "Ep46/100 train: 100%|██████████| 41/41 [01:13<00:00,  1.79s/it]\n",
      "Ep46/100 val: 100%|██████████| 5/5 [00:07<00:00,  1.41s/it]\n"
     ]
    },
    {
     "name": "stdout",
     "output_type": "stream",
     "text": [
      "📝 Ep46 train=0.1586 val=0.1443 dice=0.7788\n"
     ]
    },
    {
     "name": "stderr",
     "output_type": "stream",
     "text": [
      "Ep47/100 train: 100%|██████████| 41/41 [01:13<00:00,  1.79s/it]\n",
      "Ep47/100 val: 100%|██████████| 5/5 [00:07<00:00,  1.41s/it]\n"
     ]
    },
    {
     "name": "stdout",
     "output_type": "stream",
     "text": [
      "📝 Ep47 train=0.1479 val=0.1446 dice=0.7193\n"
     ]
    },
    {
     "name": "stderr",
     "output_type": "stream",
     "text": [
      "Ep48/100 train: 100%|██████████| 41/41 [01:13<00:00,  1.79s/it]\n",
      "Ep48/100 val: 100%|██████████| 5/5 [00:07<00:00,  1.41s/it]\n"
     ]
    },
    {
     "name": "stdout",
     "output_type": "stream",
     "text": [
      "📝 Ep48 train=0.1635 val=0.1226 dice=0.6761\n"
     ]
    },
    {
     "name": "stderr",
     "output_type": "stream",
     "text": [
      "Ep49/100 train: 100%|██████████| 41/41 [01:13<00:00,  1.79s/it]\n",
      "Ep49/100 val: 100%|██████████| 5/5 [00:07<00:00,  1.41s/it]\n"
     ]
    },
    {
     "name": "stdout",
     "output_type": "stream",
     "text": [
      "📝 Ep49 train=0.1853 val=0.2491 dice=0.6598\n"
     ]
    },
    {
     "name": "stderr",
     "output_type": "stream",
     "text": [
      "Ep50/100 train: 100%|██████████| 41/41 [01:13<00:00,  1.79s/it]\n",
      "Ep50/100 val: 100%|██████████| 5/5 [00:07<00:00,  1.41s/it]\n"
     ]
    },
    {
     "name": "stdout",
     "output_type": "stream",
     "text": [
      "📝 Ep50 train=0.1669 val=0.1434 dice=0.6612\n"
     ]
    },
    {
     "name": "stderr",
     "output_type": "stream",
     "text": [
      "Ep51/100 train: 100%|██████████| 41/41 [01:13<00:00,  1.79s/it]\n",
      "Ep51/100 val: 100%|██████████| 5/5 [00:07<00:00,  1.41s/it]\n"
     ]
    },
    {
     "name": "stdout",
     "output_type": "stream",
     "text": [
      "📝 Ep51 train=0.1562 val=0.2182 dice=0.5615\n"
     ]
    },
    {
     "name": "stderr",
     "output_type": "stream",
     "text": [
      "Ep52/100 train: 100%|██████████| 41/41 [01:13<00:00,  1.79s/it]\n",
      "Ep52/100 val: 100%|██████████| 5/5 [00:07<00:00,  1.41s/it]\n"
     ]
    },
    {
     "name": "stdout",
     "output_type": "stream",
     "text": [
      "📝 Ep52 train=0.1451 val=0.1799 dice=0.6364\n"
     ]
    },
    {
     "name": "stderr",
     "output_type": "stream",
     "text": [
      "Ep53/100 train: 100%|██████████| 41/41 [01:13<00:00,  1.79s/it]\n",
      "Ep53/100 val: 100%|██████████| 5/5 [00:07<00:00,  1.41s/it]\n"
     ]
    },
    {
     "name": "stdout",
     "output_type": "stream",
     "text": [
      "📝 Ep53 train=0.1564 val=0.1291 dice=0.8010\n"
     ]
    },
    {
     "name": "stderr",
     "output_type": "stream",
     "text": [
      "Ep54/100 train: 100%|██████████| 41/41 [01:13<00:00,  1.78s/it]\n",
      "Ep54/100 val: 100%|██████████| 5/5 [00:07<00:00,  1.42s/it]\n"
     ]
    },
    {
     "name": "stdout",
     "output_type": "stream",
     "text": [
      "📝 Ep54 train=0.1418 val=0.2272 dice=0.7361\n"
     ]
    },
    {
     "name": "stderr",
     "output_type": "stream",
     "text": [
      "Ep55/100 train: 100%|██████████| 41/41 [01:13<00:00,  1.79s/it]\n",
      "Ep55/100 val: 100%|██████████| 5/5 [00:07<00:00,  1.41s/it]\n"
     ]
    },
    {
     "name": "stdout",
     "output_type": "stream",
     "text": [
      "📝 Ep55 train=0.1454 val=0.1373 dice=0.8064\n"
     ]
    },
    {
     "name": "stderr",
     "output_type": "stream",
     "text": [
      "Ep56/100 train: 100%|██████████| 41/41 [01:13<00:00,  1.79s/it]\n",
      "Ep56/100 val: 100%|██████████| 5/5 [00:07<00:00,  1.41s/it]\n"
     ]
    },
    {
     "name": "stdout",
     "output_type": "stream",
     "text": [
      "📝 Ep56 train=0.1544 val=0.1192 dice=0.5857\n"
     ]
    },
    {
     "name": "stderr",
     "output_type": "stream",
     "text": [
      "Ep57/100 train: 100%|██████████| 41/41 [01:13<00:00,  1.79s/it]\n",
      "Ep57/100 val: 100%|██████████| 5/5 [00:07<00:00,  1.43s/it]\n"
     ]
    },
    {
     "name": "stdout",
     "output_type": "stream",
     "text": [
      "📝 Ep57 train=0.1686 val=0.2098 dice=0.6803\n"
     ]
    },
    {
     "name": "stderr",
     "output_type": "stream",
     "text": [
      "Ep58/100 train: 100%|██████████| 41/41 [01:13<00:00,  1.79s/it]\n",
      "Ep58/100 val: 100%|██████████| 5/5 [00:07<00:00,  1.42s/it]\n"
     ]
    },
    {
     "name": "stdout",
     "output_type": "stream",
     "text": [
      "📝 Ep58 train=0.1355 val=0.1264 dice=0.7860\n"
     ]
    },
    {
     "name": "stderr",
     "output_type": "stream",
     "text": [
      "Ep59/100 train: 100%|██████████| 41/41 [01:13<00:00,  1.79s/it]\n",
      "Ep59/100 val: 100%|██████████| 5/5 [00:07<00:00,  1.41s/it]\n"
     ]
    },
    {
     "name": "stdout",
     "output_type": "stream",
     "text": [
      "📝 Ep59 train=0.1372 val=0.1241 dice=0.7495\n"
     ]
    },
    {
     "name": "stderr",
     "output_type": "stream",
     "text": [
      "Ep60/100 train: 100%|██████████| 41/41 [01:13<00:00,  1.79s/it]\n",
      "Ep60/100 val: 100%|██████████| 5/5 [00:07<00:00,  1.41s/it]\n"
     ]
    },
    {
     "name": "stdout",
     "output_type": "stream",
     "text": [
      "📝 Ep60 train=0.1499 val=0.1221 dice=0.7798\n"
     ]
    },
    {
     "name": "stderr",
     "output_type": "stream",
     "text": [
      "Ep61/100 train: 100%|██████████| 41/41 [01:13<00:00,  1.79s/it]\n",
      "Ep61/100 val: 100%|██████████| 5/5 [00:07<00:00,  1.41s/it]\n"
     ]
    },
    {
     "name": "stdout",
     "output_type": "stream",
     "text": [
      "📝 Ep61 train=0.1584 val=0.0933 dice=0.7458\n"
     ]
    },
    {
     "name": "stderr",
     "output_type": "stream",
     "text": [
      "Ep62/100 train: 100%|██████████| 41/41 [01:13<00:00,  1.79s/it]\n",
      "Ep62/100 val: 100%|██████████| 5/5 [00:07<00:00,  1.40s/it]\n"
     ]
    },
    {
     "name": "stdout",
     "output_type": "stream",
     "text": [
      "📝 Ep62 train=0.1495 val=0.1154 dice=0.8060\n"
     ]
    },
    {
     "name": "stderr",
     "output_type": "stream",
     "text": [
      "Ep63/100 train: 100%|██████████| 41/41 [01:13<00:00,  1.79s/it]\n",
      "Ep63/100 val: 100%|██████████| 5/5 [00:07<00:00,  1.41s/it]\n"
     ]
    },
    {
     "name": "stdout",
     "output_type": "stream",
     "text": [
      "📝 Ep63 train=0.1593 val=0.2151 dice=0.5789\n"
     ]
    },
    {
     "name": "stderr",
     "output_type": "stream",
     "text": [
      "Ep64/100 train: 100%|██████████| 41/41 [01:13<00:00,  1.79s/it]\n",
      "Ep64/100 val: 100%|██████████| 5/5 [00:07<00:00,  1.41s/it]\n"
     ]
    },
    {
     "name": "stdout",
     "output_type": "stream",
     "text": [
      "📝 Ep64 train=0.1471 val=0.2264 dice=0.6983\n"
     ]
    },
    {
     "name": "stderr",
     "output_type": "stream",
     "text": [
      "Ep65/100 train: 100%|██████████| 41/41 [01:13<00:00,  1.79s/it]\n",
      "Ep65/100 val: 100%|██████████| 5/5 [00:07<00:00,  1.41s/it]\n"
     ]
    },
    {
     "name": "stdout",
     "output_type": "stream",
     "text": [
      "📝 Ep65 train=0.1686 val=0.1693 dice=0.6578\n"
     ]
    },
    {
     "name": "stderr",
     "output_type": "stream",
     "text": [
      "Ep66/100 train: 100%|██████████| 41/41 [01:13<00:00,  1.79s/it]\n",
      "Ep66/100 val: 100%|██████████| 5/5 [00:07<00:00,  1.41s/it]\n"
     ]
    },
    {
     "name": "stdout",
     "output_type": "stream",
     "text": [
      "📝 Ep66 train=0.1658 val=0.1661 dice=0.5991\n"
     ]
    },
    {
     "name": "stderr",
     "output_type": "stream",
     "text": [
      "Ep67/100 train: 100%|██████████| 41/41 [01:13<00:00,  1.79s/it]\n",
      "Ep67/100 val: 100%|██████████| 5/5 [00:07<00:00,  1.41s/it]\n"
     ]
    },
    {
     "name": "stdout",
     "output_type": "stream",
     "text": [
      "📝 Ep67 train=0.1879 val=0.2804 dice=0.6964\n"
     ]
    },
    {
     "name": "stderr",
     "output_type": "stream",
     "text": [
      "Ep68/100 train: 100%|██████████| 41/41 [01:13<00:00,  1.78s/it]\n",
      "Ep68/100 val: 100%|██████████| 5/5 [00:07<00:00,  1.41s/it]\n"
     ]
    },
    {
     "name": "stdout",
     "output_type": "stream",
     "text": [
      "📝 Ep68 train=0.1908 val=0.0798 dice=0.8016\n"
     ]
    },
    {
     "name": "stderr",
     "output_type": "stream",
     "text": [
      "Ep69/100 train: 100%|██████████| 41/41 [01:13<00:00,  1.79s/it]\n",
      "Ep69/100 val: 100%|██████████| 5/5 [00:07<00:00,  1.41s/it]\n"
     ]
    },
    {
     "name": "stdout",
     "output_type": "stream",
     "text": [
      "📝 Ep69 train=0.1751 val=0.1158 dice=0.5680\n"
     ]
    },
    {
     "name": "stderr",
     "output_type": "stream",
     "text": [
      "Ep70/100 train: 100%|██████████| 41/41 [01:13<00:00,  1.79s/it]\n",
      "Ep70/100 val: 100%|██████████| 5/5 [00:07<00:00,  1.41s/it]\n"
     ]
    },
    {
     "name": "stdout",
     "output_type": "stream",
     "text": [
      "📝 Ep70 train=0.1345 val=0.2104 dice=0.8045\n"
     ]
    },
    {
     "name": "stderr",
     "output_type": "stream",
     "text": [
      "Ep71/100 train: 100%|██████████| 41/41 [01:13<00:00,  1.78s/it]\n",
      "Ep71/100 val: 100%|██████████| 5/5 [00:07<00:00,  1.41s/it]\n"
     ]
    },
    {
     "name": "stdout",
     "output_type": "stream",
     "text": [
      "📝 Ep71 train=0.1381 val=0.2130 dice=0.6862\n"
     ]
    },
    {
     "name": "stderr",
     "output_type": "stream",
     "text": [
      "Ep72/100 train: 100%|██████████| 41/41 [01:13<00:00,  1.79s/it]\n",
      "Ep72/100 val: 100%|██████████| 5/5 [00:07<00:00,  1.42s/it]\n"
     ]
    },
    {
     "name": "stdout",
     "output_type": "stream",
     "text": [
      "📝 Ep72 train=0.1419 val=0.1494 dice=0.7378\n"
     ]
    },
    {
     "name": "stderr",
     "output_type": "stream",
     "text": [
      "Ep73/100 train: 100%|██████████| 41/41 [01:13<00:00,  1.79s/it]\n",
      "Ep73/100 val: 100%|██████████| 5/5 [00:07<00:00,  1.41s/it]\n"
     ]
    },
    {
     "name": "stdout",
     "output_type": "stream",
     "text": [
      "📝 Ep73 train=0.1311 val=0.1496 dice=0.7122\n"
     ]
    },
    {
     "name": "stderr",
     "output_type": "stream",
     "text": [
      "Ep74/100 train: 100%|██████████| 41/41 [01:13<00:00,  1.79s/it]\n",
      "Ep74/100 val: 100%|██████████| 5/5 [00:07<00:00,  1.41s/it]\n"
     ]
    },
    {
     "name": "stdout",
     "output_type": "stream",
     "text": [
      "📝 Ep74 train=0.1651 val=0.2916 dice=0.6853\n"
     ]
    },
    {
     "name": "stderr",
     "output_type": "stream",
     "text": [
      "Ep75/100 train: 100%|██████████| 41/41 [01:13<00:00,  1.79s/it]\n",
      "Ep75/100 val: 100%|██████████| 5/5 [00:07<00:00,  1.41s/it]\n"
     ]
    },
    {
     "name": "stdout",
     "output_type": "stream",
     "text": [
      "📝 Ep75 train=0.1711 val=0.1521 dice=0.6798\n"
     ]
    },
    {
     "name": "stderr",
     "output_type": "stream",
     "text": [
      "Ep76/100 train: 100%|██████████| 41/41 [01:13<00:00,  1.79s/it]\n",
      "Ep76/100 val: 100%|██████████| 5/5 [00:07<00:00,  1.41s/it]\n"
     ]
    },
    {
     "name": "stdout",
     "output_type": "stream",
     "text": [
      "📝 Ep76 train=0.1328 val=0.1578 dice=0.6755\n"
     ]
    },
    {
     "name": "stderr",
     "output_type": "stream",
     "text": [
      "Ep77/100 train: 100%|██████████| 41/41 [01:13<00:00,  1.79s/it]\n",
      "Ep77/100 val: 100%|██████████| 5/5 [00:07<00:00,  1.43s/it]\n"
     ]
    },
    {
     "name": "stdout",
     "output_type": "stream",
     "text": [
      "📝 Ep77 train=0.1832 val=0.1860 dice=0.7749\n"
     ]
    },
    {
     "name": "stderr",
     "output_type": "stream",
     "text": [
      "Ep78/100 train: 100%|██████████| 41/41 [01:13<00:00,  1.79s/it]\n",
      "Ep78/100 val: 100%|██████████| 5/5 [00:07<00:00,  1.41s/it]\n"
     ]
    },
    {
     "name": "stdout",
     "output_type": "stream",
     "text": [
      "📝 Ep78 train=0.1378 val=0.1557 dice=0.8474\n",
      "  👑  Saved best model (dice 0.8474)\n"
     ]
    },
    {
     "name": "stderr",
     "output_type": "stream",
     "text": [
      "Ep79/100 train: 100%|██████████| 41/41 [01:13<00:00,  1.79s/it]\n",
      "Ep79/100 val: 100%|██████████| 5/5 [00:07<00:00,  1.41s/it]\n"
     ]
    },
    {
     "name": "stdout",
     "output_type": "stream",
     "text": [
      "📝 Ep79 train=0.1274 val=0.1066 dice=0.6551\n"
     ]
    },
    {
     "name": "stderr",
     "output_type": "stream",
     "text": [
      "Ep80/100 train: 100%|██████████| 41/41 [01:13<00:00,  1.79s/it]\n",
      "Ep80/100 val: 100%|██████████| 5/5 [00:07<00:00,  1.41s/it]\n"
     ]
    },
    {
     "name": "stdout",
     "output_type": "stream",
     "text": [
      "📝 Ep80 train=0.1512 val=0.1622 dice=0.8673\n",
      "  👑  Saved best model (dice 0.8673)\n"
     ]
    },
    {
     "name": "stderr",
     "output_type": "stream",
     "text": [
      "Ep81/100 train: 100%|██████████| 41/41 [01:13<00:00,  1.79s/it]\n",
      "Ep81/100 val: 100%|██████████| 5/5 [00:07<00:00,  1.41s/it]\n"
     ]
    },
    {
     "name": "stdout",
     "output_type": "stream",
     "text": [
      "📝 Ep81 train=0.1423 val=0.1345 dice=0.7281\n"
     ]
    },
    {
     "name": "stderr",
     "output_type": "stream",
     "text": [
      "Ep82/100 train: 100%|██████████| 41/41 [01:13<00:00,  1.79s/it]\n",
      "Ep82/100 val: 100%|██████████| 5/5 [00:07<00:00,  1.41s/it]\n"
     ]
    },
    {
     "name": "stdout",
     "output_type": "stream",
     "text": [
      "📝 Ep82 train=0.1319 val=0.1268 dice=0.8558\n"
     ]
    },
    {
     "name": "stderr",
     "output_type": "stream",
     "text": [
      "Ep83/100 train: 100%|██████████| 41/41 [01:13<00:00,  1.79s/it]\n",
      "Ep83/100 val: 100%|██████████| 5/5 [00:07<00:00,  1.41s/it]\n"
     ]
    },
    {
     "name": "stdout",
     "output_type": "stream",
     "text": [
      "📝 Ep83 train=0.1467 val=0.3601 dice=0.7872\n"
     ]
    },
    {
     "name": "stderr",
     "output_type": "stream",
     "text": [
      "Ep84/100 train: 100%|██████████| 41/41 [01:13<00:00,  1.78s/it]\n",
      "Ep84/100 val: 100%|██████████| 5/5 [00:07<00:00,  1.41s/it]\n"
     ]
    },
    {
     "name": "stdout",
     "output_type": "stream",
     "text": [
      "📝 Ep84 train=0.1446 val=0.1576 dice=0.7627\n"
     ]
    },
    {
     "name": "stderr",
     "output_type": "stream",
     "text": [
      "Ep85/100 train: 100%|██████████| 41/41 [01:13<00:00,  1.79s/it]\n",
      "Ep85/100 val: 100%|██████████| 5/5 [00:07<00:00,  1.41s/it]\n"
     ]
    },
    {
     "name": "stdout",
     "output_type": "stream",
     "text": [
      "📝 Ep85 train=0.1328 val=0.1000 dice=0.6923\n"
     ]
    },
    {
     "name": "stderr",
     "output_type": "stream",
     "text": [
      "Ep86/100 train: 100%|██████████| 41/41 [01:13<00:00,  1.79s/it]\n",
      "Ep86/100 val: 100%|██████████| 5/5 [00:07<00:00,  1.41s/it]\n"
     ]
    },
    {
     "name": "stdout",
     "output_type": "stream",
     "text": [
      "📝 Ep86 train=0.1506 val=0.2363 dice=0.7127\n"
     ]
    },
    {
     "name": "stderr",
     "output_type": "stream",
     "text": [
      "Ep87/100 train: 100%|██████████| 41/41 [01:13<00:00,  1.78s/it]\n",
      "Ep87/100 val: 100%|██████████| 5/5 [00:07<00:00,  1.42s/it]\n"
     ]
    },
    {
     "name": "stdout",
     "output_type": "stream",
     "text": [
      "📝 Ep87 train=0.1644 val=0.1792 dice=0.7746\n"
     ]
    },
    {
     "name": "stderr",
     "output_type": "stream",
     "text": [
      "Ep88/100 train: 100%|██████████| 41/41 [01:13<00:00,  1.79s/it]\n",
      "Ep88/100 val: 100%|██████████| 5/5 [00:07<00:00,  1.41s/it]\n"
     ]
    },
    {
     "name": "stdout",
     "output_type": "stream",
     "text": [
      "📝 Ep88 train=0.1826 val=0.1613 dice=0.6285\n"
     ]
    },
    {
     "name": "stderr",
     "output_type": "stream",
     "text": [
      "Ep89/100 train: 100%|██████████| 41/41 [01:13<00:00,  1.79s/it]\n",
      "Ep89/100 val: 100%|██████████| 5/5 [00:07<00:00,  1.41s/it]\n"
     ]
    },
    {
     "name": "stdout",
     "output_type": "stream",
     "text": [
      "📝 Ep89 train=0.1311 val=0.1676 dice=0.7262\n"
     ]
    },
    {
     "name": "stderr",
     "output_type": "stream",
     "text": [
      "Ep90/100 train: 100%|██████████| 41/41 [01:13<00:00,  1.79s/it]\n",
      "Ep90/100 val: 100%|██████████| 5/5 [00:07<00:00,  1.41s/it]\n"
     ]
    },
    {
     "name": "stdout",
     "output_type": "stream",
     "text": [
      "📝 Ep90 train=0.1192 val=0.1124 dice=0.8095\n"
     ]
    },
    {
     "name": "stderr",
     "output_type": "stream",
     "text": [
      "Ep91/100 train: 100%|██████████| 41/41 [01:13<00:00,  1.79s/it]\n",
      "Ep91/100 val: 100%|██████████| 5/5 [00:07<00:00,  1.41s/it]\n"
     ]
    },
    {
     "name": "stdout",
     "output_type": "stream",
     "text": [
      "📝 Ep91 train=0.1648 val=0.1562 dice=0.6782\n"
     ]
    },
    {
     "name": "stderr",
     "output_type": "stream",
     "text": [
      "Ep92/100 train: 100%|██████████| 41/41 [01:13<00:00,  1.79s/it]\n",
      "Ep92/100 val: 100%|██████████| 5/5 [00:07<00:00,  1.41s/it]\n"
     ]
    },
    {
     "name": "stdout",
     "output_type": "stream",
     "text": [
      "📝 Ep92 train=0.1543 val=0.1616 dice=0.7644\n"
     ]
    },
    {
     "name": "stderr",
     "output_type": "stream",
     "text": [
      "Ep93/100 train: 100%|██████████| 41/41 [01:13<00:00,  1.79s/it]\n",
      "Ep93/100 val: 100%|██████████| 5/5 [00:07<00:00,  1.41s/it]\n"
     ]
    },
    {
     "name": "stdout",
     "output_type": "stream",
     "text": [
      "📝 Ep93 train=0.1775 val=0.2095 dice=0.7962\n"
     ]
    },
    {
     "name": "stderr",
     "output_type": "stream",
     "text": [
      "Ep94/100 train: 100%|██████████| 41/41 [01:13<00:00,  1.79s/it]\n",
      "Ep94/100 val: 100%|██████████| 5/5 [00:07<00:00,  1.42s/it]\n"
     ]
    },
    {
     "name": "stdout",
     "output_type": "stream",
     "text": [
      "📝 Ep94 train=0.1675 val=0.2502 dice=0.6634\n"
     ]
    },
    {
     "name": "stderr",
     "output_type": "stream",
     "text": [
      "Ep95/100 train: 100%|██████████| 41/41 [01:13<00:00,  1.79s/it]\n",
      "Ep95/100 val: 100%|██████████| 5/5 [00:07<00:00,  1.40s/it]\n"
     ]
    },
    {
     "name": "stdout",
     "output_type": "stream",
     "text": [
      "📝 Ep95 train=0.1535 val=0.2348 dice=0.7115\n"
     ]
    },
    {
     "name": "stderr",
     "output_type": "stream",
     "text": [
      "Ep96/100 train: 100%|██████████| 41/41 [01:13<00:00,  1.79s/it]\n",
      "Ep96/100 val: 100%|██████████| 5/5 [00:07<00:00,  1.41s/it]\n"
     ]
    },
    {
     "name": "stdout",
     "output_type": "stream",
     "text": [
      "📝 Ep96 train=0.1523 val=0.2000 dice=0.6935\n"
     ]
    },
    {
     "name": "stderr",
     "output_type": "stream",
     "text": [
      "Ep97/100 train: 100%|██████████| 41/41 [01:13<00:00,  1.79s/it]\n",
      "Ep97/100 val: 100%|██████████| 5/5 [00:07<00:00,  1.41s/it]\n"
     ]
    },
    {
     "name": "stdout",
     "output_type": "stream",
     "text": [
      "📝 Ep97 train=0.1570 val=0.1638 dice=0.5532\n"
     ]
    },
    {
     "name": "stderr",
     "output_type": "stream",
     "text": [
      "Ep98/100 train: 100%|██████████| 41/41 [01:13<00:00,  1.79s/it]\n",
      "Ep98/100 val: 100%|██████████| 5/5 [00:07<00:00,  1.41s/it]\n"
     ]
    },
    {
     "name": "stdout",
     "output_type": "stream",
     "text": [
      "📝 Ep98 train=0.1847 val=0.1776 dice=0.6324\n"
     ]
    },
    {
     "name": "stderr",
     "output_type": "stream",
     "text": [
      "Ep99/100 train: 100%|██████████| 41/41 [01:13<00:00,  1.78s/it]\n",
      "Ep99/100 val: 100%|██████████| 5/5 [00:07<00:00,  1.41s/it]\n"
     ]
    },
    {
     "name": "stdout",
     "output_type": "stream",
     "text": [
      "📝 Ep99 train=0.1571 val=0.1658 dice=0.7944\n"
     ]
    },
    {
     "name": "stderr",
     "output_type": "stream",
     "text": [
      "Ep100/100 train: 100%|██████████| 41/41 [01:13<00:00,  1.79s/it]\n",
      "Ep100/100 val: 100%|██████████| 5/5 [00:07<00:00,  1.41s/it]"
     ]
    },
    {
     "name": "stdout",
     "output_type": "stream",
     "text": [
      "📝 Ep100 train=0.1527 val=0.1198 dice=0.7915\n"
     ]
    },
    {
     "name": "stderr",
     "output_type": "stream",
     "text": [
      "\n"
     ]
    }
   ],
   "source": [
    "# train_unet4ch.py\n",
    "import os, csv, random, argparse\n",
    "import numpy as np\n",
    "from PIL import Image\n",
    "from tqdm.auto import tqdm\n",
    "import torch, torchvision\n",
    "from torch import nn\n",
    "from torch.utils.data import Dataset, DataLoader\n",
    "#from model import UNet11_4ch                 # ★★ 改成 4ch 版本\n",
    "\n",
    "# ---------------- Dataset ----------------\n",
    "class AerialPatchDataset4C(Dataset):\n",
    "    \"\"\"\n",
    "    root/\n",
    "     ├─ images/        austin1.tif ...\n",
    "     ├─ depth_images/  austin1_depth.png / tif / jpg ...\n",
    "     └─ gt/            austin1.tif (遮罩，與 images 同名)\n",
    "    \"\"\"\n",
    "    COMMON_EXTS = [\".png\", \".jpg\", \".jpeg\", \".tif\", \".tiff\"]\n",
    "\n",
    "    def __init__(self, root, crop=256):\n",
    "        self.crop      = crop\n",
    "        self.img_dir   = os.path.join(root, \"images\")\n",
    "        self.depth_dir = os.path.join(root, \"depth_images\")\n",
    "        self.mask_dir  = os.path.join(root, \"gt\")\n",
    "\n",
    "        self.names     = sorted(os.listdir(self.img_dir))           # ex: austin1.tif\n",
    "        self.depth_map = self._build_depth_map()                    # ★★ 建對應表\n",
    "\n",
    "        self.mean = torch.tensor([0.485,0.456,0.406,0.5]).view(4,1,1)\n",
    "        self.std  = torch.tensor([0.229,0.224,0.225,0.5]).view(4,1,1)\n",
    "\n",
    "    # ----------  新增：掃描 depth_images ----------\n",
    "    def _build_depth_map(self):\n",
    "        depth_files = os.listdir(self.depth_dir)\n",
    "        depth_dict  = {}\n",
    "        for f in depth_files:\n",
    "            stem, ext = os.path.splitext(f)\n",
    "            if stem.endswith(\"_depth\"):\n",
    "                base = stem[:-6]                    # 去掉 \"_depth\"\n",
    "                depth_dict[base] = f\n",
    "        return depth_dict                           # {austin1: austin1_depth.png}\n",
    "\n",
    "    def __len__(self): return len(self.names)\n",
    "\n",
    "    def _random_crop(self, img, depth, msk):\n",
    "        h, w = img.shape[:2]; ch = cw = self.crop\n",
    "        top  = random.randint(0, h - ch); left = random.randint(0, w - cw)\n",
    "        return (arr[top:top+ch, left:left+cw] for arr in (img, depth, msk))\n",
    "\n",
    "    def __getitem__(self, idx):\n",
    "        name = self.names[idx]                      # austin1.tif\n",
    "        stem, ext = os.path.splitext(name)          # austin1, .tif\n",
    "        try:\n",
    "            # --- 找對應的深度圖檔名 ---\n",
    "            if stem in self.depth_map:\n",
    "                depth_fname = self.depth_map[stem]\n",
    "            else:\n",
    "                # 保險：按副檔名猜測\n",
    "                depth_fname = None\n",
    "                for ex in [ext] + self.COMMON_EXTS:\n",
    "                    cand = f\"{stem}_depth{ex}\"\n",
    "                    if os.path.exists(os.path.join(self.depth_dir, cand)):\n",
    "                        depth_fname = cand; break\n",
    "                if depth_fname is None:\n",
    "                    raise FileNotFoundError(f\"找不到 {stem}_depth.*\")\n",
    "\n",
    "            # --- 讀檔 ---\n",
    "            rgb   = Image.open(os.path.join(self.img_dir,   name)).convert(\"RGB\")\n",
    "            depth = Image.open(os.path.join(self.depth_dir, depth_fname)).convert(\"L\")\n",
    "            msk   = Image.open(os.path.join(self.mask_dir,  name)).convert(\"L\")\n",
    "\n",
    "            rgb   = np.asarray(rgb)\n",
    "            depth = np.asarray(depth)[..., None]              # H×W×1\n",
    "            msk   = (np.asarray(msk) // 255).astype(np.uint8)\n",
    "\n",
    "            rgb, depth, msk = self._random_crop(rgb, depth, msk)\n",
    "\n",
    "            # --- to tensor ---\n",
    "            rgb   = torch.from_numpy(rgb).permute(2,0,1).float() / 255.0\n",
    "            depth = torch.from_numpy(depth).permute(2,0,1).float() / 255.0\n",
    "            img4  = torch.cat([rgb, depth], 0)                # 4×H×W\n",
    "            img4  = (img4 - self.mean) / self.std\n",
    "            msk   = torch.from_numpy(msk).float().unsqueeze(0)\n",
    "            return img4, msk\n",
    "\n",
    "        except Exception as e:\n",
    "            print(f\"❌ [錯誤] {name}: {e}\")\n",
    "            return (torch.zeros(4, self.crop, self.crop),\n",
    "                    torch.zeros(1, self.crop, self.crop))\n",
    "\n",
    "# ---------------- Metric -----------------\n",
    "def dice_coef(pred, target, eps=1e-7):\n",
    "    pred = (torch.sigmoid(pred) > 0.5).float()\n",
    "    inter = (pred * target).sum((1,2,3))\n",
    "    union = pred.sum((1,2,3)) + target.sum((1,2,3))\n",
    "    return ((2*inter+eps)/(union+eps)).mean()\n",
    "\n",
    "# ---------------- Train ------------------\n",
    "def main(args):\n",
    "    torch.multiprocessing.set_start_method('spawn', force=True)\n",
    "    device = torch.device(\"cuda\" if torch.cuda.is_available() else \"cpu\")\n",
    "    print(\"🚀 Device:\", device)\n",
    "\n",
    "    root = r\"E:\\論文\\空拍地圖語意分割\\Depth4UNet\\AerialImageDataset\\train\"\n",
    "    if not os.path.exists(root):\n",
    "        print(f\"❌ 找不到資料目錄 {root}\"); return\n",
    "\n",
    "    data = AerialPatchDataset4C(root, crop=args.crop)\n",
    "    print(f\"📊 共 {len(data)} 張影像\")\n",
    "    v = int(0.1*len(data))\n",
    "    train_ds, val_ds = torch.utils.data.random_split(data, [len(data)-v, v])\n",
    "\n",
    "    def loader(ds, shf): return DataLoader(\n",
    "        ds, batch_size=args.bs, shuffle=shf,\n",
    "        num_workers=0, pin_memory=False, persistent_workers=False)\n",
    "\n",
    "    train_ld, val_ld = loader(train_ds, True), loader(val_ds, False)\n",
    "\n",
    "    model = EnhancedUNet11_4ch(pretrained=True).to(device)      # ★★\n",
    "    crit  = nn.BCEWithLogitsLoss()\n",
    "    opt   = torch.optim.Adam(model.parameters(), lr=args.lr)\n",
    "    scaler= torch.amp.GradScaler(device.type)\n",
    "\n",
    "    best = 0; os.makedirs(\"checkpoints\", exist_ok=True)\n",
    "    with open(\"metrics.csv\",\"w\",newline=\"\") as f:\n",
    "        csv.writer(f).writerow([\"epoch\",\"train_loss\",\"val_loss\",\"dice\"])\n",
    "\n",
    "    for ep in range(1, args.epochs+1):\n",
    "        # ---- train ----\n",
    "        model.train(); tr_loss=0; n_tr=0\n",
    "        for img,msk in tqdm(train_ld, desc=f\"Ep{ep}/{args.epochs} train\"):\n",
    "            img,msk = img.to(device), msk.to(device)\n",
    "            with torch.amp.autocast(device.type):\n",
    "                pred = model(img); loss = crit(pred, msk)\n",
    "            opt.zero_grad(); scaler.scale(loss).backward()\n",
    "            scaler.step(opt); scaler.update()\n",
    "            tr_loss += loss.item(); n_tr += 1\n",
    "\n",
    "        # ---- val ----\n",
    "        model.eval(); vl_loss=0; dices=[]; n_v=0\n",
    "        with torch.no_grad():\n",
    "            for img,msk in tqdm(val_ld, desc=f\"Ep{ep}/{args.epochs} val\"):\n",
    "                img,msk = img.to(device), msk.to(device)\n",
    "                with torch.amp.autocast(device.type):\n",
    "                    pred = model(img); loss = crit(pred, msk)\n",
    "                vl_loss += loss.item(); dices.append(dice_coef(pred, msk).item()); n_v += 1\n",
    "\n",
    "        tr_loss /= max(n_tr,1); vl_loss /= max(n_v,1); dice = np.mean(dices) if dices else 0\n",
    "        print(f\"📝 Ep{ep} train={tr_loss:.4f} val={vl_loss:.4f} dice={dice:.4f}\")\n",
    "        with open(\"metrics.csv\",\"a\",newline=\"\") as f:\n",
    "            csv.writer(f).writerow([ep,tr_loss,vl_loss,dice])\n",
    "\n",
    "        if dice > best:\n",
    "            best = dice\n",
    "            torch.save(model.state_dict(), \"checkpoints/best_unet4ch(Enhanced_UNet11_4ch).pth\")\n",
    "            print(f\"  👑  Saved best model (dice {best:.4f})\")\n",
    "\n",
    "# ---------------- Run --------------------\n",
    "if __name__ != \"__main__\":\n",
    "    args = argparse.Namespace(epochs=100, bs=4, lr=1e-4, crop=256)\n",
    "    main(args)\n"
   ]
  },
  {
   "cell_type": "code",
   "execution_count": 6,
   "id": "54e54748",
   "metadata": {},
   "outputs": [
    {
     "name": "stdout",
     "output_type": "stream",
     "text": [
      "🚀 Device: cuda\n"
     ]
    },
    {
     "name": "stderr",
     "output_type": "stream",
     "text": [
      "C:\\Users\\op237\\AppData\\Local\\Temp\\ipykernel_25352\\1178210388.py:36: FutureWarning: You are using `torch.load` with `weights_only=False` (the current default value), which uses the default pickle module implicitly. It is possible to construct malicious pickle data which will execute arbitrary code during unpickling (See https://github.com/pytorch/pytorch/blob/main/SECURITY.md#untrusted-models for more details). In a future release, the default value for `weights_only` will be flipped to `True`. This limits the functions that could be executed during unpickling. Arbitrary objects will no longer be allowed to be loaded via this mode unless they are explicitly allowlisted by the user via `torch.serialization.add_safe_globals`. We recommend you start setting `weights_only=True` for any use case where you don't have full control of the loaded file. Please open an issue on GitHub for any issues related to this experimental feature.\n",
      "  ckpt = torch.load(ckpt_path, map_location=\"cpu\")\n"
     ]
    },
    {
     "name": "stdout",
     "output_type": "stream",
     "text": [
      "UNet4ch: matched 351 / 351 layers\n"
     ]
    },
    {
     "name": "stderr",
     "output_type": "stream",
     "text": [
      "Infer val: 100%|██████████| 5/5 [00:08<00:00,  1.66s/it]\n"
     ]
    },
    {
     "name": "stdout",
     "output_type": "stream",
     "text": [
      "Collected 1,179,648 pixels for evaluation\n",
      "Average Precision = 0.8549\n",
      "📈  Saved pr_curve.png\n",
      "💾  Saved val_pred.npz\n"
     ]
    },
    {
     "data": {
      "image/png": "[encoded data removed]",
      "text/plain": [
       "<Figure size 640x480 with 1 Axes>"
      ]
     },
     "metadata": {},
     "output_type": "display_data"
    }
   ],
   "source": [
    "# %% [markdown]\n",
    "# # Evaluate **UNet11_4ch** & Plot Precision-Recall Curve\n",
    "#\n",
    "# 1. 先設定 `CKPT_PATH` 與 `DATA_ROOT`  \n",
    "# 2. Run all cells / 執行整支 script  \n",
    "# 3. 會列出 matched layers、計算 PR 曲線與 AP，並存出\n",
    "#    * `pr_curve.png`\n",
    "#    * `val_pred.npz`\n",
    "\n",
    "# %% [markdown]\n",
    "# ## （可選）安裝相依套件\n",
    "# 如果缺 `scikit-learn` / `matplotlib`，取消註解以下一行安裝\n",
    "# !pip install scikit-learn matplotlib tqdm\n",
    "# ── 固定隨機種子，請放在 import 後、任何資料集/模型建立之前 ──\n",
    "import random, numpy as np, torch\n",
    "\n",
    "SEED = 10               # 你想用的種子數\n",
    "random.seed(SEED)       # Python 內建 random\n",
    "np.random.seed(SEED)    # NumPy\n",
    "torch.manual_seed(SEED) # PyTorch CPU\n",
    "if torch.cuda.is_available():\n",
    "    torch.cuda.manual_seed_all(SEED)      # PyTorch GPU\n",
    "torch.backends.cudnn.deterministic = True # 讓 cuDNN 算子 deterministic\n",
    "torch.backends.cudnn.benchmark = False    # 關掉自適應演算法選擇\n",
    "\n",
    "# %% Imports & helpers\n",
    "import os, torch, numpy as np, matplotlib.pyplot as plt\n",
    "from tqdm.auto import tqdm\n",
    "from sklearn.metrics import precision_recall_curve, average_precision_score\n",
    "\n",
    "# ---- 匯入你的模型與 Dataset ----\n",
    "\n",
    "\n",
    "def load_ckpt(model, ckpt_path, label=\"UNet4ch\"):\n",
    "    \"\"\"安全載入權重並回報相符層數\"\"\"\n",
    "    ckpt = torch.load(ckpt_path, map_location=\"cpu\")\n",
    "    model_state = model.state_dict()\n",
    "    compatible = {k: v for k, v in ckpt.items()\n",
    "                  if k in model_state and v.shape == model_state[k].shape}\n",
    "    model_state.update(compatible)\n",
    "    model.load_state_dict(model_state)\n",
    "    print(f\"{label}: matched {len(compatible)} / {len(model_state)} layers\")\n",
    "    return model\n",
    "\n",
    "# %% 🔧 路徑與參數（請修改這裡）\n",
    "CKPT_PATH  = r\"checkpoints/best_unet4ch(Enhanced_UNet11_4ch).pth\"  # ← 你的 checkpoint\n",
    "DATA_ROOT  = r\"E:\\論文\\空拍地圖語意分割\\Depth4UNet\\AerialImageDataset\\train\"  # ← 資料集根目錄\n",
    "BATCH_SIZE = 4\n",
    "CROP_SIZE  = 256\n",
    "VAL_RATIO  = 0.10\n",
    "\n",
    "device = torch.device(\"cuda\" if torch.cuda.is_available() else \"cpu\")\n",
    "print(\"🚀 Device:\", device)\n",
    "\n",
    "# %% Dataset & DataLoader\n",
    "ds = AerialPatchDataset4C(DATA_ROOT, crop=CROP_SIZE)\n",
    "val_len = int(len(ds) * VAL_RATIO)\n",
    "_, val_ds = torch.utils.data.random_split(ds, [len(ds) - val_len, val_len])\n",
    "\n",
    "val_ld = torch.utils.data.DataLoader(\n",
    "    val_ds, batch_size=BATCH_SIZE, shuffle=False,\n",
    "    num_workers=0, pin_memory=False)\n",
    "\n",
    "# %% Model\n",
    "model = EnhancedUNet11_4ch(pretrained=False).to(device)\n",
    "model = load_ckpt(model, CKPT_PATH)\n",
    "\n",
    "# %% Inference: collect y_true / y_score\n",
    "model.eval()\n",
    "y_true, y_score = [], []\n",
    "with torch.no_grad():\n",
    "    for img, msk in tqdm(val_ld, desc=\"Infer val\"):\n",
    "        img = img.to(device)\n",
    "        prob = model(img).sigmoid().cpu()   # (B,1,H,W) 機率\n",
    "        y_score.append(prob.flatten())\n",
    "        y_true.append(msk.flatten())\n",
    "\n",
    "y_true  = torch.cat(y_true).numpy()\n",
    "y_score = torch.cat(y_score).numpy()\n",
    "print(f\"Collected {y_true.shape[0]:,} pixels for evaluation\")\n",
    "\n",
    "# %% PR curve & Average Precision\n",
    "precision, recall, _ = precision_recall_curve(y_true, y_score)\n",
    "ap = average_precision_score(y_true, y_score)\n",
    "print(f\"Average Precision = {ap:.4f}\")\n",
    "\n",
    "# %% Plot & save\n",
    "plt.figure()\n",
    "plt.plot(recall, precision)\n",
    "plt.xlabel(\"Recall\")\n",
    "plt.ylabel(\"Precision\")\n",
    "plt.title(f\"PR Curve (AP = {ap:.4f})\")\n",
    "plt.grid()\n",
    "plt.tight_layout()\n",
    "plt.savefig(\"pr_curve.png\")\n",
    "print(\"📈  Saved pr_curve.png\")\n",
    "\n",
    "# Save raw arrays\n",
    "np.savez_compressed(\"val_pred.npz\", y_true=y_true, y_score=y_score)\n",
    "print(\"💾  Saved val_pred.npz\")\n"
   ]
  }
 ],
 "metadata": {
  "kernelspec": {
   "display_name": "Depth4UNet",
   "language": "python",
   "name": "python3"
  },
  "language_info": {
   "codemirror_mode": {
    "name": "ipython",
    "version": 3
   },
   "file_extension": ".py",
   "mimetype": "text/x-python",
   "name": "python",
   "nbconvert_exporter": "python",
   "pygments_lexer": "ipython3",
   "version": "3.8.20"
  }
 },
 "nbformat": 4,
 "nbformat_minor": 5
}
