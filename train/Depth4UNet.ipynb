{
 "cells": [
  {
   "cell_type": "code",
   "execution_count": 8,
   "id": "6e5bda88",
   "metadata": {},
   "outputs": [],
   "source": [
    "# model.py\n",
    "import torch, torchvision\n",
    "from torch import nn\n",
    "\n",
    "def conv3x3(i, o): return nn.Conv2d(i, o, 3, padding=1)\n",
    "\n",
    "class ConvRelu(nn.Module):\n",
    "    def __init__(self, i, o):\n",
    "        super().__init__()\n",
    "        self.block = nn.Sequential(conv3x3(i, o), nn.ReLU(inplace=True))\n",
    "    def forward(self, x): return self.block(x)\n",
    "\n",
    "class DecoderBlock(nn.Module):\n",
    "    def __init__(self, i, m, o):\n",
    "        super().__init__()\n",
    "        self.block = nn.Sequential(\n",
    "            ConvRelu(i, m),\n",
    "            nn.ConvTranspose2d(m, o, 3, 2, 1, 1),\n",
    "            nn.ReLU(inplace=True)\n",
    "        )\n",
    "    def forward(self, x): return self.block(x)\n",
    "\n",
    "class UNet11_4ch(nn.Module):\n",
    "    \"\"\"UNet-11，首層改為 4→64，RGB 權重沿用並為第 4 通道初始化均值\"\"\"\n",
    "    def __init__(self, num_filters=32, pretrained=True):\n",
    "        super().__init__()\n",
    "        enc = torchvision.models.vgg11(pretrained=pretrained).features\n",
    "        old = enc[0]                                   # 3→64\n",
    "        new = nn.Conv2d(4, 64, 3, padding=1)           # ★★ 改 4→64\n",
    "        if pretrained:\n",
    "            with torch.no_grad():\n",
    "                new.weight[:, :3] = old.weight         # RGB 權重複製\n",
    "                new.weight[:, 3:4] = old.weight.mean(1, keepdim=True)\n",
    "                new.bias = old.bias\n",
    "        enc[0] = new\n",
    "        self.encoder = enc\n",
    "\n",
    "        self.relu, self.pool = nn.ReLU(inplace=True), nn.MaxPool2d(2,2)\n",
    "        self.conv1, self.conv2 = enc[0], enc[3]\n",
    "        self.conv3s, self.conv3 = enc[6], enc[8]\n",
    "        self.conv4s, self.conv4 = enc[11], enc[13]\n",
    "        self.conv5s, self.conv5 = enc[16], enc[18]\n",
    "\n",
    "        nf = num_filters\n",
    "        self.center = DecoderBlock(nf*8*2, nf*8*2, nf*8)\n",
    "        self.dec5   = DecoderBlock(nf*(16+8), nf*8*2, nf*8)\n",
    "        self.dec4   = DecoderBlock(nf*(16+8), nf*8*2, nf*4)\n",
    "        self.dec3   = DecoderBlock(nf*(8+4),  nf*4*2, nf*2)\n",
    "        self.dec2   = DecoderBlock(nf*(4+2),  nf*2*2, nf)\n",
    "        self.dec1   = ConvRelu(nf*(2+1), nf)\n",
    "        self.final  = nn.Conv2d(nf, 1, 1)\n",
    "\n",
    "    def forward(self, x):\n",
    "        c1 = self.relu(self.conv1(x))\n",
    "        c2 = self.relu(self.conv2(self.pool(c1)))\n",
    "        c3s= self.relu(self.conv3s(self.pool(c2)))\n",
    "        c3 = self.relu(self.conv3(c3s))\n",
    "        c4s= self.relu(self.conv4s(self.pool(c3)))\n",
    "        c4 = self.relu(self.conv4(c4s))\n",
    "        c5s= self.relu(self.conv5s(self.pool(c4)))\n",
    "        c5 = self.relu(self.conv5(c5s))\n",
    "\n",
    "        ctr = self.center(self.pool(c5))\n",
    "        d5  = self.dec5(torch.cat([ctr, c5], 1))\n",
    "        d4  = self.dec4(torch.cat([d5,  c4], 1))\n",
    "        d3  = self.dec3(torch.cat([d4,  c3], 1))\n",
    "        d2  = self.dec2(torch.cat([d3,  c2], 1))\n",
    "        d1  = self.dec1(torch.cat([d2,  c1], 1))\n",
    "        return self.final(d1)"
   ]
  },
  {
   "cell_type": "code",
   "execution_count": 9,
   "id": "c534122e",
   "metadata": {},
   "outputs": [
    {
     "name": "stdout",
     "output_type": "stream",
     "text": [
      "🚀 Device: cuda\n",
      "📊 共 180 張影像\n"
     ]
    },
    {
     "name": "stderr",
     "output_type": "stream",
     "text": [
      "Ep1/100 train: 100%|██████████| 41/41 [04:04<00:00,  5.96s/it]\n",
      "Ep1/100 val: 100%|██████████| 5/5 [00:28<00:00,  5.65s/it]\n"
     ]
    },
    {
     "name": "stdout",
     "output_type": "stream",
     "text": [
      "📝 Ep1 train=0.4522 val=0.3776 dice=0.2500\n",
      "  👑  Saved best model (dice 0.2500)\n"
     ]
    },
    {
     "name": "stderr",
     "output_type": "stream",
     "text": [
      "Ep2/100 train: 100%|██████████| 41/41 [02:36<00:00,  3.81s/it]\n",
      "Ep2/100 val: 100%|██████████| 5/5 [00:29<00:00,  5.96s/it]\n"
     ]
    },
    {
     "name": "stdout",
     "output_type": "stream",
     "text": [
      "📝 Ep2 train=0.3619 val=0.2517 dice=0.2510\n",
      "  👑  Saved best model (dice 0.2510)\n"
     ]
    },
    {
     "name": "stderr",
     "output_type": "stream",
     "text": [
      "Ep3/100 train: 100%|██████████| 41/41 [02:52<00:00,  4.21s/it]\n",
      "Ep3/100 val: 100%|██████████| 5/5 [00:30<00:00,  6.04s/it]\n"
     ]
    },
    {
     "name": "stdout",
     "output_type": "stream",
     "text": [
      "📝 Ep3 train=0.3137 val=0.1811 dice=0.3984\n",
      "  👑  Saved best model (dice 0.3984)\n"
     ]
    },
    {
     "name": "stderr",
     "output_type": "stream",
     "text": [
      "Ep4/100 train: 100%|██████████| 41/41 [02:02<00:00,  3.00s/it]\n",
      "Ep4/100 val: 100%|██████████| 5/5 [00:12<00:00,  2.47s/it]\n"
     ]
    },
    {
     "name": "stdout",
     "output_type": "stream",
     "text": [
      "📝 Ep4 train=0.2606 val=0.2325 dice=0.6510\n",
      "  👑  Saved best model (dice 0.6510)\n"
     ]
    },
    {
     "name": "stderr",
     "output_type": "stream",
     "text": [
      "Ep5/100 train: 100%|██████████| 41/41 [01:40<00:00,  2.44s/it]\n",
      "Ep5/100 val: 100%|██████████| 5/5 [00:09<00:00,  1.84s/it]\n"
     ]
    },
    {
     "name": "stdout",
     "output_type": "stream",
     "text": [
      "📝 Ep5 train=0.2689 val=0.2153 dice=0.6950\n",
      "  👑  Saved best model (dice 0.6950)\n"
     ]
    },
    {
     "name": "stderr",
     "output_type": "stream",
     "text": [
      "Ep6/100 train: 100%|██████████| 41/41 [01:28<00:00,  2.16s/it]\n",
      "Ep6/100 val: 100%|██████████| 5/5 [00:10<00:00,  2.11s/it]\n"
     ]
    },
    {
     "name": "stdout",
     "output_type": "stream",
     "text": [
      "📝 Ep6 train=0.2637 val=0.1462 dice=0.6594\n"
     ]
    },
    {
     "name": "stderr",
     "output_type": "stream",
     "text": [
      "Ep7/100 train: 100%|██████████| 41/41 [01:46<00:00,  2.61s/it]\n",
      "Ep7/100 val: 100%|██████████| 5/5 [00:09<00:00,  1.99s/it]\n"
     ]
    },
    {
     "name": "stdout",
     "output_type": "stream",
     "text": [
      "📝 Ep7 train=0.2331 val=0.2334 dice=0.6566\n"
     ]
    },
    {
     "name": "stderr",
     "output_type": "stream",
     "text": [
      "Ep8/100 train: 100%|██████████| 41/41 [01:29<00:00,  2.19s/it]\n",
      "Ep8/100 val: 100%|██████████| 5/5 [00:09<00:00,  1.90s/it]\n"
     ]
    },
    {
     "name": "stdout",
     "output_type": "stream",
     "text": [
      "📝 Ep8 train=0.2342 val=0.1815 dice=0.7160\n",
      "  👑  Saved best model (dice 0.7160)\n"
     ]
    },
    {
     "name": "stderr",
     "output_type": "stream",
     "text": [
      "Ep9/100 train: 100%|██████████| 41/41 [01:24<00:00,  2.06s/it]\n",
      "Ep9/100 val: 100%|██████████| 5/5 [00:10<00:00,  2.03s/it]\n"
     ]
    },
    {
     "name": "stdout",
     "output_type": "stream",
     "text": [
      "📝 Ep9 train=0.2557 val=0.2002 dice=0.7845\n",
      "  👑  Saved best model (dice 0.7845)\n"
     ]
    },
    {
     "name": "stderr",
     "output_type": "stream",
     "text": [
      "Ep10/100 train: 100%|██████████| 41/41 [01:32<00:00,  2.26s/it]\n",
      "Ep10/100 val: 100%|██████████| 5/5 [00:08<00:00,  1.70s/it]\n"
     ]
    },
    {
     "name": "stdout",
     "output_type": "stream",
     "text": [
      "📝 Ep10 train=0.1941 val=0.2355 dice=0.6596\n"
     ]
    },
    {
     "name": "stderr",
     "output_type": "stream",
     "text": [
      "Ep11/100 train: 100%|██████████| 41/41 [02:28<00:00,  3.62s/it]\n",
      "Ep11/100 val: 100%|██████████| 5/5 [00:31<00:00,  6.21s/it]\n"
     ]
    },
    {
     "name": "stdout",
     "output_type": "stream",
     "text": [
      "📝 Ep11 train=0.2179 val=0.1641 dice=0.6068\n"
     ]
    },
    {
     "name": "stderr",
     "output_type": "stream",
     "text": [
      "Ep12/100 train: 100%|██████████| 41/41 [02:31<00:00,  3.69s/it]\n",
      "Ep12/100 val: 100%|██████████| 5/5 [00:11<00:00,  2.32s/it]\n"
     ]
    },
    {
     "name": "stdout",
     "output_type": "stream",
     "text": [
      "📝 Ep12 train=0.2037 val=0.3052 dice=0.6199\n"
     ]
    },
    {
     "name": "stderr",
     "output_type": "stream",
     "text": [
      "Ep13/100 train: 100%|██████████| 41/41 [01:38<00:00,  2.39s/it]\n",
      "Ep13/100 val: 100%|██████████| 5/5 [00:10<00:00,  2.10s/it]\n"
     ]
    },
    {
     "name": "stdout",
     "output_type": "stream",
     "text": [
      "📝 Ep13 train=0.1982 val=0.2325 dice=0.6115\n"
     ]
    },
    {
     "name": "stderr",
     "output_type": "stream",
     "text": [
      "Ep14/100 train: 100%|██████████| 41/41 [01:42<00:00,  2.49s/it]\n",
      "Ep14/100 val: 100%|██████████| 5/5 [00:12<00:00,  2.59s/it]\n"
     ]
    },
    {
     "name": "stdout",
     "output_type": "stream",
     "text": [
      "📝 Ep14 train=0.1991 val=0.1762 dice=0.5871\n"
     ]
    },
    {
     "name": "stderr",
     "output_type": "stream",
     "text": [
      "Ep15/100 train: 100%|██████████| 41/41 [01:29<00:00,  2.17s/it]\n",
      "Ep15/100 val: 100%|██████████| 5/5 [00:09<00:00,  1.90s/it]\n"
     ]
    },
    {
     "name": "stdout",
     "output_type": "stream",
     "text": [
      "📝 Ep15 train=0.2682 val=0.1913 dice=0.7468\n"
     ]
    },
    {
     "name": "stderr",
     "output_type": "stream",
     "text": [
      "Ep16/100 train: 100%|██████████| 41/41 [01:27<00:00,  2.13s/it]\n",
      "Ep16/100 val: 100%|██████████| 5/5 [00:11<00:00,  2.21s/it]\n"
     ]
    },
    {
     "name": "stdout",
     "output_type": "stream",
     "text": [
      "📝 Ep16 train=0.1938 val=0.1299 dice=0.8316\n",
      "  👑  Saved best model (dice 0.8316)\n"
     ]
    },
    {
     "name": "stderr",
     "output_type": "stream",
     "text": [
      "Ep17/100 train: 100%|██████████| 41/41 [01:40<00:00,  2.46s/it]\n",
      "Ep17/100 val: 100%|██████████| 5/5 [00:14<00:00,  2.85s/it]\n"
     ]
    },
    {
     "name": "stdout",
     "output_type": "stream",
     "text": [
      "📝 Ep17 train=0.1901 val=0.2066 dice=0.7804\n"
     ]
    },
    {
     "name": "stderr",
     "output_type": "stream",
     "text": [
      "Ep18/100 train: 100%|██████████| 41/41 [02:16<00:00,  3.34s/it]\n",
      "Ep18/100 val: 100%|██████████| 5/5 [00:29<00:00,  5.80s/it]\n"
     ]
    },
    {
     "name": "stdout",
     "output_type": "stream",
     "text": [
      "📝 Ep18 train=0.2220 val=0.1615 dice=0.6679\n"
     ]
    },
    {
     "name": "stderr",
     "output_type": "stream",
     "text": [
      "Ep19/100 train: 100%|██████████| 41/41 [02:06<00:00,  3.09s/it]\n",
      "Ep19/100 val: 100%|██████████| 5/5 [00:11<00:00,  2.32s/it]\n"
     ]
    },
    {
     "name": "stdout",
     "output_type": "stream",
     "text": [
      "📝 Ep19 train=0.1802 val=0.1845 dice=0.7643\n"
     ]
    },
    {
     "name": "stderr",
     "output_type": "stream",
     "text": [
      "Ep20/100 train: 100%|██████████| 41/41 [01:45<00:00,  2.57s/it]\n",
      "Ep20/100 val: 100%|██████████| 5/5 [00:11<00:00,  2.20s/it]\n"
     ]
    },
    {
     "name": "stdout",
     "output_type": "stream",
     "text": [
      "📝 Ep20 train=0.2002 val=0.2151 dice=0.5661\n"
     ]
    },
    {
     "name": "stderr",
     "output_type": "stream",
     "text": [
      "Ep21/100 train: 100%|██████████| 41/41 [01:45<00:00,  2.58s/it]\n",
      "Ep21/100 val: 100%|██████████| 5/5 [00:12<00:00,  2.40s/it]\n"
     ]
    },
    {
     "name": "stdout",
     "output_type": "stream",
     "text": [
      "📝 Ep21 train=0.2143 val=0.1478 dice=0.6308\n"
     ]
    },
    {
     "name": "stderr",
     "output_type": "stream",
     "text": [
      "Ep22/100 train: 100%|██████████| 41/41 [01:48<00:00,  2.64s/it]\n",
      "Ep22/100 val: 100%|██████████| 5/5 [00:11<00:00,  2.40s/it]\n"
     ]
    },
    {
     "name": "stdout",
     "output_type": "stream",
     "text": [
      "📝 Ep22 train=0.1633 val=0.1192 dice=0.6570\n"
     ]
    },
    {
     "name": "stderr",
     "output_type": "stream",
     "text": [
      "Ep23/100 train: 100%|██████████| 41/41 [01:41<00:00,  2.47s/it]\n",
      "Ep23/100 val: 100%|██████████| 5/5 [00:11<00:00,  2.35s/it]\n"
     ]
    },
    {
     "name": "stdout",
     "output_type": "stream",
     "text": [
      "📝 Ep23 train=0.1692 val=0.1431 dice=0.7311\n"
     ]
    },
    {
     "name": "stderr",
     "output_type": "stream",
     "text": [
      "Ep24/100 train: 100%|██████████| 41/41 [01:46<00:00,  2.60s/it]\n",
      "Ep24/100 val: 100%|██████████| 5/5 [00:10<00:00,  2.01s/it]\n"
     ]
    },
    {
     "name": "stdout",
     "output_type": "stream",
     "text": [
      "📝 Ep24 train=0.1897 val=0.1340 dice=0.6575\n"
     ]
    },
    {
     "name": "stderr",
     "output_type": "stream",
     "text": [
      "Ep25/100 train: 100%|██████████| 41/41 [01:45<00:00,  2.58s/it]\n",
      "Ep25/100 val: 100%|██████████| 5/5 [00:10<00:00,  2.10s/it]\n"
     ]
    },
    {
     "name": "stdout",
     "output_type": "stream",
     "text": [
      "📝 Ep25 train=0.1998 val=0.1555 dice=0.7571\n"
     ]
    },
    {
     "name": "stderr",
     "output_type": "stream",
     "text": [
      "Ep26/100 train: 100%|██████████| 41/41 [01:42<00:00,  2.49s/it]\n",
      "Ep26/100 val: 100%|██████████| 5/5 [00:11<00:00,  2.35s/it]\n"
     ]
    },
    {
     "name": "stdout",
     "output_type": "stream",
     "text": [
      "📝 Ep26 train=0.1816 val=0.1290 dice=0.6945\n"
     ]
    },
    {
     "name": "stderr",
     "output_type": "stream",
     "text": [
      "Ep27/100 train: 100%|██████████| 41/41 [01:44<00:00,  2.55s/it]\n",
      "Ep27/100 val: 100%|██████████| 5/5 [00:12<00:00,  2.43s/it]\n"
     ]
    },
    {
     "name": "stdout",
     "output_type": "stream",
     "text": [
      "📝 Ep27 train=0.1832 val=0.1878 dice=0.8231\n"
     ]
    },
    {
     "name": "stderr",
     "output_type": "stream",
     "text": [
      "Ep28/100 train: 100%|██████████| 41/41 [01:42<00:00,  2.51s/it]\n",
      "Ep28/100 val: 100%|██████████| 5/5 [00:11<00:00,  2.26s/it]\n"
     ]
    },
    {
     "name": "stdout",
     "output_type": "stream",
     "text": [
      "📝 Ep28 train=0.1777 val=0.1686 dice=0.7888\n"
     ]
    },
    {
     "name": "stderr",
     "output_type": "stream",
     "text": [
      "Ep29/100 train: 100%|██████████| 41/41 [01:48<00:00,  2.64s/it]\n",
      "Ep29/100 val: 100%|██████████| 5/5 [00:11<00:00,  2.26s/it]\n"
     ]
    },
    {
     "name": "stdout",
     "output_type": "stream",
     "text": [
      "📝 Ep29 train=0.1803 val=0.1546 dice=0.6680\n"
     ]
    },
    {
     "name": "stderr",
     "output_type": "stream",
     "text": [
      "Ep30/100 train: 100%|██████████| 41/41 [01:19<00:00,  1.93s/it]\n",
      "Ep30/100 val: 100%|██████████| 5/5 [00:09<00:00,  1.81s/it]\n"
     ]
    },
    {
     "name": "stdout",
     "output_type": "stream",
     "text": [
      "📝 Ep30 train=0.1475 val=0.2050 dice=0.7165\n"
     ]
    },
    {
     "name": "stderr",
     "output_type": "stream",
     "text": [
      "Ep31/100 train: 100%|██████████| 41/41 [01:24<00:00,  2.07s/it]\n",
      "Ep31/100 val: 100%|██████████| 5/5 [00:09<00:00,  1.91s/it]\n"
     ]
    },
    {
     "name": "stdout",
     "output_type": "stream",
     "text": [
      "📝 Ep31 train=0.1670 val=0.1352 dice=0.7716\n"
     ]
    },
    {
     "name": "stderr",
     "output_type": "stream",
     "text": [
      "Ep32/100 train: 100%|██████████| 41/41 [01:19<00:00,  1.94s/it]\n",
      "Ep32/100 val: 100%|██████████| 5/5 [00:07<00:00,  1.53s/it]\n"
     ]
    },
    {
     "name": "stdout",
     "output_type": "stream",
     "text": [
      "📝 Ep32 train=0.1523 val=0.0976 dice=0.5868\n"
     ]
    },
    {
     "name": "stderr",
     "output_type": "stream",
     "text": [
      "Ep33/100 train: 100%|██████████| 41/41 [01:13<00:00,  1.80s/it]\n",
      "Ep33/100 val: 100%|██████████| 5/5 [00:07<00:00,  1.59s/it]\n"
     ]
    },
    {
     "name": "stdout",
     "output_type": "stream",
     "text": [
      "📝 Ep33 train=0.1756 val=0.1526 dice=0.7244\n"
     ]
    },
    {
     "name": "stderr",
     "output_type": "stream",
     "text": [
      "Ep34/100 train: 100%|██████████| 41/41 [01:10<00:00,  1.72s/it]\n",
      "Ep34/100 val: 100%|██████████| 5/5 [00:08<00:00,  1.66s/it]\n"
     ]
    },
    {
     "name": "stdout",
     "output_type": "stream",
     "text": [
      "📝 Ep34 train=0.1748 val=0.1925 dice=0.7343\n"
     ]
    },
    {
     "name": "stderr",
     "output_type": "stream",
     "text": [
      "Ep35/100 train: 100%|██████████| 41/41 [01:09<00:00,  1.69s/it]\n",
      "Ep35/100 val: 100%|██████████| 5/5 [00:07<00:00,  1.46s/it]\n"
     ]
    },
    {
     "name": "stdout",
     "output_type": "stream",
     "text": [
      "📝 Ep35 train=0.1817 val=0.1688 dice=0.8173\n"
     ]
    },
    {
     "name": "stderr",
     "output_type": "stream",
     "text": [
      "Ep36/100 train: 100%|██████████| 41/41 [01:10<00:00,  1.72s/it]\n",
      "Ep36/100 val: 100%|██████████| 5/5 [00:07<00:00,  1.54s/it]\n"
     ]
    },
    {
     "name": "stdout",
     "output_type": "stream",
     "text": [
      "📝 Ep36 train=0.1897 val=0.1369 dice=0.8310\n"
     ]
    },
    {
     "name": "stderr",
     "output_type": "stream",
     "text": [
      "Ep37/100 train: 100%|██████████| 41/41 [01:09<00:00,  1.69s/it]\n",
      "Ep37/100 val: 100%|██████████| 5/5 [00:07<00:00,  1.44s/it]\n"
     ]
    },
    {
     "name": "stdout",
     "output_type": "stream",
     "text": [
      "📝 Ep37 train=0.1608 val=0.2228 dice=0.6904\n"
     ]
    },
    {
     "name": "stderr",
     "output_type": "stream",
     "text": [
      "Ep38/100 train: 100%|██████████| 41/41 [01:08<00:00,  1.67s/it]\n",
      "Ep38/100 val: 100%|██████████| 5/5 [00:07<00:00,  1.45s/it]\n"
     ]
    },
    {
     "name": "stdout",
     "output_type": "stream",
     "text": [
      "📝 Ep38 train=0.1695 val=0.0914 dice=0.7416\n"
     ]
    },
    {
     "name": "stderr",
     "output_type": "stream",
     "text": [
      "Ep39/100 train: 100%|██████████| 41/41 [01:08<00:00,  1.67s/it]\n",
      "Ep39/100 val: 100%|██████████| 5/5 [00:07<00:00,  1.44s/it]\n"
     ]
    },
    {
     "name": "stdout",
     "output_type": "stream",
     "text": [
      "📝 Ep39 train=0.1819 val=0.1701 dice=0.8381\n",
      "  👑  Saved best model (dice 0.8381)\n"
     ]
    },
    {
     "name": "stderr",
     "output_type": "stream",
     "text": [
      "Ep40/100 train: 100%|██████████| 41/41 [01:05<00:00,  1.61s/it]\n",
      "Ep40/100 val: 100%|██████████| 5/5 [00:07<00:00,  1.42s/it]\n"
     ]
    },
    {
     "name": "stdout",
     "output_type": "stream",
     "text": [
      "📝 Ep40 train=0.1641 val=0.1697 dice=0.8625\n",
      "  👑  Saved best model (dice 0.8625)\n"
     ]
    },
    {
     "name": "stderr",
     "output_type": "stream",
     "text": [
      "Ep41/100 train: 100%|██████████| 41/41 [01:05<00:00,  1.61s/it]\n",
      "Ep41/100 val: 100%|██████████| 5/5 [00:07<00:00,  1.42s/it]\n"
     ]
    },
    {
     "name": "stdout",
     "output_type": "stream",
     "text": [
      "📝 Ep41 train=0.1658 val=0.1805 dice=0.6617\n"
     ]
    },
    {
     "name": "stderr",
     "output_type": "stream",
     "text": [
      "Ep42/100 train: 100%|██████████| 41/41 [01:05<00:00,  1.60s/it]\n",
      "Ep42/100 val: 100%|██████████| 5/5 [00:07<00:00,  1.48s/it]\n"
     ]
    },
    {
     "name": "stdout",
     "output_type": "stream",
     "text": [
      "📝 Ep42 train=0.1958 val=0.1671 dice=0.8051\n"
     ]
    },
    {
     "name": "stderr",
     "output_type": "stream",
     "text": [
      "Ep43/100 train: 100%|██████████| 41/41 [01:05<00:00,  1.59s/it]\n",
      "Ep43/100 val: 100%|██████████| 5/5 [00:07<00:00,  1.41s/it]\n"
     ]
    },
    {
     "name": "stdout",
     "output_type": "stream",
     "text": [
      "📝 Ep43 train=0.1492 val=0.1732 dice=0.6027\n"
     ]
    },
    {
     "name": "stderr",
     "output_type": "stream",
     "text": [
      "Ep44/100 train: 100%|██████████| 41/41 [01:06<00:00,  1.63s/it]\n",
      "Ep44/100 val: 100%|██████████| 5/5 [00:07<00:00,  1.51s/it]\n"
     ]
    },
    {
     "name": "stdout",
     "output_type": "stream",
     "text": [
      "📝 Ep44 train=0.1855 val=0.1207 dice=0.7932\n"
     ]
    },
    {
     "name": "stderr",
     "output_type": "stream",
     "text": [
      "Ep45/100 train: 100%|██████████| 41/41 [01:08<00:00,  1.67s/it]\n",
      "Ep45/100 val: 100%|██████████| 5/5 [00:07<00:00,  1.50s/it]\n"
     ]
    },
    {
     "name": "stdout",
     "output_type": "stream",
     "text": [
      "📝 Ep45 train=0.1653 val=0.1749 dice=0.7218\n"
     ]
    },
    {
     "name": "stderr",
     "output_type": "stream",
     "text": [
      "Ep46/100 train: 100%|██████████| 41/41 [01:07<00:00,  1.64s/it]\n",
      "Ep46/100 val: 100%|██████████| 5/5 [00:07<00:00,  1.45s/it]\n"
     ]
    },
    {
     "name": "stdout",
     "output_type": "stream",
     "text": [
      "📝 Ep46 train=0.1809 val=0.1454 dice=0.7299\n"
     ]
    },
    {
     "name": "stderr",
     "output_type": "stream",
     "text": [
      "Ep47/100 train: 100%|██████████| 41/41 [01:10<00:00,  1.72s/it]\n",
      "Ep47/100 val: 100%|██████████| 5/5 [00:07<00:00,  1.41s/it]\n"
     ]
    },
    {
     "name": "stdout",
     "output_type": "stream",
     "text": [
      "📝 Ep47 train=0.1950 val=0.1268 dice=0.5598\n"
     ]
    },
    {
     "name": "stderr",
     "output_type": "stream",
     "text": [
      "Ep48/100 train: 100%|██████████| 41/41 [01:06<00:00,  1.63s/it]\n",
      "Ep48/100 val: 100%|██████████| 5/5 [00:07<00:00,  1.46s/it]\n"
     ]
    },
    {
     "name": "stdout",
     "output_type": "stream",
     "text": [
      "📝 Ep48 train=0.1782 val=0.0987 dice=0.7812\n"
     ]
    },
    {
     "name": "stderr",
     "output_type": "stream",
     "text": [
      "Ep49/100 train: 100%|██████████| 41/41 [01:05<00:00,  1.61s/it]\n",
      "Ep49/100 val: 100%|██████████| 5/5 [00:08<00:00,  1.67s/it]\n"
     ]
    },
    {
     "name": "stdout",
     "output_type": "stream",
     "text": [
      "📝 Ep49 train=0.1736 val=0.1066 dice=0.7430\n"
     ]
    },
    {
     "name": "stderr",
     "output_type": "stream",
     "text": [
      "Ep50/100 train: 100%|██████████| 41/41 [01:06<00:00,  1.61s/it]\n",
      "Ep50/100 val: 100%|██████████| 5/5 [00:07<00:00,  1.47s/it]\n"
     ]
    },
    {
     "name": "stdout",
     "output_type": "stream",
     "text": [
      "📝 Ep50 train=0.1494 val=0.1483 dice=0.7292\n"
     ]
    },
    {
     "name": "stderr",
     "output_type": "stream",
     "text": [
      "Ep51/100 train: 100%|██████████| 41/41 [01:08<00:00,  1.68s/it]\n",
      "Ep51/100 val: 100%|██████████| 5/5 [00:07<00:00,  1.42s/it]\n"
     ]
    },
    {
     "name": "stdout",
     "output_type": "stream",
     "text": [
      "📝 Ep51 train=0.1483 val=0.2146 dice=0.7864\n"
     ]
    },
    {
     "name": "stderr",
     "output_type": "stream",
     "text": [
      "Ep52/100 train:  68%|██████▊   | 28/41 [00:47<00:21,  1.69s/it]\n"
     ]
    },
    {
     "ename": "KeyboardInterrupt",
     "evalue": "",
     "output_type": "error",
     "traceback": [
      "\u001b[1;31m---------------------------------------------------------------------------\u001b[0m",
      "\u001b[1;31mKeyboardInterrupt\u001b[0m                         Traceback (most recent call last)",
      "Cell \u001b[1;32mIn[9], line 162\u001b[0m\n\u001b[0;32m    160\u001b[0m \u001b[38;5;28;01mif\u001b[39;00m \u001b[38;5;18m__name__\u001b[39m \u001b[38;5;241m==\u001b[39m \u001b[38;5;124m\"\u001b[39m\u001b[38;5;124m__main__\u001b[39m\u001b[38;5;124m\"\u001b[39m:\n\u001b[0;32m    161\u001b[0m     args \u001b[38;5;241m=\u001b[39m argparse\u001b[38;5;241m.\u001b[39mNamespace(epochs\u001b[38;5;241m=\u001b[39m\u001b[38;5;241m100\u001b[39m, bs\u001b[38;5;241m=\u001b[39m\u001b[38;5;241m4\u001b[39m, lr\u001b[38;5;241m=\u001b[39m\u001b[38;5;241m1e-4\u001b[39m, crop\u001b[38;5;241m=\u001b[39m\u001b[38;5;241m256\u001b[39m)\n\u001b[1;32m--> 162\u001b[0m     \u001b[43mmain\u001b[49m\u001b[43m(\u001b[49m\u001b[43margs\u001b[49m\u001b[43m)\u001b[49m\n",
      "Cell \u001b[1;32mIn[9], line 132\u001b[0m, in \u001b[0;36mmain\u001b[1;34m(args)\u001b[0m\n\u001b[0;32m    129\u001b[0m \u001b[38;5;28;01mfor\u001b[39;00m ep \u001b[38;5;129;01min\u001b[39;00m \u001b[38;5;28mrange\u001b[39m(\u001b[38;5;241m1\u001b[39m, args\u001b[38;5;241m.\u001b[39mepochs\u001b[38;5;241m+\u001b[39m\u001b[38;5;241m1\u001b[39m):\n\u001b[0;32m    130\u001b[0m     \u001b[38;5;66;03m# ---- train ----\u001b[39;00m\n\u001b[0;32m    131\u001b[0m     model\u001b[38;5;241m.\u001b[39mtrain(); tr_loss\u001b[38;5;241m=\u001b[39m\u001b[38;5;241m0\u001b[39m; n_tr\u001b[38;5;241m=\u001b[39m\u001b[38;5;241m0\u001b[39m\n\u001b[1;32m--> 132\u001b[0m     \u001b[38;5;28;01mfor\u001b[39;00m img,msk \u001b[38;5;129;01min\u001b[39;00m tqdm(train_ld, desc\u001b[38;5;241m=\u001b[39m\u001b[38;5;124mf\u001b[39m\u001b[38;5;124m\"\u001b[39m\u001b[38;5;124mEp\u001b[39m\u001b[38;5;132;01m{\u001b[39;00mep\u001b[38;5;132;01m}\u001b[39;00m\u001b[38;5;124m/\u001b[39m\u001b[38;5;132;01m{\u001b[39;00margs\u001b[38;5;241m.\u001b[39mepochs\u001b[38;5;132;01m}\u001b[39;00m\u001b[38;5;124m train\u001b[39m\u001b[38;5;124m\"\u001b[39m):\n\u001b[0;32m    133\u001b[0m         img,msk \u001b[38;5;241m=\u001b[39m img\u001b[38;5;241m.\u001b[39mto(device), msk\u001b[38;5;241m.\u001b[39mto(device)\n\u001b[0;32m    134\u001b[0m         \u001b[38;5;28;01mwith\u001b[39;00m torch\u001b[38;5;241m.\u001b[39mamp\u001b[38;5;241m.\u001b[39mautocast(device\u001b[38;5;241m.\u001b[39mtype):\n",
      "File \u001b[1;32mc:\\Users\\op237\\miniconda3\\envs\\Depth4UNet\\lib\\site-packages\\tqdm\\std.py:1181\u001b[0m, in \u001b[0;36mtqdm.__iter__\u001b[1;34m(self)\u001b[0m\n\u001b[0;32m   1178\u001b[0m time \u001b[38;5;241m=\u001b[39m \u001b[38;5;28mself\u001b[39m\u001b[38;5;241m.\u001b[39m_time\n\u001b[0;32m   1180\u001b[0m \u001b[38;5;28;01mtry\u001b[39;00m:\n\u001b[1;32m-> 1181\u001b[0m     \u001b[38;5;28;01mfor\u001b[39;00m obj \u001b[38;5;129;01min\u001b[39;00m iterable:\n\u001b[0;32m   1182\u001b[0m         \u001b[38;5;28;01myield\u001b[39;00m obj\n\u001b[0;32m   1183\u001b[0m         \u001b[38;5;66;03m# Update and possibly print the progressbar.\u001b[39;00m\n\u001b[0;32m   1184\u001b[0m         \u001b[38;5;66;03m# Note: does not call self.update(1) for speed optimisation.\u001b[39;00m\n",
      "File \u001b[1;32mc:\\Users\\op237\\miniconda3\\envs\\Depth4UNet\\lib\\site-packages\\torch\\utils\\data\\dataloader.py:630\u001b[0m, in \u001b[0;36m_BaseDataLoaderIter.__next__\u001b[1;34m(self)\u001b[0m\n\u001b[0;32m    627\u001b[0m \u001b[38;5;28;01mif\u001b[39;00m \u001b[38;5;28mself\u001b[39m\u001b[38;5;241m.\u001b[39m_sampler_iter \u001b[38;5;129;01mis\u001b[39;00m \u001b[38;5;28;01mNone\u001b[39;00m:\n\u001b[0;32m    628\u001b[0m     \u001b[38;5;66;03m# TODO(https://github.com/pytorch/pytorch/issues/76750)\u001b[39;00m\n\u001b[0;32m    629\u001b[0m     \u001b[38;5;28mself\u001b[39m\u001b[38;5;241m.\u001b[39m_reset()  \u001b[38;5;66;03m# type: ignore[call-arg]\u001b[39;00m\n\u001b[1;32m--> 630\u001b[0m data \u001b[38;5;241m=\u001b[39m \u001b[38;5;28;43mself\u001b[39;49m\u001b[38;5;241;43m.\u001b[39;49m\u001b[43m_next_data\u001b[49m\u001b[43m(\u001b[49m\u001b[43m)\u001b[49m\n\u001b[0;32m    631\u001b[0m \u001b[38;5;28mself\u001b[39m\u001b[38;5;241m.\u001b[39m_num_yielded \u001b[38;5;241m+\u001b[39m\u001b[38;5;241m=\u001b[39m \u001b[38;5;241m1\u001b[39m\n\u001b[0;32m    632\u001b[0m \u001b[38;5;28;01mif\u001b[39;00m \u001b[38;5;28mself\u001b[39m\u001b[38;5;241m.\u001b[39m_dataset_kind \u001b[38;5;241m==\u001b[39m _DatasetKind\u001b[38;5;241m.\u001b[39mIterable \u001b[38;5;129;01mand\u001b[39;00m \\\n\u001b[0;32m    633\u001b[0m         \u001b[38;5;28mself\u001b[39m\u001b[38;5;241m.\u001b[39m_IterableDataset_len_called \u001b[38;5;129;01mis\u001b[39;00m \u001b[38;5;129;01mnot\u001b[39;00m \u001b[38;5;28;01mNone\u001b[39;00m \u001b[38;5;129;01mand\u001b[39;00m \\\n\u001b[0;32m    634\u001b[0m         \u001b[38;5;28mself\u001b[39m\u001b[38;5;241m.\u001b[39m_num_yielded \u001b[38;5;241m>\u001b[39m \u001b[38;5;28mself\u001b[39m\u001b[38;5;241m.\u001b[39m_IterableDataset_len_called:\n",
      "File \u001b[1;32mc:\\Users\\op237\\miniconda3\\envs\\Depth4UNet\\lib\\site-packages\\torch\\utils\\data\\dataloader.py:673\u001b[0m, in \u001b[0;36m_SingleProcessDataLoaderIter._next_data\u001b[1;34m(self)\u001b[0m\n\u001b[0;32m    671\u001b[0m \u001b[38;5;28;01mdef\u001b[39;00m \u001b[38;5;21m_next_data\u001b[39m(\u001b[38;5;28mself\u001b[39m):\n\u001b[0;32m    672\u001b[0m     index \u001b[38;5;241m=\u001b[39m \u001b[38;5;28mself\u001b[39m\u001b[38;5;241m.\u001b[39m_next_index()  \u001b[38;5;66;03m# may raise StopIteration\u001b[39;00m\n\u001b[1;32m--> 673\u001b[0m     data \u001b[38;5;241m=\u001b[39m \u001b[38;5;28;43mself\u001b[39;49m\u001b[38;5;241;43m.\u001b[39;49m\u001b[43m_dataset_fetcher\u001b[49m\u001b[38;5;241;43m.\u001b[39;49m\u001b[43mfetch\u001b[49m\u001b[43m(\u001b[49m\u001b[43mindex\u001b[49m\u001b[43m)\u001b[49m  \u001b[38;5;66;03m# may raise StopIteration\u001b[39;00m\n\u001b[0;32m    674\u001b[0m     \u001b[38;5;28;01mif\u001b[39;00m \u001b[38;5;28mself\u001b[39m\u001b[38;5;241m.\u001b[39m_pin_memory:\n\u001b[0;32m    675\u001b[0m         data \u001b[38;5;241m=\u001b[39m _utils\u001b[38;5;241m.\u001b[39mpin_memory\u001b[38;5;241m.\u001b[39mpin_memory(data, \u001b[38;5;28mself\u001b[39m\u001b[38;5;241m.\u001b[39m_pin_memory_device)\n",
      "File \u001b[1;32mc:\\Users\\op237\\miniconda3\\envs\\Depth4UNet\\lib\\site-packages\\torch\\utils\\data\\_utils\\fetch.py:50\u001b[0m, in \u001b[0;36m_MapDatasetFetcher.fetch\u001b[1;34m(self, possibly_batched_index)\u001b[0m\n\u001b[0;32m     48\u001b[0m \u001b[38;5;28;01mif\u001b[39;00m \u001b[38;5;28mself\u001b[39m\u001b[38;5;241m.\u001b[39mauto_collation:\n\u001b[0;32m     49\u001b[0m     \u001b[38;5;28;01mif\u001b[39;00m \u001b[38;5;28mhasattr\u001b[39m(\u001b[38;5;28mself\u001b[39m\u001b[38;5;241m.\u001b[39mdataset, \u001b[38;5;124m\"\u001b[39m\u001b[38;5;124m__getitems__\u001b[39m\u001b[38;5;124m\"\u001b[39m) \u001b[38;5;129;01mand\u001b[39;00m \u001b[38;5;28mself\u001b[39m\u001b[38;5;241m.\u001b[39mdataset\u001b[38;5;241m.\u001b[39m__getitems__:\n\u001b[1;32m---> 50\u001b[0m         data \u001b[38;5;241m=\u001b[39m \u001b[38;5;28;43mself\u001b[39;49m\u001b[38;5;241;43m.\u001b[39;49m\u001b[43mdataset\u001b[49m\u001b[38;5;241;43m.\u001b[39;49m\u001b[43m__getitems__\u001b[49m\u001b[43m(\u001b[49m\u001b[43mpossibly_batched_index\u001b[49m\u001b[43m)\u001b[49m\n\u001b[0;32m     51\u001b[0m     \u001b[38;5;28;01melse\u001b[39;00m:\n\u001b[0;32m     52\u001b[0m         data \u001b[38;5;241m=\u001b[39m [\u001b[38;5;28mself\u001b[39m\u001b[38;5;241m.\u001b[39mdataset[idx] \u001b[38;5;28;01mfor\u001b[39;00m idx \u001b[38;5;129;01min\u001b[39;00m possibly_batched_index]\n",
      "File \u001b[1;32mc:\\Users\\op237\\miniconda3\\envs\\Depth4UNet\\lib\\site-packages\\torch\\utils\\data\\dataset.py:420\u001b[0m, in \u001b[0;36mSubset.__getitems__\u001b[1;34m(self, indices)\u001b[0m\n\u001b[0;32m    418\u001b[0m     \u001b[38;5;28;01mreturn\u001b[39;00m \u001b[38;5;28mself\u001b[39m\u001b[38;5;241m.\u001b[39mdataset\u001b[38;5;241m.\u001b[39m__getitems__([\u001b[38;5;28mself\u001b[39m\u001b[38;5;241m.\u001b[39mindices[idx] \u001b[38;5;28;01mfor\u001b[39;00m idx \u001b[38;5;129;01min\u001b[39;00m indices])  \u001b[38;5;66;03m# type: ignore[attr-defined]\u001b[39;00m\n\u001b[0;32m    419\u001b[0m \u001b[38;5;28;01melse\u001b[39;00m:\n\u001b[1;32m--> 420\u001b[0m     \u001b[38;5;28;01mreturn\u001b[39;00m [\u001b[38;5;28mself\u001b[39m\u001b[38;5;241m.\u001b[39mdataset[\u001b[38;5;28mself\u001b[39m\u001b[38;5;241m.\u001b[39mindices[idx]] \u001b[38;5;28;01mfor\u001b[39;00m idx \u001b[38;5;129;01min\u001b[39;00m indices]\n",
      "File \u001b[1;32mc:\\Users\\op237\\miniconda3\\envs\\Depth4UNet\\lib\\site-packages\\torch\\utils\\data\\dataset.py:420\u001b[0m, in \u001b[0;36m<listcomp>\u001b[1;34m(.0)\u001b[0m\n\u001b[0;32m    418\u001b[0m     \u001b[38;5;28;01mreturn\u001b[39;00m \u001b[38;5;28mself\u001b[39m\u001b[38;5;241m.\u001b[39mdataset\u001b[38;5;241m.\u001b[39m__getitems__([\u001b[38;5;28mself\u001b[39m\u001b[38;5;241m.\u001b[39mindices[idx] \u001b[38;5;28;01mfor\u001b[39;00m idx \u001b[38;5;129;01min\u001b[39;00m indices])  \u001b[38;5;66;03m# type: ignore[attr-defined]\u001b[39;00m\n\u001b[0;32m    419\u001b[0m \u001b[38;5;28;01melse\u001b[39;00m:\n\u001b[1;32m--> 420\u001b[0m     \u001b[38;5;28;01mreturn\u001b[39;00m [\u001b[38;5;28;43mself\u001b[39;49m\u001b[38;5;241;43m.\u001b[39;49m\u001b[43mdataset\u001b[49m\u001b[43m[\u001b[49m\u001b[38;5;28;43mself\u001b[39;49m\u001b[38;5;241;43m.\u001b[39;49m\u001b[43mindices\u001b[49m\u001b[43m[\u001b[49m\u001b[43midx\u001b[49m\u001b[43m]\u001b[49m\u001b[43m]\u001b[49m \u001b[38;5;28;01mfor\u001b[39;00m idx \u001b[38;5;129;01min\u001b[39;00m indices]\n",
      "Cell \u001b[1;32mIn[9], line 70\u001b[0m, in \u001b[0;36mAerialPatchDataset4C.__getitem__\u001b[1;34m(self, idx)\u001b[0m\n\u001b[0;32m     68\u001b[0m \u001b[38;5;66;03m# --- 讀檔 ---\u001b[39;00m\n\u001b[0;32m     69\u001b[0m rgb   \u001b[38;5;241m=\u001b[39m Image\u001b[38;5;241m.\u001b[39mopen(os\u001b[38;5;241m.\u001b[39mpath\u001b[38;5;241m.\u001b[39mjoin(\u001b[38;5;28mself\u001b[39m\u001b[38;5;241m.\u001b[39mimg_dir,   name))\u001b[38;5;241m.\u001b[39mconvert(\u001b[38;5;124m\"\u001b[39m\u001b[38;5;124mRGB\u001b[39m\u001b[38;5;124m\"\u001b[39m)\n\u001b[1;32m---> 70\u001b[0m depth \u001b[38;5;241m=\u001b[39m \u001b[43mImage\u001b[49m\u001b[38;5;241;43m.\u001b[39;49m\u001b[43mopen\u001b[49m\u001b[43m(\u001b[49m\u001b[43mos\u001b[49m\u001b[38;5;241;43m.\u001b[39;49m\u001b[43mpath\u001b[49m\u001b[38;5;241;43m.\u001b[39;49m\u001b[43mjoin\u001b[49m\u001b[43m(\u001b[49m\u001b[38;5;28;43mself\u001b[39;49m\u001b[38;5;241;43m.\u001b[39;49m\u001b[43mdepth_dir\u001b[49m\u001b[43m,\u001b[49m\u001b[43m \u001b[49m\u001b[43mdepth_fname\u001b[49m\u001b[43m)\u001b[49m\u001b[43m)\u001b[49m\u001b[38;5;241;43m.\u001b[39;49m\u001b[43mconvert\u001b[49m\u001b[43m(\u001b[49m\u001b[38;5;124;43m\"\u001b[39;49m\u001b[38;5;124;43mL\u001b[39;49m\u001b[38;5;124;43m\"\u001b[39;49m\u001b[43m)\u001b[49m\n\u001b[0;32m     71\u001b[0m msk   \u001b[38;5;241m=\u001b[39m Image\u001b[38;5;241m.\u001b[39mopen(os\u001b[38;5;241m.\u001b[39mpath\u001b[38;5;241m.\u001b[39mjoin(\u001b[38;5;28mself\u001b[39m\u001b[38;5;241m.\u001b[39mmask_dir,  name))\u001b[38;5;241m.\u001b[39mconvert(\u001b[38;5;124m\"\u001b[39m\u001b[38;5;124mL\u001b[39m\u001b[38;5;124m\"\u001b[39m)\n\u001b[0;32m     73\u001b[0m rgb   \u001b[38;5;241m=\u001b[39m np\u001b[38;5;241m.\u001b[39masarray(rgb)\n",
      "File \u001b[1;32mc:\\Users\\op237\\miniconda3\\envs\\Depth4UNet\\lib\\site-packages\\PIL\\Image.py:995\u001b[0m, in \u001b[0;36mImage.convert\u001b[1;34m(self, mode, matrix, dither, palette, colors)\u001b[0m\n\u001b[0;32m    992\u001b[0m \u001b[38;5;28;01mif\u001b[39;00m mode \u001b[38;5;129;01min\u001b[39;00m (\u001b[38;5;124m\"\u001b[39m\u001b[38;5;124mBGR;15\u001b[39m\u001b[38;5;124m\"\u001b[39m, \u001b[38;5;124m\"\u001b[39m\u001b[38;5;124mBGR;16\u001b[39m\u001b[38;5;124m\"\u001b[39m, \u001b[38;5;124m\"\u001b[39m\u001b[38;5;124mBGR;24\u001b[39m\u001b[38;5;124m\"\u001b[39m):\n\u001b[0;32m    993\u001b[0m     deprecate(mode, \u001b[38;5;241m12\u001b[39m)\n\u001b[1;32m--> 995\u001b[0m \u001b[38;5;28;43mself\u001b[39;49m\u001b[38;5;241;43m.\u001b[39;49m\u001b[43mload\u001b[49m\u001b[43m(\u001b[49m\u001b[43m)\u001b[49m\n\u001b[0;32m    997\u001b[0m has_transparency \u001b[38;5;241m=\u001b[39m \u001b[38;5;124m\"\u001b[39m\u001b[38;5;124mtransparency\u001b[39m\u001b[38;5;124m\"\u001b[39m \u001b[38;5;129;01min\u001b[39;00m \u001b[38;5;28mself\u001b[39m\u001b[38;5;241m.\u001b[39minfo\n\u001b[0;32m    998\u001b[0m \u001b[38;5;28;01mif\u001b[39;00m \u001b[38;5;129;01mnot\u001b[39;00m mode \u001b[38;5;129;01mand\u001b[39;00m \u001b[38;5;28mself\u001b[39m\u001b[38;5;241m.\u001b[39mmode \u001b[38;5;241m==\u001b[39m \u001b[38;5;124m\"\u001b[39m\u001b[38;5;124mP\u001b[39m\u001b[38;5;124m\"\u001b[39m:\n\u001b[0;32m    999\u001b[0m     \u001b[38;5;66;03m# determine default mode\u001b[39;00m\n",
      "File \u001b[1;32mc:\\Users\\op237\\miniconda3\\envs\\Depth4UNet\\lib\\site-packages\\PIL\\ImageFile.py:293\u001b[0m, in \u001b[0;36mImageFile.load\u001b[1;34m(self)\u001b[0m\n\u001b[0;32m    290\u001b[0m         \u001b[38;5;28;01mraise\u001b[39;00m \u001b[38;5;167;01mOSError\u001b[39;00m(msg)\n\u001b[0;32m    292\u001b[0m b \u001b[38;5;241m=\u001b[39m b \u001b[38;5;241m+\u001b[39m s\n\u001b[1;32m--> 293\u001b[0m n, err_code \u001b[38;5;241m=\u001b[39m \u001b[43mdecoder\u001b[49m\u001b[38;5;241;43m.\u001b[39;49m\u001b[43mdecode\u001b[49m\u001b[43m(\u001b[49m\u001b[43mb\u001b[49m\u001b[43m)\u001b[49m\n\u001b[0;32m    294\u001b[0m \u001b[38;5;28;01mif\u001b[39;00m n \u001b[38;5;241m<\u001b[39m \u001b[38;5;241m0\u001b[39m:\n\u001b[0;32m    295\u001b[0m     \u001b[38;5;28;01mbreak\u001b[39;00m\n",
      "\u001b[1;31mKeyboardInterrupt\u001b[0m: "
     ]
    }
   ],
   "source": [
    "# train_unet4ch.py\n",
    "import os, csv, random, argparse\n",
    "import numpy as np\n",
    "from PIL import Image\n",
    "from tqdm.auto import tqdm\n",
    "import torch, torchvision\n",
    "from torch import nn\n",
    "from torch.utils.data import Dataset, DataLoader\n",
    "#from model import UNet11_4ch                 # ★★ 改成 4ch 版本\n",
    "\n",
    "# ---------------- Dataset ----------------\n",
    "class AerialPatchDataset4C(Dataset):\n",
    "    \"\"\"\n",
    "    root/\n",
    "     ├─ images/        austin1.tif ...\n",
    "     ├─ depth_images/  austin1_depth.png / tif / jpg ...\n",
    "     └─ gt/            austin1.tif (遮罩，與 images 同名)\n",
    "    \"\"\"\n",
    "    COMMON_EXTS = [\".png\", \".jpg\", \".jpeg\", \".tif\", \".tiff\"]\n",
    "\n",
    "    def __init__(self, root, crop=256):\n",
    "        self.crop      = crop\n",
    "        self.img_dir   = os.path.join(root, \"images\")\n",
    "        self.depth_dir = os.path.join(root, \"depth_images\")\n",
    "        self.mask_dir  = os.path.join(root, \"gt\")\n",
    "\n",
    "        self.names     = sorted(os.listdir(self.img_dir))           # ex: austin1.tif\n",
    "        self.depth_map = self._build_depth_map()                    # ★★ 建對應表\n",
    "\n",
    "        self.mean = torch.tensor([0.485,0.456,0.406,0.5]).view(4,1,1)\n",
    "        self.std  = torch.tensor([0.229,0.224,0.225,0.5]).view(4,1,1)\n",
    "\n",
    "    # ----------  新增：掃描 depth_images ----------\n",
    "    def _build_depth_map(self):\n",
    "        depth_files = os.listdir(self.depth_dir)\n",
    "        depth_dict  = {}\n",
    "        for f in depth_files:\n",
    "            stem, ext = os.path.splitext(f)\n",
    "            if stem.endswith(\"_depth\"):\n",
    "                base = stem[:-6]                    # 去掉 \"_depth\"\n",
    "                depth_dict[base] = f\n",
    "        return depth_dict                           # {austin1: austin1_depth.png}\n",
    "\n",
    "    def __len__(self): return len(self.names)\n",
    "\n",
    "    def _random_crop(self, img, depth, msk):\n",
    "        h, w = img.shape[:2]; ch = cw = self.crop\n",
    "        top  = random.randint(0, h - ch); left = random.randint(0, w - cw)\n",
    "        return (arr[top:top+ch, left:left+cw] for arr in (img, depth, msk))\n",
    "\n",
    "    def __getitem__(self, idx):\n",
    "        name = self.names[idx]                      # austin1.tif\n",
    "        stem, ext = os.path.splitext(name)          # austin1, .tif\n",
    "        try:\n",
    "            # --- 找對應的深度圖檔名 ---\n",
    "            if stem in self.depth_map:\n",
    "                depth_fname = self.depth_map[stem]\n",
    "            else:\n",
    "                # 保險：按副檔名猜測\n",
    "                depth_fname = None\n",
    "                for ex in [ext] + self.COMMON_EXTS:\n",
    "                    cand = f\"{stem}_depth{ex}\"\n",
    "                    if os.path.exists(os.path.join(self.depth_dir, cand)):\n",
    "                        depth_fname = cand; break\n",
    "                if depth_fname is None:\n",
    "                    raise FileNotFoundError(f\"找不到 {stem}_depth.*\")\n",
    "\n",
    "            # --- 讀檔 ---\n",
    "            rgb   = Image.open(os.path.join(self.img_dir,   name)).convert(\"RGB\")\n",
    "            depth = Image.open(os.path.join(self.depth_dir, depth_fname)).convert(\"L\")\n",
    "            msk   = Image.open(os.path.join(self.mask_dir,  name)).convert(\"L\")\n",
    "\n",
    "            rgb   = np.asarray(rgb)\n",
    "            depth = np.asarray(depth)[..., None]              # H×W×1\n",
    "            msk   = (np.asarray(msk) // 255).astype(np.uint8)\n",
    "\n",
    "            rgb, depth, msk = self._random_crop(rgb, depth, msk)\n",
    "\n",
    "            # --- to tensor ---\n",
    "            rgb   = torch.from_numpy(rgb).permute(2,0,1).float() / 255.0\n",
    "            depth = torch.from_numpy(depth).permute(2,0,1).float() / 255.0\n",
    "            img4  = torch.cat([rgb, depth], 0)                # 4×H×W\n",
    "            img4  = (img4 - self.mean) / self.std\n",
    "            msk   = torch.from_numpy(msk).float().unsqueeze(0)\n",
    "            return img4, msk\n",
    "\n",
    "        except Exception as e:\n",
    "            print(f\"❌ [錯誤] {name}: {e}\")\n",
    "            return (torch.zeros(4, self.crop, self.crop),\n",
    "                    torch.zeros(1, self.crop, self.crop))\n",
    "\n",
    "# ---------------- Metric -----------------\n",
    "def dice_coef(pred, target, eps=1e-7):\n",
    "    pred = (torch.sigmoid(pred) > 0.5).float()\n",
    "    inter = (pred * target).sum((1,2,3))\n",
    "    union = pred.sum((1,2,3)) + target.sum((1,2,3))\n",
    "    return ((2*inter+eps)/(union+eps)).mean()\n",
    "\n",
    "# ---------------- Train ------------------\n",
    "def main(args):\n",
    "    torch.multiprocessing.set_start_method('spawn', force=True)\n",
    "    device = torch.device(\"cuda\" if torch.cuda.is_available() else \"cpu\")\n",
    "    print(\"🚀 Device:\", device)\n",
    "\n",
    "    root = r\"E:\\論文\\空拍地圖語意分割\\Depth4UNet\\AerialImageDataset\\train\"\n",
    "    if not os.path.exists(root):\n",
    "        print(f\"❌ 找不到資料目錄 {root}\"); return\n",
    "\n",
    "    data = AerialPatchDataset4C(root, crop=args.crop)\n",
    "    print(f\"📊 共 {len(data)} 張影像\")\n",
    "    v = int(0.1*len(data))\n",
    "    train_ds, val_ds = torch.utils.data.random_split(data, [len(data)-v, v])\n",
    "\n",
    "    def loader(ds, shf): return DataLoader(\n",
    "        ds, batch_size=args.bs, shuffle=shf,\n",
    "        num_workers=0, pin_memory=False, persistent_workers=False)\n",
    "\n",
    "    train_ld, val_ld = loader(train_ds, True), loader(val_ds, False)\n",
    "\n",
    "    model = UNet11_4ch(pretrained=True).to(device)      # ★★\n",
    "    crit  = nn.BCEWithLogitsLoss()\n",
    "    opt   = torch.optim.Adam(model.parameters(), lr=args.lr)\n",
    "    scaler= torch.amp.GradScaler(device.type)\n",
    "\n",
    "    best = 0; os.makedirs(\"checkpoints\", exist_ok=True)\n",
    "    with open(\"metrics.csv\",\"w\",newline=\"\") as f:\n",
    "        csv.writer(f).writerow([\"epoch\",\"train_loss\",\"val_loss\",\"dice\"])\n",
    "\n",
    "    for ep in range(1, args.epochs+1):\n",
    "        # ---- train ----\n",
    "        model.train(); tr_loss=0; n_tr=0\n",
    "        for img,msk in tqdm(train_ld, desc=f\"Ep{ep}/{args.epochs} train\"):\n",
    "            img,msk = img.to(device), msk.to(device)\n",
    "            with torch.amp.autocast(device.type):\n",
    "                pred = model(img); loss = crit(pred, msk)\n",
    "            opt.zero_grad(); scaler.scale(loss).backward()\n",
    "            scaler.step(opt); scaler.update()\n",
    "            tr_loss += loss.item(); n_tr += 1\n",
    "\n",
    "        # ---- val ----\n",
    "        model.eval(); vl_loss=0; dices=[]; n_v=0\n",
    "        with torch.no_grad():\n",
    "            for img,msk in tqdm(val_ld, desc=f\"Ep{ep}/{args.epochs} val\"):\n",
    "                img,msk = img.to(device), msk.to(device)\n",
    "                with torch.amp.autocast(device.type):\n",
    "                    pred = model(img); loss = crit(pred, msk)\n",
    "                vl_loss += loss.item(); dices.append(dice_coef(pred, msk).item()); n_v += 1\n",
    "\n",
    "        tr_loss /= max(n_tr,1); vl_loss /= max(n_v,1); dice = np.mean(dices) if dices else 0\n",
    "        print(f\"📝 Ep{ep} train={tr_loss:.4f} val={vl_loss:.4f} dice={dice:.4f}\")\n",
    "        with open(\"metrics.csv\",\"a\",newline=\"\") as f:\n",
    "            csv.writer(f).writerow([ep,tr_loss,vl_loss,dice])\n",
    "\n",
    "        if dice > best:\n",
    "            best = dice\n",
    "            torch.save(model.state_dict(), \"checkpoints/best_unet4ch(RELU).pth\")\n",
    "            print(f\"  👑  Saved best model (dice {best:.4f})\")\n",
    "\n",
    "# ---------------- Run --------------------\n",
    "if __name__ == \"__main__\":\n",
    "    args = argparse.Namespace(epochs=100, bs=4, lr=1e-4, crop=256)\n",
    "    main(args)\n"
   ]
  },
  {
   "cell_type": "code",
   "execution_count": null,
   "id": "54e54748",
   "metadata": {},
   "outputs": [
    {
     "name": "stderr",
     "output_type": "stream",
     "text": [
      "c:\\Users\\op237\\miniconda3\\envs\\Depth4UNet\\lib\\site-packages\\torchvision\\models\\_utils.py:208: UserWarning: The parameter 'pretrained' is deprecated since 0.13 and may be removed in the future, please use 'weights' instead.\n",
      "  warnings.warn(\n",
      "c:\\Users\\op237\\miniconda3\\envs\\Depth4UNet\\lib\\site-packages\\torchvision\\models\\_utils.py:223: UserWarning: Arguments other than a weight enum or `None` for 'weights' are deprecated since 0.13 and may be removed in the future. The current behavior is equivalent to passing `weights=None`.\n",
      "  warnings.warn(msg)\n",
      "C:\\Users\\op237\\AppData\\Local\\Temp\\ipykernel_35268\\2762935662.py:27: FutureWarning: You are using `torch.load` with `weights_only=False` (the current default value), which uses the default pickle module implicitly. It is possible to construct malicious pickle data which will execute arbitrary code during unpickling (See https://github.com/pytorch/pytorch/blob/main/SECURITY.md#untrusted-models for more details). In a future release, the default value for `weights_only` will be flipped to `True`. This limits the functions that could be executed during unpickling. Arbitrary objects will no longer be allowed to be loaded via this mode unless they are explicitly allowlisted by the user via `torch.serialization.add_safe_globals`. We recommend you start setting `weights_only=True` for any use case where you don't have full control of the loaded file. Please open an issue on GitHub for any issues related to this experimental feature.\n",
      "  model.load_state_dict(torch.load(CKPT_PATH, map_location=device))\n"
     ]
    },
    {
     "name": "stdout",
     "output_type": "stream",
     "text": [
      "✅ 所有評估圖與 CSV 已輸出至 eval_figs\n"
     ]
    },
    {
     "data": {
      "image/png": "[encoded data removed]",
      "text/plain": [
       "<Figure size 640x480 with 1 Axes>"
      ]
     },
     "metadata": {},
     "output_type": "display_data"
    },
    {
     "data": {
      "image/png": "[encoded data removed]",
      "text/plain": [
       "<Figure size 640x480 with 1 Axes>"
      ]
     },
     "metadata": {},
     "output_type": "display_data"
    }
   ],
   "source": [
    "# %% [markdown]\n",
    "# # Evaluate **UNet11_4ch** & Plot Precision-Recall Curve\n",
    "#\n",
    "# 1. 先設定 `CKPT_PATH` 與 `DATA_ROOT`  \n",
    "# 2. Run all cells / 執行整支 script  \n",
    "# 3. 會列出 matched layers、計算 PR 曲線與 AP，並存出\n",
    "#    * `pr_curve.png`\n",
    "#    * `val_pred.npz`\n",
    "\n",
    "# %% [markdown]\n",
    "# ## （可選）安裝相依套件\n",
    "# 如果缺 `scikit-learn` / `matplotlib`，取消註解以下一行安裝\n",
    "# !pip install scikit-learn matplotlib tqdm\n",
    "# ── 固定隨機種子，請放在 import 後、任何資料集/模型建立之前 ──\n",
    "import random, numpy as np, torch\n",
    "\n",
    "SEED = 1               # 你想用的種子數\n",
    "random.seed(SEED)       # Python 內建 random\n",
    "np.random.seed(SEED)    # NumPy\n",
    "torch.manual_seed(SEED) # PyTorch CPU\n",
    "if torch.cuda.is_available():\n",
    "    torch.cuda.manual_seed_all(SEED)      # PyTorch GPU\n",
    "torch.backends.cudnn.deterministic = True # 讓 cuDNN 算子 deterministic\n",
    "torch.backends.cudnn.benchmark = False    # 關掉自適應演算法選擇\n",
    "\n",
    "# %% Imports & helpers\n",
    "import os, torch, numpy as np, matplotlib.pyplot as plt\n",
    "from tqdm.auto import tqdm\n",
    "from sklearn.metrics import precision_recall_curve, average_precision_score\n",
    "\n",
    "# ---- 匯入你的模型與 Dataset ----\n",
    "\n",
    "\n",
    "def load_ckpt(model, ckpt_path, label=\"UNet4ch\"):\n",
    "    \"\"\"安全載入權重並回報相符層數\"\"\"\n",
    "    ckpt = torch.load(ckpt_path, map_location=\"cpu\")\n",
    "    model_state = model.state_dict()\n",
    "    compatible = {k: v for k, v in ckpt.items()\n",
    "                  if k in model_state and v.shape == model_state[k].shape}\n",
    "    model_state.update(compatible)\n",
    "    model.load_state_dict(model_state)\n",
    "    print(f\"{label}: matched {len(compatible)} / {len(model_state)} layers\")\n",
    "    return model\n",
    "\n",
    "# %% 🔧 路徑與參數（請修改這裡）\n",
    "CKPT_PATH  = r\"checkpoints/best_unet4ch(RELU).pth\"  # ← 你的 checkpoint\n",
    "DATA_ROOT  = r\"E:\\論文\\空拍地圖語意分割\\Depth4UNet\\AerialImageDataset\\train\"  # ← 資料集根目錄\n",
    "BATCH_SIZE = 4\n",
    "CROP_SIZE  = 256\n",
    "VAL_RATIO  = 0.10\n",
    "\n",
    "device = torch.device(\"cuda\" if torch.cuda.is_available() else \"cpu\")\n",
    "print(\"🚀 Device:\", device)\n",
    "\n",
    "# %% Dataset & DataLoader\n",
    "ds = AerialPatchDataset4C(DATA_ROOT, crop=CROP_SIZE)\n",
    "val_len = int(len(ds) * VAL_RATIO)\n",
    "_, val_ds = torch.utils.data.random_split(ds, [len(ds) - val_len, val_len])\n",
    "\n",
    "val_ld = torch.utils.data.DataLoader(\n",
    "    val_ds, batch_size=BATCH_SIZE, shuffle=False,\n",
    "    num_workers=0, pin_memory=False)\n",
    "\n",
    "# %% Model\n",
    "model = UNet11_4ch(pretrained=False).to(device)\n",
    "model = load_ckpt(model, CKPT_PATH)\n",
    "\n",
    "# %% Inference: collect y_true / y_score\n",
    "model.eval()\n",
    "y_true, y_score = [], []\n",
    "with torch.no_grad():\n",
    "    for img, msk in tqdm(val_ld, desc=\"Infer val\"):\n",
    "        img = img.to(device)\n",
    "        prob = model(img).sigmoid().cpu()   # (B,1,H,W) 機率\n",
    "        y_score.append(prob.flatten())\n",
    "        y_true.append(msk.flatten())\n",
    "\n",
    "y_true  = torch.cat(y_true).numpy()\n",
    "y_score = torch.cat(y_score).numpy()\n",
    "print(f\"Collected {y_true.shape[0]:,} pixels for evaluation\")\n",
    "\n",
    "# %% PR curve & Average Precision\n",
    "precision, recall, _ = precision_recall_curve(y_true, y_score)\n",
    "ap = average_precision_score(y_true, y_score)\n",
    "print(f\"Average Precision = {ap:.4f}\")\n",
    "\n",
    "# %% Plot & save\n",
    "plt.figure()\n",
    "plt.plot(recall, precision)\n",
    "plt.xlabel(\"Recall\")\n",
    "plt.ylabel(\"Precision\")\n",
    "plt.title(f\"PR Curve (AP = {ap:.4f})\")\n",
    "plt.grid()\n",
    "plt.tight_layout()\n",
    "plt.savefig(\"pr_curve.png\")\n",
    "print(\"📈  Saved pr_curve.png\")\n",
    "\n",
    "# Save raw arrays\n",
    "np.savez_compressed(\"val_pred.npz\", y_true=y_true, y_score=y_score)\n",
    "print(\"💾  Saved val_pred.npz\")\n"
   ]
  },
  {
   "cell_type": "code",
   "execution_count": null,
   "id": "83cb8def",
   "metadata": {},
   "outputs": [
    {
     "name": "stdout",
     "output_type": "stream",
     "text": [
      "✅ dice_by_epoch.csv  已寫出\n",
      "✅ pr_curve.csv       已寫出\n",
      "✅ loss_curve.png     已寫出\n",
      "✅ conf_matrix.png    已寫出\n"
     ]
    },
    {
     "data": {
      "image/png": "[encoded data removed]",
      "text/plain": [
       "<Figure size 640x480 with 1 Axes>"
      ]
     },
     "metadata": {},
     "output_type": "display_data"
    },
    {
     "data": {
      "image/png": "[encoded data removed]",
      "text/plain": [
       "<Figure size 640x480 with 1 Axes>"
      ]
     },
     "metadata": {},
     "output_type": "display_data"
    },
    {
     "data": {
      "image/png": "[encoded data removed]",
      "text/plain": [
       "<Figure size 640x480 with 1 Axes>"
      ]
     },
     "metadata": {},
     "output_type": "display_data"
    },
    {
     "data": {
      "image/png": "[encoded data removed]",
      "text/plain": [
       "<Figure size 640x480 with 1 Axes>"
      ]
     },
     "metadata": {},
     "output_type": "display_data"
    }
   ],
   "source": [
    "import csv, numpy as np\n",
    "\n",
    "# === 讀入你先前程式已算好的資料 ===\n",
    "metrics_csv = \"metrics.csv\"\n",
    "val_pred_npz = \"val_pred.npz\"\n",
    "\n",
    "# ── 1. Dice-by-epoch  ───────────────────────────────────────────────\n",
    "epochs, dice = [], []\n",
    "with open(metrics_csv, newline=\"\") as f:\n",
    "    for row in csv.DictReader(f):\n",
    "        epochs.append(int(row[\"epoch\"]))\n",
    "        dice.append(float(row[\"dice\"]))\n",
    "\n",
    "with open(\"dice_by_epoch.csv\", \"w\", newline=\"\") as f:\n",
    "    w = csv.writer(f)\n",
    "    w.writerow([\"epoch\", \"dice\"])\n",
    "    w.writerows(zip(epochs, dice))\n",
    "print(\"✅ dice_by_epoch.csv  已寫出\")\n",
    "plt.figure()\n",
    "plt.plot(epochs, dice, marker='o')\n",
    "plt.xlabel(\"epoch\"); plt.ylabel(\"dice coefficient\")\n",
    "plt.title(\"Dice Coefficient by Epoch\")\n",
    "plt.grid(); plt.tight_layout()\n",
    "plt.savefig(\"dice_curve.png\")\n",
    "\n",
    "# ── 2. Precision-Recall 曲線  ───────────────────────────────────────\n",
    "dat = np.load(val_pred_npz)\n",
    "y_true, y_score = dat[\"y_true\"], dat[\"y_score\"]\n",
    "\n",
    "from sklearn.metrics import precision_recall_curve\n",
    "precision, recall, thresholds = precision_recall_curve(y_true, y_score)\n",
    "\n",
    "# precision, recall 長度 = len(thresholds)+1，為了對齊，先手動補最後一個門檻值 1.0\n",
    "thresholds = np.append(thresholds, 1.0)\n",
    "\n",
    "with open(\"pr_curve.csv\", \"w\", newline=\"\") as f:\n",
    "    w = csv.writer(f)\n",
    "    w.writerow([\"threshold\", \"recall\", \"precision\"])\n",
    "    w.writerows(zip(thresholds, recall, precision))\n",
    "print(\"✅ pr_curve.csv       已寫出\")\n",
    "plt.figure()\n",
    "plt.plot(recall, precision, marker='o')\n",
    "plt.xlabel(\"Recall\"); plt.ylabel(\"Precision\")\n",
    "plt.title(\"Precision-Recall Curve\")\n",
    "plt.grid(); plt.tight_layout()\n",
    "plt.savefig(\"pr_curve.png\")\n",
    "# === 3. Loss Curve ────────────────────────────────────────────────\n",
    "import matplotlib.pyplot as plt\n",
    "\n",
    "# 如果 metrics.csv 還有 train_loss / val_loss 欄，讀進來：\n",
    "train_loss, val_loss = [], []\n",
    "with open(metrics_csv, newline=\"\") as f:\n",
    "    for row in csv.DictReader(f):\n",
    "        train_loss.append(float(row[\"train_loss\"]))\n",
    "        val_loss.append(float(row[\"val_loss\"]))\n",
    "\n",
    "plt.figure()\n",
    "plt.plot(epochs, train_loss, label=\"train loss\")\n",
    "plt.plot(epochs, val_loss,  label=\"val loss\")\n",
    "plt.xlabel(\"epoch\"); plt.ylabel(\"loss\"); plt.title(\"Loss Curve\")\n",
    "plt.grid(); plt.legend()\n",
    "plt.tight_layout()\n",
    "plt.savefig(\"loss_curve.png\")\n",
    "print(\"✅ loss_curve.png     已寫出\")\n",
    "\n",
    "# === 4. Confusion Matrix ──────────────────────────────────────────\n",
    "from sklearn.metrics import confusion_matrix, ConfusionMatrixDisplay\n",
    "\n",
    "# 以固定門檻 0.5 取 y_pred；如要用最佳 F1 門檻可自行替換\n",
    "y_pred = (y_score >= 0.5).astype(int)\n",
    "\n",
    "cm = confusion_matrix(y_true, y_pred, labels=[0,1])   # [[TN, FP], [FN, TP]]\n",
    "\n",
    "fig, ax = plt.subplots()\n",
    "disp = ConfusionMatrixDisplay(cm, display_labels=[\"background\", \"building\"])  # 按你的類別改\n",
    "disp.plot(cmap=None, ax=ax, colorbar=False)  # 不指定 color 以符合預設\n",
    "ax.set_title(\"Confusion Matrix @ threshold 0.5\")\n",
    "plt.tight_layout()\n",
    "fig.savefig(\"conf_matrix.png\")\n",
    "print(\"✅ conf_matrix.png    已寫出\")\n"
   ]
  },
  {
   "cell_type": "code",
   "execution_count": null,
   "id": "d0ed2293",
   "metadata": {},
   "outputs": [
    {
     "name": "stdout",
     "output_type": "stream",
     "text": [
      "🚀 Using device: cuda\n"
     ]
    },
    {
     "name": "stderr",
     "output_type": "stream",
     "text": [
      "c:\\Users\\op237\\miniconda3\\envs\\Depth4UNet\\lib\\site-packages\\torchvision\\models\\_utils.py:208: UserWarning: The parameter 'pretrained' is deprecated since 0.13 and may be removed in the future, please use 'weights' instead.\n",
      "  warnings.warn(\n",
      "c:\\Users\\op237\\miniconda3\\envs\\Depth4UNet\\lib\\site-packages\\torchvision\\models\\_utils.py:223: UserWarning: Arguments other than a weight enum or `None` for 'weights' are deprecated since 0.13 and may be removed in the future. The current behavior is equivalent to passing `weights=None`.\n",
      "  warnings.warn(msg)\n",
      "C:\\Users\\op237\\AppData\\Local\\Temp\\ipykernel_21292\\2759003785.py:38: FutureWarning: You are using `torch.load` with `weights_only=False` (the current default value), which uses the default pickle module implicitly. It is possible to construct malicious pickle data which will execute arbitrary code during unpickling (See https://github.com/pytorch/pytorch/blob/main/SECURITY.md#untrusted-models for more details). In a future release, the default value for `weights_only` will be flipped to `True`. This limits the functions that could be executed during unpickling. Arbitrary objects will no longer be allowed to be loaded via this mode unless they are explicitly allowlisted by the user via `torch.serialization.add_safe_globals`. We recommend you start setting `weights_only=True` for any use case where you don't have full control of the loaded file. Please open an issue on GitHub for any issues related to this experimental feature.\n",
      "  model.load_state_dict(torch.load(CKPT_PATH, map_location=DEVICE))\n"
     ]
    },
    {
     "name": "stdout",
     "output_type": "stream",
     "text": [
      "📥 Loading images …\n",
      "📐 Image size: 5000×5000\n",
      "🔍 Starting prediction…\n",
      "🖼️ Image is large, using sliding window prediction…\n",
      "🔄 Processing 81 windows…\n",
      "  Progress: 10/81 (12.3%)\n",
      "  Progress: 20/81 (24.7%)\n",
      "  Progress: 30/81 (37.0%)\n",
      "  Progress: 40/81 (49.4%)\n",
      "  Progress: 50/81 (61.7%)\n",
      "  Progress: 60/81 (74.1%)\n",
      "  Progress: 70/81 (86.4%)\n",
      "  Progress: 80/81 (98.8%)\n",
      "  Progress: 81/81 (100.0%)\n",
      "✅ Saved blended result: E:\\論文\\空拍地圖語意分割\\Depth4UNet\\AerialImageDataset\\test\\images\\bellingham1_RGBD_pred.png\n",
      "✅ Saved mask: E:\\論文\\空拍地圖語意分割\\Depth4UNet\\AerialImageDataset\\test\\images\\bellingham1_RGBD_mask.png\n",
      "🎉 Prediction completed!\n"
     ]
    }
   ],
   "source": [
    "# ------------------ Demo Predict (RGB + Depth，滑窗版 1024×1024) ------------------\n",
    "\"\"\"\n",
    "此腳本示範如何對 **RGB 圖 + 單通道深度圖** 進行語意分割推論。\n",
    "假設模型輸入為 4 通道（RGB→3 + Depth→1）。\n",
    "\"\"\"\n",
    "import os\n",
    "from typing import Tuple, List\n",
    "\n",
    "import numpy as np\n",
    "from PIL import Image\n",
    "\n",
    "import torch\n",
    "import torch.nn.functional as F\n",
    "import torchvision\n",
    "\n",
    "# ------------------------------------------------------------\n",
    "# ⚙️ 1. 手動設定\n",
    "# ------------------------------------------------------------\n",
    "RGB_PATH   = r\"E:\\論文\\空拍地圖語意分割\\Depth4UNet\\AerialImageDataset\\test\\images\\bellingham1.tif\"      # 三通道 RGB 影像\n",
    "DEPTH_PATH = r\"E:\\論文\\空拍地圖語意分割\\Depth4UNet\\depth\\bellingham1_depth.png\"    # 對應深度圖 (單通道 or 16‑bit)\n",
    "CKPT_PATH  = r\"E:\\論文\\空拍地圖語意分割\\Depth4UNet\\checkpoints\\best_unet4ch(GELU_Inverted Bottleneck).pth\"\n",
    "\n",
    "WINDOW_SIZE = 1024  # 滑窗大小\n",
    "STRIDE      = 512   # 滑窗步長（50% 重疊，減少邊界效應）\n",
    "\n",
    "# ------------------------------------------------------------\n",
    "# ⚙️ 2. 運算裝置\n",
    "# ------------------------------------------------------------\n",
    "DEVICE = torch.device(\"cuda\" if torch.cuda.is_available() else \"cpu\")\n",
    "print(\"🚀 Using device:\", DEVICE)\n",
    "\n",
    "# ------------------------------------------------------------\n",
    "# ⚙️ 3. 載入模型（UNet11_4ch，RGBD → 1 類）\n",
    "# ------------------------------------------------------------\n",
    "#from model import UNet11_4ch  # 若想換 UNet16_4ch，這裡替換即可\n",
    "\n",
    "model = UNet11_4ch(pretrained=False).to(DEVICE).eval()\n",
    "model.load_state_dict(torch.load(CKPT_PATH, map_location=DEVICE))\n",
    "\n",
    "# ------------------------------------------------------------\n",
    "# ⚙️ 4. 影像讀取\n",
    "# ------------------------------------------------------------\n",
    "print(\"📥 Loading images …\")\n",
    "# 讀取 RGB（H×W×3，uint8）\n",
    "rgb_img = Image.open(RGB_PATH).convert(\"RGB\")\n",
    "# 讀取 Depth（H×W 單通道）；自動轉成 8‑bit 再正規化 0–1\n",
    "raw_depth = Image.open(DEPTH_PATH)\n",
    "if raw_depth.mode != \"L\":  # 16‑bit or 32‑bit\n",
    "    depth_np = np.array(raw_depth, dtype=np.float32)\n",
    "    # 依整張圖做 min‑max → 0‑255 再轉 uint8（便於與 RGB 同步前處理）\n",
    "    depth_np = 255.0 * (depth_np - depth_np.min()) / max(depth_np.ptp(), 1e-6)\n",
    "    depth_img = Image.fromarray(depth_np.astype(np.uint8))\n",
    "else:\n",
    "    depth_img = raw_depth\n",
    "\n",
    "W, H = rgb_img.size\n",
    "print(f\"📐 Image size: {W}×{H}\")\n",
    "\n",
    "# ------------------------------------------------------------\n",
    "# ⚙️ 5. 前處理函式\n",
    "# ------------------------------------------------------------\n",
    "# 針對 RGB 的 torchvision 標準化 (ImageNet)\n",
    "_rgb_tf = torchvision.transforms.Compose([\n",
    "    torchvision.transforms.ToTensor(),\n",
    "    torchvision.transforms.Normalize([0.485, 0.456, 0.406],\n",
    "                                     [0.229, 0.224, 0.225])\n",
    "])\n",
    "\n",
    "# Depth → Tensor (0–1) 直接線性拉伸；不做均值方差正規化（依照你訓練時的做法調整）\n",
    "_depth_tf = torchvision.transforms.ToTensor()  # 會得到 0–1 float32\n",
    "\n",
    "\n",
    "def preprocess_patch(rgb_patch: Image.Image, depth_patch: Image.Image) -> torch.Tensor:\n",
    "    \"\"\"將 RGB 與 Depth patch 轉為 (1,4,H,W) Tensor 並 pad 到 32 倍數\"\"\"\n",
    "    t_rgb   = _rgb_tf(rgb_patch)\n",
    "    t_depth = _depth_tf(depth_patch)  # shape (1,H,W)\n",
    "    tensor  = torch.cat([t_rgb, t_depth], dim=0).unsqueeze(0).to(DEVICE)  # (1,4,H,W)\n",
    "    return tensor\n",
    "\n",
    "\n",
    "# ------------------------------------------------------------\n",
    "# ⚙️ 6. Pad‑to‑32 工具\n",
    "# ------------------------------------------------------------\n",
    "\n",
    "def pad32(x: torch.Tensor) -> Tuple[torch.Tensor, int, int]:\n",
    "    \"\"\"Pad tensor (N,C,H,W) 到 32 的倍數，回傳 pad 後 tensor 與 pady、padx\"\"\"\n",
    "    _, _, h, w = x.shape\n",
    "    ph = (32 - h % 32) % 32\n",
    "    pw = (32 - w % 32) % 32\n",
    "    return F.pad(x, (0, pw, 0, ph)), ph, pw\n",
    "\n",
    "\n",
    "# ------------------------------------------------------------\n",
    "# ⚙️ 7. 小圖直接預測\n",
    "# ------------------------------------------------------------\n",
    "\n",
    "def direct_predict(rgb_np: np.ndarray, depth_np: np.ndarray) -> np.ndarray:\n",
    "    print(\"📸 Image is small, using direct prediction…\")\n",
    "    rgb_pil   = Image.fromarray(rgb_np)\n",
    "    depth_pil = Image.fromarray(depth_np)\n",
    "\n",
    "    tensor_img = preprocess_patch(rgb_pil, depth_pil)\n",
    "    tensor_pad, ph, pw = pad32(tensor_img)\n",
    "\n",
    "    with torch.no_grad():\n",
    "        logits = model(tensor_pad)\n",
    "        if ph or pw:\n",
    "            logits = logits[..., : logits.shape[-2] - ph, : logits.shape[-1] - pw]\n",
    "        prob = torch.sigmoid(logits)[0, 0].cpu().numpy()\n",
    "    return prob\n",
    "\n",
    "\n",
    "# ------------------------------------------------------------\n",
    "# ⚙️ 8. 滑窗預測\n",
    "# ------------------------------------------------------------\n",
    "\n",
    "def sliding_window_predict(rgb_np: np.ndarray, depth_np: np.ndarray,\n",
    "                           window: int, stride: int) -> np.ndarray:\n",
    "    H, W, _ = rgb_np.shape\n",
    "\n",
    "    # 若圖片小於滑窗，直接預測\n",
    "    if H <= window and W <= window:\n",
    "        return direct_predict(rgb_np, depth_np)\n",
    "\n",
    "    print(\"🖼️ Image is large, using sliding window prediction…\")\n",
    "\n",
    "    out_mask = np.zeros((H, W), dtype=np.float32)\n",
    "    weight   = np.zeros((H, W), dtype=np.float32)\n",
    "\n",
    "    y_pos = list(range(0, max(1, H - window + 1), stride))\n",
    "    x_pos = list(range(0, max(1, W - window + 1), stride))\n",
    "\n",
    "    if y_pos[-1] + window < H:\n",
    "        y_pos.append(H - window)\n",
    "    if x_pos[-1] + window < W:\n",
    "        x_pos.append(W - window)\n",
    "\n",
    "    total = len(y_pos) * len(x_pos)\n",
    "    print(f\"🔄 Processing {total} windows…\")\n",
    "\n",
    "    idx = 0\n",
    "    for y in y_pos:\n",
    "        for x in x_pos:\n",
    "            idx += 1\n",
    "            y_end, x_end = y + window, x + window\n",
    "            rgb_win   = rgb_np[y: y_end, x: x_end]\n",
    "            depth_win = depth_np[y: y_end, x: x_end]\n",
    "\n",
    "            # 若邊界不足則 pad 至 window\n",
    "            if rgb_win.shape[0] < window or rgb_win.shape[1] < window:\n",
    "                pad_rgb   = np.zeros((window, window, 3), dtype=np.uint8)\n",
    "                pad_depth = np.zeros((window, window), dtype=np.uint8)\n",
    "                pad_rgb[: rgb_win.shape[0], : rgb_win.shape[1], :]   = rgb_win\n",
    "                pad_depth[: depth_win.shape[0], : depth_win.shape[1]] = depth_win\n",
    "                rgb_win, depth_win = pad_rgb, pad_depth\n",
    "\n",
    "            tensor_pad, ph, pw = pad32(preprocess_patch(Image.fromarray(rgb_win),\n",
    "                                                        Image.fromarray(depth_win)))\n",
    "            with torch.no_grad():\n",
    "                logits = model(tensor_pad)\n",
    "                if ph or pw:\n",
    "                    logits = logits[..., : logits.shape[-2] - ph, : logits.shape[-1] - pw]\n",
    "                prob = torch.sigmoid(logits)[0, 0].cpu().numpy()\n",
    "\n",
    "                # 若邊界 pad → 裁回原大小\n",
    "                prob = prob[: rgb_win.shape[0], : rgb_win.shape[1]]\n",
    "\n",
    "            out_mask[y: y_end, x: x_end] += prob[: y_end - y, : x_end - x]\n",
    "            weight[y: y_end, x: x_end]   += 1.0\n",
    "\n",
    "            if idx % 10 == 0 or idx == total:\n",
    "                print(f\"  Progress: {idx}/{total} ({idx / total * 100:.1f}%)\")\n",
    "\n",
    "    return np.divide(out_mask, weight, out=np.zeros_like(out_mask), where=weight != 0)\n",
    "\n",
    "\n",
    "# ------------------------------------------------------------\n",
    "# ⚙️ 9. 執行預測\n",
    "# ------------------------------------------------------------\n",
    "print(\"🔍 Starting prediction…\")\n",
    "\n",
    "rgb_np   = np.array(rgb_img)\n",
    "depth_np = np.array(depth_img)\n",
    "\n",
    "prob_mask = sliding_window_predict(rgb_np, depth_np, WINDOW_SIZE, STRIDE)\n",
    "\n",
    "# ------------------------------------------------------------\n",
    "# ⚙️ 10. 後處理與儲存\n",
    "# ------------------------------------------------------------\n",
    "THRESH = 0.5\n",
    "binary = (prob_mask > THRESH).astype(np.uint8) * 255\n",
    "\n",
    "mask_rgb = np.zeros((*binary.shape, 3), dtype=np.uint8)\n",
    "mask_rgb[..., 1] = binary  # 綠色\n",
    "\n",
    "blend = Image.blend(rgb_img, Image.fromarray(mask_rgb), alpha=0.4)\n",
    "\n",
    "out_base = os.path.splitext(RGB_PATH)[0]\n",
    "blend.save(out_base + \"_RGBD_pred.png\")\n",
    "Image.fromarray(binary).save(out_base + \"_RGBD_mask.png\")\n",
    "\n",
    "print(\"✅ Saved blended result:\", out_base + \"_RGBD_pred.png\")\n",
    "print(\"✅ Saved mask:\", out_base + \"_RGBD_mask.png\")\n",
    "print(\"🎉 Prediction completed!\")\n"
   ]
  }
 ],
 "metadata": {
  "kernelspec": {
   "display_name": "Depth4UNet",
   "language": "python",
   "name": "python3"
  },
  "language_info": {
   "codemirror_mode": {
    "name": "ipython",
    "version": 3
   },
   "file_extension": ".py",
   "mimetype": "text/x-python",
   "name": "python",
   "nbconvert_exporter": "python",
   "pygments_lexer": "ipython3",
   "version": "3.8.20"
  }
 },
 "nbformat": 4,
 "nbformat_minor": 5
}
