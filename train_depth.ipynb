{
 "cells": [
  {
   "cell_type": "code",
   "execution_count": 1,
   "id": "6e5bda88",
   "metadata": {},
   "outputs": [],
   "source": [
    "# model.py\n",
    "import torch, torchvision\n",
    "from torch import nn\n",
    "\n",
    "def conv3x3(i, o): return nn.Conv2d(i, o, 3, padding=1)\n",
    "\n",
    "class ConvRelu(nn.Module):\n",
    "    def __init__(self, i, o):\n",
    "        super().__init__()\n",
    "        self.block = nn.Sequential(conv3x3(i, o), nn.ReLU(inplace=True))\n",
    "    def forward(self, x): return self.block(x)\n",
    "\n",
    "class DecoderBlock(nn.Module):\n",
    "    def __init__(self, i, m, o):\n",
    "        super().__init__()\n",
    "        self.block = nn.Sequential(\n",
    "            ConvRelu(i, m),\n",
    "            nn.ConvTranspose2d(m, o, 3, 2, 1, 1),\n",
    "            nn.ReLU(inplace=True)\n",
    "        )\n",
    "    def forward(self, x): return self.block(x)\n",
    "\n",
    "class UNet11_4ch(nn.Module):\n",
    "    \"\"\"UNet-11，首層改為 4→64，RGB 權重沿用並為第 4 通道初始化均值\"\"\"\n",
    "    def __init__(self, num_filters=32, pretrained=True):\n",
    "        super().__init__()\n",
    "        enc = torchvision.models.vgg11(pretrained=pretrained).features\n",
    "        old = enc[0]                                   # 3→64\n",
    "        new = nn.Conv2d(4, 64, 3, padding=1)           # ★★ 改 4→64\n",
    "        if pretrained:\n",
    "            with torch.no_grad():\n",
    "                new.weight[:, :3] = old.weight         # RGB 權重複製\n",
    "                new.weight[:, 3:4] = old.weight.mean(1, keepdim=True)\n",
    "                new.bias = old.bias\n",
    "        enc[0] = new\n",
    "        self.encoder = enc\n",
    "\n",
    "        self.relu, self.pool = nn.ReLU(inplace=True), nn.MaxPool2d(2,2)\n",
    "        self.conv1, self.conv2 = enc[0], enc[3]\n",
    "        self.conv3s, self.conv3 = enc[6], enc[8]\n",
    "        self.conv4s, self.conv4 = enc[11], enc[13]\n",
    "        self.conv5s, self.conv5 = enc[16], enc[18]\n",
    "\n",
    "        nf = num_filters\n",
    "        self.center = DecoderBlock(nf*8*2, nf*8*2, nf*8)\n",
    "        self.dec5   = DecoderBlock(nf*(16+8), nf*8*2, nf*8)\n",
    "        self.dec4   = DecoderBlock(nf*(16+8), nf*8*2, nf*4)\n",
    "        self.dec3   = DecoderBlock(nf*(8+4),  nf*4*2, nf*2)\n",
    "        self.dec2   = DecoderBlock(nf*(4+2),  nf*2*2, nf)\n",
    "        self.dec1   = ConvRelu(nf*(2+1), nf)\n",
    "        self.final  = nn.Conv2d(nf, 1, 1)\n",
    "\n",
    "    def forward(self, x):\n",
    "        c1 = self.relu(self.conv1(x))\n",
    "        c2 = self.relu(self.conv2(self.pool(c1)))\n",
    "        c3s= self.relu(self.conv3s(self.pool(c2)))\n",
    "        c3 = self.relu(self.conv3(c3s))\n",
    "        c4s= self.relu(self.conv4s(self.pool(c3)))\n",
    "        c4 = self.relu(self.conv4(c4s))\n",
    "        c5s= self.relu(self.conv5s(self.pool(c4)))\n",
    "        c5 = self.relu(self.conv5(c5s))\n",
    "\n",
    "        ctr = self.center(self.pool(c5))\n",
    "        d5  = self.dec5(torch.cat([ctr, c5], 1))\n",
    "        d4  = self.dec4(torch.cat([d5,  c4], 1))\n",
    "        d3  = self.dec3(torch.cat([d4,  c3], 1))\n",
    "        d2  = self.dec2(torch.cat([d3,  c2], 1))\n",
    "        d1  = self.dec1(torch.cat([d2,  c1], 1))\n",
    "        return self.final(d1)\n"
   ]
  },
  {
   "cell_type": "code",
   "execution_count": 5,
   "id": "c534122e",
   "metadata": {},
   "outputs": [
    {
     "name": "stdout",
     "output_type": "stream",
     "text": [
      "🚀 Device: cuda\n",
      "📊 共 180 張影像\n"
     ]
    },
    {
     "name": "stderr",
     "output_type": "stream",
     "text": [
      "Ep1/100 train:   0%|          | 0/41 [00:00<?, ?it/s]C:\\Users\\op237\\AppData\\Local\\Temp\\ipykernel_28692\\4286199000.py:80: UserWarning: The given NumPy array is not writable, and PyTorch does not support non-writable tensors. This means writing to this tensor will result in undefined behavior. You may want to copy the array to protect its data or make it writable before converting it to a tensor. This type of warning will be suppressed for the rest of this program. (Triggered internally at C:\\actions-runner\\_work\\pytorch\\pytorch\\builder\\windows\\pytorch\\torch\\csrc\\utils\\tensor_numpy.cpp:212.)\n",
      "  rgb   = torch.from_numpy(rgb).permute(2,0,1).float() / 255.0\n",
      "Ep1/100 train: 100%|██████████| 41/41 [03:19<00:00,  4.86s/it]\n",
      "Ep1/100 val: 100%|██████████| 5/5 [00:21<00:00,  4.34s/it]\n"
     ]
    },
    {
     "name": "stdout",
     "output_type": "stream",
     "text": [
      "📝 Ep1 train=0.4090 val=0.3375 dice=0.1500\n",
      "  👑  Saved best model (dice 0.1500)\n"
     ]
    },
    {
     "name": "stderr",
     "output_type": "stream",
     "text": [
      "Ep2/100 train: 100%|██████████| 41/41 [01:54<00:00,  2.80s/it]\n",
      "Ep2/100 val: 100%|██████████| 5/5 [00:21<00:00,  4.27s/it]\n"
     ]
    },
    {
     "name": "stdout",
     "output_type": "stream",
     "text": [
      "📝 Ep2 train=0.3788 val=0.2855 dice=0.4291\n",
      "  👑  Saved best model (dice 0.4291)\n"
     ]
    },
    {
     "name": "stderr",
     "output_type": "stream",
     "text": [
      "Ep3/100 train: 100%|██████████| 41/41 [01:32<00:00,  2.26s/it]\n",
      "Ep3/100 val: 100%|██████████| 5/5 [00:21<00:00,  4.26s/it]\n"
     ]
    },
    {
     "name": "stdout",
     "output_type": "stream",
     "text": [
      "📝 Ep3 train=0.3226 val=0.2493 dice=0.3237\n"
     ]
    },
    {
     "name": "stderr",
     "output_type": "stream",
     "text": [
      "Ep4/100 train: 100%|██████████| 41/41 [01:29<00:00,  2.18s/it]\n",
      "Ep4/100 val: 100%|██████████| 5/5 [00:21<00:00,  4.25s/it]\n"
     ]
    },
    {
     "name": "stdout",
     "output_type": "stream",
     "text": [
      "📝 Ep4 train=0.2609 val=0.2925 dice=0.4800\n",
      "  👑  Saved best model (dice 0.4800)\n"
     ]
    },
    {
     "name": "stderr",
     "output_type": "stream",
     "text": [
      "Ep5/100 train: 100%|██████████| 41/41 [01:27<00:00,  2.13s/it]\n",
      "Ep5/100 val: 100%|██████████| 5/5 [00:21<00:00,  4.27s/it]\n"
     ]
    },
    {
     "name": "stdout",
     "output_type": "stream",
     "text": [
      "📝 Ep5 train=0.3089 val=0.2090 dice=0.5599\n",
      "  👑  Saved best model (dice 0.5599)\n"
     ]
    },
    {
     "name": "stderr",
     "output_type": "stream",
     "text": [
      "Ep6/100 train: 100%|██████████| 41/41 [01:31<00:00,  2.24s/it]\n",
      "Ep6/100 val: 100%|██████████| 5/5 [00:21<00:00,  4.27s/it]\n"
     ]
    },
    {
     "name": "stdout",
     "output_type": "stream",
     "text": [
      "📝 Ep6 train=0.2616 val=0.2509 dice=0.5211\n"
     ]
    },
    {
     "name": "stderr",
     "output_type": "stream",
     "text": [
      "Ep7/100 train: 100%|██████████| 41/41 [01:22<00:00,  2.02s/it]\n",
      "Ep7/100 val: 100%|██████████| 5/5 [00:21<00:00,  4.24s/it]\n"
     ]
    },
    {
     "name": "stdout",
     "output_type": "stream",
     "text": [
      "📝 Ep7 train=0.2403 val=0.2002 dice=0.8017\n",
      "  👑  Saved best model (dice 0.8017)\n"
     ]
    },
    {
     "name": "stderr",
     "output_type": "stream",
     "text": [
      "Ep8/100 train: 100%|██████████| 41/41 [01:28<00:00,  2.16s/it]\n",
      "Ep8/100 val: 100%|██████████| 5/5 [00:21<00:00,  4.25s/it]\n"
     ]
    },
    {
     "name": "stdout",
     "output_type": "stream",
     "text": [
      "📝 Ep8 train=0.2368 val=0.1573 dice=0.7120\n"
     ]
    },
    {
     "name": "stderr",
     "output_type": "stream",
     "text": [
      "Ep9/100 train: 100%|██████████| 41/41 [01:28<00:00,  2.15s/it]\n",
      "Ep9/100 val: 100%|██████████| 5/5 [00:21<00:00,  4.28s/it]\n"
     ]
    },
    {
     "name": "stdout",
     "output_type": "stream",
     "text": [
      "📝 Ep9 train=0.2449 val=0.2174 dice=0.7604\n"
     ]
    },
    {
     "name": "stderr",
     "output_type": "stream",
     "text": [
      "Ep10/100 train: 100%|██████████| 41/41 [01:27<00:00,  2.14s/it]\n",
      "Ep10/100 val: 100%|██████████| 5/5 [00:21<00:00,  4.25s/it]\n"
     ]
    },
    {
     "name": "stdout",
     "output_type": "stream",
     "text": [
      "📝 Ep10 train=0.2244 val=0.2235 dice=0.7221\n"
     ]
    },
    {
     "name": "stderr",
     "output_type": "stream",
     "text": [
      "Ep11/100 train: 100%|██████████| 41/41 [01:30<00:00,  2.20s/it]\n",
      "Ep11/100 val: 100%|██████████| 5/5 [00:21<00:00,  4.24s/it]\n"
     ]
    },
    {
     "name": "stdout",
     "output_type": "stream",
     "text": [
      "📝 Ep11 train=0.2316 val=0.3150 dice=0.6317\n"
     ]
    },
    {
     "name": "stderr",
     "output_type": "stream",
     "text": [
      "Ep12/100 train: 100%|██████████| 41/41 [01:29<00:00,  2.18s/it]\n",
      "Ep12/100 val: 100%|██████████| 5/5 [00:21<00:00,  4.25s/it]\n"
     ]
    },
    {
     "name": "stdout",
     "output_type": "stream",
     "text": [
      "📝 Ep12 train=0.2324 val=0.1361 dice=0.7840\n"
     ]
    },
    {
     "name": "stderr",
     "output_type": "stream",
     "text": [
      "Ep13/100 train: 100%|██████████| 41/41 [01:33<00:00,  2.28s/it]\n",
      "Ep13/100 val: 100%|██████████| 5/5 [00:21<00:00,  4.24s/it]\n"
     ]
    },
    {
     "name": "stdout",
     "output_type": "stream",
     "text": [
      "📝 Ep13 train=0.2191 val=0.1458 dice=0.6940\n"
     ]
    },
    {
     "name": "stderr",
     "output_type": "stream",
     "text": [
      "Ep14/100 train: 100%|██████████| 41/41 [01:37<00:00,  2.37s/it]\n",
      "Ep14/100 val: 100%|██████████| 5/5 [00:21<00:00,  4.28s/it]\n"
     ]
    },
    {
     "name": "stdout",
     "output_type": "stream",
     "text": [
      "📝 Ep14 train=0.2091 val=0.1030 dice=0.8957\n",
      "  👑  Saved best model (dice 0.8957)\n"
     ]
    },
    {
     "name": "stderr",
     "output_type": "stream",
     "text": [
      "Ep15/100 train: 100%|██████████| 41/41 [01:44<00:00,  2.56s/it]\n",
      "Ep15/100 val: 100%|██████████| 5/5 [00:25<00:00,  5.03s/it]\n"
     ]
    },
    {
     "name": "stdout",
     "output_type": "stream",
     "text": [
      "📝 Ep15 train=0.1782 val=0.1355 dice=0.8129\n"
     ]
    },
    {
     "name": "stderr",
     "output_type": "stream",
     "text": [
      "Ep16/100 train: 100%|██████████| 41/41 [03:11<00:00,  4.67s/it]\n",
      "Ep16/100 val: 100%|██████████| 5/5 [00:23<00:00,  4.77s/it]\n"
     ]
    },
    {
     "name": "stdout",
     "output_type": "stream",
     "text": [
      "📝 Ep16 train=0.2066 val=0.1318 dice=0.6843\n"
     ]
    },
    {
     "name": "stderr",
     "output_type": "stream",
     "text": [
      "Ep17/100 train: 100%|██████████| 41/41 [03:28<00:00,  5.09s/it]\n",
      "Ep17/100 val: 100%|██████████| 5/5 [00:25<00:00,  5.08s/it]\n"
     ]
    },
    {
     "name": "stdout",
     "output_type": "stream",
     "text": [
      "📝 Ep17 train=0.2192 val=0.1961 dice=0.7633\n"
     ]
    },
    {
     "name": "stderr",
     "output_type": "stream",
     "text": [
      "Ep18/100 train: 100%|██████████| 41/41 [03:20<00:00,  4.88s/it]\n",
      "Ep18/100 val: 100%|██████████| 5/5 [00:21<00:00,  4.33s/it]\n"
     ]
    },
    {
     "name": "stdout",
     "output_type": "stream",
     "text": [
      "📝 Ep18 train=0.2064 val=0.0943 dice=0.7199\n"
     ]
    },
    {
     "name": "stderr",
     "output_type": "stream",
     "text": [
      "Ep19/100 train: 100%|██████████| 41/41 [01:46<00:00,  2.60s/it]\n",
      "Ep19/100 val: 100%|██████████| 5/5 [00:21<00:00,  4.25s/it]\n"
     ]
    },
    {
     "name": "stdout",
     "output_type": "stream",
     "text": [
      "📝 Ep19 train=0.2155 val=0.1130 dice=0.6950\n"
     ]
    },
    {
     "name": "stderr",
     "output_type": "stream",
     "text": [
      "Ep20/100 train: 100%|██████████| 41/41 [01:32<00:00,  2.25s/it]\n",
      "Ep20/100 val: 100%|██████████| 5/5 [00:21<00:00,  4.24s/it]\n"
     ]
    },
    {
     "name": "stdout",
     "output_type": "stream",
     "text": [
      "📝 Ep20 train=0.1783 val=0.1422 dice=0.7714\n"
     ]
    },
    {
     "name": "stderr",
     "output_type": "stream",
     "text": [
      "Ep21/100 train: 100%|██████████| 41/41 [01:29<00:00,  2.18s/it]\n",
      "Ep21/100 val: 100%|██████████| 5/5 [00:21<00:00,  4.28s/it]\n"
     ]
    },
    {
     "name": "stdout",
     "output_type": "stream",
     "text": [
      "📝 Ep21 train=0.2013 val=0.1164 dice=0.8825\n"
     ]
    },
    {
     "name": "stderr",
     "output_type": "stream",
     "text": [
      "Ep22/100 train: 100%|██████████| 41/41 [01:23<00:00,  2.03s/it]\n",
      "Ep22/100 val: 100%|██████████| 5/5 [00:21<00:00,  4.25s/it]\n"
     ]
    },
    {
     "name": "stdout",
     "output_type": "stream",
     "text": [
      "📝 Ep22 train=0.1964 val=0.1300 dice=0.8151\n"
     ]
    },
    {
     "name": "stderr",
     "output_type": "stream",
     "text": [
      "Ep23/100 train: 100%|██████████| 41/41 [01:15<00:00,  1.85s/it]\n",
      "Ep23/100 val: 100%|██████████| 5/5 [00:21<00:00,  4.26s/it]\n"
     ]
    },
    {
     "name": "stdout",
     "output_type": "stream",
     "text": [
      "📝 Ep23 train=0.1767 val=0.1581 dice=0.7112\n"
     ]
    },
    {
     "name": "stderr",
     "output_type": "stream",
     "text": [
      "Ep24/100 train: 100%|██████████| 41/41 [01:19<00:00,  1.94s/it]\n",
      "Ep24/100 val: 100%|██████████| 5/5 [00:21<00:00,  4.24s/it]\n"
     ]
    },
    {
     "name": "stdout",
     "output_type": "stream",
     "text": [
      "📝 Ep24 train=0.1916 val=0.1413 dice=0.7978\n"
     ]
    },
    {
     "name": "stderr",
     "output_type": "stream",
     "text": [
      "Ep25/100 train: 100%|██████████| 41/41 [01:19<00:00,  1.94s/it]\n",
      "Ep25/100 val: 100%|██████████| 5/5 [00:21<00:00,  4.24s/it]\n"
     ]
    },
    {
     "name": "stdout",
     "output_type": "stream",
     "text": [
      "📝 Ep25 train=0.2058 val=0.2295 dice=0.7915\n"
     ]
    },
    {
     "name": "stderr",
     "output_type": "stream",
     "text": [
      "Ep26/100 train: 100%|██████████| 41/41 [01:21<00:00,  1.98s/it]\n",
      "Ep26/100 val: 100%|██████████| 5/5 [00:21<00:00,  4.25s/it]\n"
     ]
    },
    {
     "name": "stdout",
     "output_type": "stream",
     "text": [
      "📝 Ep26 train=0.1966 val=0.1061 dice=0.7633\n"
     ]
    },
    {
     "name": "stderr",
     "output_type": "stream",
     "text": [
      "Ep27/100 train: 100%|██████████| 41/41 [01:19<00:00,  1.94s/it]\n",
      "Ep27/100 val: 100%|██████████| 5/5 [00:21<00:00,  4.23s/it]\n"
     ]
    },
    {
     "name": "stdout",
     "output_type": "stream",
     "text": [
      "📝 Ep27 train=0.1578 val=0.1587 dice=0.7185\n"
     ]
    },
    {
     "name": "stderr",
     "output_type": "stream",
     "text": [
      "Ep28/100 train: 100%|██████████| 41/41 [01:17<00:00,  1.88s/it]\n",
      "Ep28/100 val: 100%|██████████| 5/5 [00:21<00:00,  4.27s/it]\n"
     ]
    },
    {
     "name": "stdout",
     "output_type": "stream",
     "text": [
      "📝 Ep28 train=0.1797 val=0.1617 dice=0.7232\n"
     ]
    },
    {
     "name": "stderr",
     "output_type": "stream",
     "text": [
      "Ep29/100 train: 100%|██████████| 41/41 [01:15<00:00,  1.85s/it]\n",
      "Ep29/100 val: 100%|██████████| 5/5 [00:21<00:00,  4.24s/it]\n"
     ]
    },
    {
     "name": "stdout",
     "output_type": "stream",
     "text": [
      "📝 Ep29 train=0.1909 val=0.1647 dice=0.7005\n"
     ]
    },
    {
     "name": "stderr",
     "output_type": "stream",
     "text": [
      "Ep30/100 train: 100%|██████████| 41/41 [01:20<00:00,  1.95s/it]\n",
      "Ep30/100 val: 100%|██████████| 5/5 [00:21<00:00,  4.24s/it]\n"
     ]
    },
    {
     "name": "stdout",
     "output_type": "stream",
     "text": [
      "📝 Ep30 train=0.1660 val=0.1194 dice=0.8005\n"
     ]
    },
    {
     "name": "stderr",
     "output_type": "stream",
     "text": [
      "Ep31/100 train: 100%|██████████| 41/41 [01:29<00:00,  2.18s/it]\n",
      "Ep31/100 val: 100%|██████████| 5/5 [00:21<00:00,  4.23s/it]\n"
     ]
    },
    {
     "name": "stdout",
     "output_type": "stream",
     "text": [
      "📝 Ep31 train=0.1492 val=0.1819 dice=0.7849\n"
     ]
    },
    {
     "name": "stderr",
     "output_type": "stream",
     "text": [
      "Ep32/100 train: 100%|██████████| 41/41 [01:27<00:00,  2.13s/it]\n",
      "Ep32/100 val: 100%|██████████| 5/5 [00:21<00:00,  4.22s/it]\n"
     ]
    },
    {
     "name": "stdout",
     "output_type": "stream",
     "text": [
      "📝 Ep32 train=0.1563 val=0.1347 dice=0.7158\n"
     ]
    },
    {
     "name": "stderr",
     "output_type": "stream",
     "text": [
      "Ep33/100 train: 100%|██████████| 41/41 [01:16<00:00,  1.86s/it]\n",
      "Ep33/100 val: 100%|██████████| 5/5 [00:07<00:00,  1.48s/it]\n"
     ]
    },
    {
     "name": "stdout",
     "output_type": "stream",
     "text": [
      "📝 Ep33 train=0.1560 val=0.0980 dice=0.8329\n"
     ]
    },
    {
     "name": "stderr",
     "output_type": "stream",
     "text": [
      "Ep34/100 train: 100%|██████████| 41/41 [01:08<00:00,  1.66s/it]\n",
      "Ep34/100 val: 100%|██████████| 5/5 [00:07<00:00,  1.50s/it]\n"
     ]
    },
    {
     "name": "stdout",
     "output_type": "stream",
     "text": [
      "📝 Ep34 train=0.1628 val=0.1332 dice=0.7512\n"
     ]
    },
    {
     "name": "stderr",
     "output_type": "stream",
     "text": [
      "Ep35/100 train: 100%|██████████| 41/41 [01:05<00:00,  1.60s/it]\n",
      "Ep35/100 val: 100%|██████████| 5/5 [00:07<00:00,  1.46s/it]\n"
     ]
    },
    {
     "name": "stdout",
     "output_type": "stream",
     "text": [
      "📝 Ep35 train=0.1679 val=0.1659 dice=0.6883\n"
     ]
    },
    {
     "name": "stderr",
     "output_type": "stream",
     "text": [
      "Ep36/100 train: 100%|██████████| 41/41 [01:05<00:00,  1.61s/it]\n",
      "Ep36/100 val: 100%|██████████| 5/5 [00:07<00:00,  1.45s/it]\n"
     ]
    },
    {
     "name": "stdout",
     "output_type": "stream",
     "text": [
      "📝 Ep36 train=0.1883 val=0.1686 dice=0.8717\n"
     ]
    },
    {
     "name": "stderr",
     "output_type": "stream",
     "text": [
      "Ep37/100 train: 100%|██████████| 41/41 [01:07<00:00,  1.64s/it]\n",
      "Ep37/100 val: 100%|██████████| 5/5 [00:07<00:00,  1.49s/it]\n"
     ]
    },
    {
     "name": "stdout",
     "output_type": "stream",
     "text": [
      "📝 Ep37 train=0.1642 val=0.1464 dice=0.8344\n"
     ]
    },
    {
     "name": "stderr",
     "output_type": "stream",
     "text": [
      "Ep38/100 train: 100%|██████████| 41/41 [01:07<00:00,  1.64s/it]\n",
      "Ep38/100 val: 100%|██████████| 5/5 [00:07<00:00,  1.44s/it]\n"
     ]
    },
    {
     "name": "stdout",
     "output_type": "stream",
     "text": [
      "📝 Ep38 train=0.1556 val=0.1188 dice=0.7780\n"
     ]
    },
    {
     "name": "stderr",
     "output_type": "stream",
     "text": [
      "Ep39/100 train: 100%|██████████| 41/41 [01:05<00:00,  1.60s/it]\n",
      "Ep39/100 val: 100%|██████████| 5/5 [00:07<00:00,  1.44s/it]\n"
     ]
    },
    {
     "name": "stdout",
     "output_type": "stream",
     "text": [
      "📝 Ep39 train=0.1904 val=0.1242 dice=0.7940\n"
     ]
    },
    {
     "name": "stderr",
     "output_type": "stream",
     "text": [
      "Ep40/100 train: 100%|██████████| 41/41 [01:06<00:00,  1.63s/it]\n",
      "Ep40/100 val: 100%|██████████| 5/5 [00:07<00:00,  1.47s/it]\n"
     ]
    },
    {
     "name": "stdout",
     "output_type": "stream",
     "text": [
      "📝 Ep40 train=0.1438 val=0.1434 dice=0.6290\n"
     ]
    },
    {
     "name": "stderr",
     "output_type": "stream",
     "text": [
      "Ep41/100 train: 100%|██████████| 41/41 [01:08<00:00,  1.66s/it]\n",
      "Ep41/100 val: 100%|██████████| 5/5 [00:07<00:00,  1.51s/it]\n"
     ]
    },
    {
     "name": "stdout",
     "output_type": "stream",
     "text": [
      "📝 Ep41 train=0.1533 val=0.1205 dice=0.8335\n"
     ]
    },
    {
     "name": "stderr",
     "output_type": "stream",
     "text": [
      "Ep42/100 train: 100%|██████████| 41/41 [01:07<00:00,  1.64s/it]\n",
      "Ep42/100 val: 100%|██████████| 5/5 [00:07<00:00,  1.48s/it]\n"
     ]
    },
    {
     "name": "stdout",
     "output_type": "stream",
     "text": [
      "📝 Ep42 train=0.2339 val=0.0730 dice=0.6548\n"
     ]
    },
    {
     "name": "stderr",
     "output_type": "stream",
     "text": [
      "Ep43/100 train: 100%|██████████| 41/41 [01:05<00:00,  1.59s/it]\n",
      "Ep43/100 val: 100%|██████████| 5/5 [00:07<00:00,  1.43s/it]\n"
     ]
    },
    {
     "name": "stdout",
     "output_type": "stream",
     "text": [
      "📝 Ep43 train=0.1783 val=0.1518 dice=0.6695\n"
     ]
    },
    {
     "name": "stderr",
     "output_type": "stream",
     "text": [
      "Ep44/100 train: 100%|██████████| 41/41 [01:05<00:00,  1.59s/it]\n",
      "Ep44/100 val: 100%|██████████| 5/5 [00:07<00:00,  1.44s/it]\n"
     ]
    },
    {
     "name": "stdout",
     "output_type": "stream",
     "text": [
      "📝 Ep44 train=0.1480 val=0.0921 dice=0.8387\n"
     ]
    },
    {
     "name": "stderr",
     "output_type": "stream",
     "text": [
      "Ep45/100 train: 100%|██████████| 41/41 [01:05<00:00,  1.59s/it]\n",
      "Ep45/100 val: 100%|██████████| 5/5 [00:07<00:00,  1.44s/it]\n"
     ]
    },
    {
     "name": "stdout",
     "output_type": "stream",
     "text": [
      "📝 Ep45 train=0.1423 val=0.2400 dice=0.8193\n"
     ]
    },
    {
     "name": "stderr",
     "output_type": "stream",
     "text": [
      "Ep46/100 train: 100%|██████████| 41/41 [01:05<00:00,  1.60s/it]\n",
      "Ep46/100 val: 100%|██████████| 5/5 [00:07<00:00,  1.42s/it]\n"
     ]
    },
    {
     "name": "stdout",
     "output_type": "stream",
     "text": [
      "📝 Ep46 train=0.1653 val=0.1177 dice=0.8314\n"
     ]
    },
    {
     "name": "stderr",
     "output_type": "stream",
     "text": [
      "Ep47/100 train: 100%|██████████| 41/41 [01:05<00:00,  1.60s/it]\n",
      "Ep47/100 val: 100%|██████████| 5/5 [00:07<00:00,  1.46s/it]\n"
     ]
    },
    {
     "name": "stdout",
     "output_type": "stream",
     "text": [
      "📝 Ep47 train=0.1856 val=0.1263 dice=0.9078\n",
      "  👑  Saved best model (dice 0.9078)\n"
     ]
    },
    {
     "name": "stderr",
     "output_type": "stream",
     "text": [
      "Ep48/100 train: 100%|██████████| 41/41 [01:06<00:00,  1.61s/it]\n",
      "Ep48/100 val: 100%|██████████| 5/5 [00:07<00:00,  1.46s/it]\n"
     ]
    },
    {
     "name": "stdout",
     "output_type": "stream",
     "text": [
      "📝 Ep48 train=0.1599 val=0.1129 dice=0.8613\n"
     ]
    },
    {
     "name": "stderr",
     "output_type": "stream",
     "text": [
      "Ep49/100 train: 100%|██████████| 41/41 [01:07<00:00,  1.64s/it]\n",
      "Ep49/100 val: 100%|██████████| 5/5 [00:07<00:00,  1.52s/it]\n"
     ]
    },
    {
     "name": "stdout",
     "output_type": "stream",
     "text": [
      "📝 Ep49 train=0.2005 val=0.1302 dice=0.7359\n"
     ]
    },
    {
     "name": "stderr",
     "output_type": "stream",
     "text": [
      "Ep50/100 train: 100%|██████████| 41/41 [01:05<00:00,  1.61s/it]\n",
      "Ep50/100 val: 100%|██████████| 5/5 [00:07<00:00,  1.43s/it]\n"
     ]
    },
    {
     "name": "stdout",
     "output_type": "stream",
     "text": [
      "📝 Ep50 train=0.1686 val=0.1444 dice=0.8162\n"
     ]
    },
    {
     "name": "stderr",
     "output_type": "stream",
     "text": [
      "Ep51/100 train: 100%|██████████| 41/41 [01:05<00:00,  1.59s/it]\n",
      "Ep51/100 val: 100%|██████████| 5/5 [00:07<00:00,  1.44s/it]\n"
     ]
    },
    {
     "name": "stdout",
     "output_type": "stream",
     "text": [
      "📝 Ep51 train=0.1616 val=0.1521 dice=0.8427\n"
     ]
    },
    {
     "name": "stderr",
     "output_type": "stream",
     "text": [
      "Ep52/100 train: 100%|██████████| 41/41 [01:06<00:00,  1.63s/it]\n",
      "Ep52/100 val: 100%|██████████| 5/5 [00:07<00:00,  1.52s/it]\n"
     ]
    },
    {
     "name": "stdout",
     "output_type": "stream",
     "text": [
      "📝 Ep52 train=0.1641 val=0.1590 dice=0.7491\n"
     ]
    },
    {
     "name": "stderr",
     "output_type": "stream",
     "text": [
      "Ep53/100 train: 100%|██████████| 41/41 [01:06<00:00,  1.63s/it]\n",
      "Ep53/100 val: 100%|██████████| 5/5 [00:07<00:00,  1.44s/it]\n"
     ]
    },
    {
     "name": "stdout",
     "output_type": "stream",
     "text": [
      "📝 Ep53 train=0.1622 val=0.1249 dice=0.8206\n"
     ]
    },
    {
     "name": "stderr",
     "output_type": "stream",
     "text": [
      "Ep54/100 train: 100%|██████████| 41/41 [01:05<00:00,  1.60s/it]\n",
      "Ep54/100 val: 100%|██████████| 5/5 [00:07<00:00,  1.43s/it]\n"
     ]
    },
    {
     "name": "stdout",
     "output_type": "stream",
     "text": [
      "📝 Ep54 train=0.1575 val=0.1322 dice=0.8249\n"
     ]
    },
    {
     "name": "stderr",
     "output_type": "stream",
     "text": [
      "Ep55/100 train: 100%|██████████| 41/41 [01:05<00:00,  1.59s/it]\n",
      "Ep55/100 val: 100%|██████████| 5/5 [00:07<00:00,  1.43s/it]\n"
     ]
    },
    {
     "name": "stdout",
     "output_type": "stream",
     "text": [
      "📝 Ep55 train=0.1388 val=0.1228 dice=0.8117\n"
     ]
    },
    {
     "name": "stderr",
     "output_type": "stream",
     "text": [
      "Ep56/100 train: 100%|██████████| 41/41 [01:05<00:00,  1.59s/it]\n",
      "Ep56/100 val: 100%|██████████| 5/5 [00:07<00:00,  1.43s/it]\n"
     ]
    },
    {
     "name": "stdout",
     "output_type": "stream",
     "text": [
      "📝 Ep56 train=0.1369 val=0.2532 dice=0.7641\n"
     ]
    },
    {
     "name": "stderr",
     "output_type": "stream",
     "text": [
      "Ep57/100 train: 100%|██████████| 41/41 [01:05<00:00,  1.59s/it]\n",
      "Ep57/100 val: 100%|██████████| 5/5 [00:07<00:00,  1.45s/it]\n"
     ]
    },
    {
     "name": "stdout",
     "output_type": "stream",
     "text": [
      "📝 Ep57 train=0.1495 val=0.1728 dice=0.7480\n"
     ]
    },
    {
     "name": "stderr",
     "output_type": "stream",
     "text": [
      "Ep58/100 train: 100%|██████████| 41/41 [01:05<00:00,  1.59s/it]\n",
      "Ep58/100 val: 100%|██████████| 5/5 [00:07<00:00,  1.45s/it]\n"
     ]
    },
    {
     "name": "stdout",
     "output_type": "stream",
     "text": [
      "📝 Ep58 train=0.1518 val=0.1166 dice=0.7962\n"
     ]
    },
    {
     "name": "stderr",
     "output_type": "stream",
     "text": [
      "Ep59/100 train: 100%|██████████| 41/41 [01:05<00:00,  1.61s/it]\n",
      "Ep59/100 val: 100%|██████████| 5/5 [00:07<00:00,  1.46s/it]\n"
     ]
    },
    {
     "name": "stdout",
     "output_type": "stream",
     "text": [
      "📝 Ep59 train=0.1657 val=0.1787 dice=0.7360\n"
     ]
    },
    {
     "name": "stderr",
     "output_type": "stream",
     "text": [
      "Ep60/100 train: 100%|██████████| 41/41 [01:06<00:00,  1.61s/it]\n",
      "Ep60/100 val: 100%|██████████| 5/5 [00:07<00:00,  1.45s/it]\n"
     ]
    },
    {
     "name": "stdout",
     "output_type": "stream",
     "text": [
      "📝 Ep60 train=0.1517 val=0.1277 dice=0.8293\n"
     ]
    },
    {
     "name": "stderr",
     "output_type": "stream",
     "text": [
      "Ep61/100 train: 100%|██████████| 41/41 [01:06<00:00,  1.62s/it]\n",
      "Ep61/100 val: 100%|██████████| 5/5 [00:07<00:00,  1.49s/it]\n"
     ]
    },
    {
     "name": "stdout",
     "output_type": "stream",
     "text": [
      "📝 Ep61 train=0.1461 val=0.3179 dice=0.6792\n"
     ]
    },
    {
     "name": "stderr",
     "output_type": "stream",
     "text": [
      "Ep62/100 train: 100%|██████████| 41/41 [01:06<00:00,  1.62s/it]\n",
      "Ep62/100 val: 100%|██████████| 5/5 [00:07<00:00,  1.43s/it]\n"
     ]
    },
    {
     "name": "stdout",
     "output_type": "stream",
     "text": [
      "📝 Ep62 train=0.1572 val=0.0819 dice=0.8063\n"
     ]
    },
    {
     "name": "stderr",
     "output_type": "stream",
     "text": [
      "Ep63/100 train: 100%|██████████| 41/41 [01:04<00:00,  1.58s/it]\n",
      "Ep63/100 val: 100%|██████████| 5/5 [00:07<00:00,  1.44s/it]\n"
     ]
    },
    {
     "name": "stdout",
     "output_type": "stream",
     "text": [
      "📝 Ep63 train=0.1778 val=0.0948 dice=0.8230\n"
     ]
    },
    {
     "name": "stderr",
     "output_type": "stream",
     "text": [
      "Ep64/100 train: 100%|██████████| 41/41 [01:05<00:00,  1.61s/it]\n",
      "Ep64/100 val: 100%|██████████| 5/5 [00:07<00:00,  1.45s/it]\n"
     ]
    },
    {
     "name": "stdout",
     "output_type": "stream",
     "text": [
      "📝 Ep64 train=0.1524 val=0.1734 dice=0.7451\n"
     ]
    },
    {
     "name": "stderr",
     "output_type": "stream",
     "text": [
      "Ep65/100 train: 100%|██████████| 41/41 [01:06<00:00,  1.62s/it]\n",
      "Ep65/100 val: 100%|██████████| 5/5 [00:07<00:00,  1.49s/it]\n"
     ]
    },
    {
     "name": "stdout",
     "output_type": "stream",
     "text": [
      "📝 Ep65 train=0.1556 val=0.1125 dice=0.9043\n"
     ]
    },
    {
     "name": "stderr",
     "output_type": "stream",
     "text": [
      "Ep66/100 train: 100%|██████████| 41/41 [01:06<00:00,  1.62s/it]\n",
      "Ep66/100 val: 100%|██████████| 5/5 [00:07<00:00,  1.44s/it]\n"
     ]
    },
    {
     "name": "stdout",
     "output_type": "stream",
     "text": [
      "📝 Ep66 train=0.1413 val=0.1324 dice=0.8678\n"
     ]
    },
    {
     "name": "stderr",
     "output_type": "stream",
     "text": [
      "Ep67/100 train: 100%|██████████| 41/41 [01:05<00:00,  1.59s/it]\n",
      "Ep67/100 val: 100%|██████████| 5/5 [00:07<00:00,  1.46s/it]\n"
     ]
    },
    {
     "name": "stdout",
     "output_type": "stream",
     "text": [
      "📝 Ep67 train=0.1573 val=0.1252 dice=0.8541\n"
     ]
    },
    {
     "name": "stderr",
     "output_type": "stream",
     "text": [
      "Ep68/100 train: 100%|██████████| 41/41 [01:06<00:00,  1.61s/it]\n",
      "Ep68/100 val: 100%|██████████| 5/5 [00:07<00:00,  1.46s/it]\n"
     ]
    },
    {
     "name": "stdout",
     "output_type": "stream",
     "text": [
      "📝 Ep68 train=0.1408 val=0.0829 dice=0.7480\n"
     ]
    },
    {
     "name": "stderr",
     "output_type": "stream",
     "text": [
      "Ep69/100 train: 100%|██████████| 41/41 [01:06<00:00,  1.63s/it]\n",
      "Ep69/100 val: 100%|██████████| 5/5 [00:07<00:00,  1.48s/it]\n"
     ]
    },
    {
     "name": "stdout",
     "output_type": "stream",
     "text": [
      "📝 Ep69 train=0.1378 val=0.1517 dice=0.7398\n"
     ]
    },
    {
     "name": "stderr",
     "output_type": "stream",
     "text": [
      "Ep70/100 train: 100%|██████████| 41/41 [01:07<00:00,  1.64s/it]\n",
      "Ep70/100 val: 100%|██████████| 5/5 [00:07<00:00,  1.43s/it]\n"
     ]
    },
    {
     "name": "stdout",
     "output_type": "stream",
     "text": [
      "📝 Ep70 train=0.1464 val=0.1159 dice=0.7983\n"
     ]
    },
    {
     "name": "stderr",
     "output_type": "stream",
     "text": [
      "Ep71/100 train: 100%|██████████| 41/41 [01:04<00:00,  1.58s/it]\n",
      "Ep71/100 val: 100%|██████████| 5/5 [00:07<00:00,  1.43s/it]\n"
     ]
    },
    {
     "name": "stdout",
     "output_type": "stream",
     "text": [
      "📝 Ep71 train=0.1720 val=0.1600 dice=0.7379\n"
     ]
    },
    {
     "name": "stderr",
     "output_type": "stream",
     "text": [
      "Ep72/100 train: 100%|██████████| 41/41 [01:04<00:00,  1.59s/it]\n",
      "Ep72/100 val: 100%|██████████| 5/5 [00:07<00:00,  1.47s/it]\n"
     ]
    },
    {
     "name": "stdout",
     "output_type": "stream",
     "text": [
      "📝 Ep72 train=0.1511 val=0.1318 dice=0.7722\n"
     ]
    },
    {
     "name": "stderr",
     "output_type": "stream",
     "text": [
      "Ep73/100 train: 100%|██████████| 41/41 [01:05<00:00,  1.61s/it]\n",
      "Ep73/100 val: 100%|██████████| 5/5 [00:07<00:00,  1.47s/it]\n"
     ]
    },
    {
     "name": "stdout",
     "output_type": "stream",
     "text": [
      "📝 Ep73 train=0.1655 val=0.1898 dice=0.7756\n"
     ]
    },
    {
     "name": "stderr",
     "output_type": "stream",
     "text": [
      "Ep74/100 train: 100%|██████████| 41/41 [01:06<00:00,  1.63s/it]\n",
      "Ep74/100 val: 100%|██████████| 5/5 [00:07<00:00,  1.47s/it]\n"
     ]
    },
    {
     "name": "stdout",
     "output_type": "stream",
     "text": [
      "📝 Ep74 train=0.1719 val=0.1115 dice=0.7783\n"
     ]
    },
    {
     "name": "stderr",
     "output_type": "stream",
     "text": [
      "Ep75/100 train: 100%|██████████| 41/41 [01:05<00:00,  1.60s/it]\n",
      "Ep75/100 val: 100%|██████████| 5/5 [00:07<00:00,  1.44s/it]\n"
     ]
    },
    {
     "name": "stdout",
     "output_type": "stream",
     "text": [
      "📝 Ep75 train=0.1715 val=0.1366 dice=0.8739\n"
     ]
    },
    {
     "name": "stderr",
     "output_type": "stream",
     "text": [
      "Ep76/100 train: 100%|██████████| 41/41 [01:05<00:00,  1.59s/it]\n",
      "Ep76/100 val: 100%|██████████| 5/5 [00:07<00:00,  1.44s/it]\n"
     ]
    },
    {
     "name": "stdout",
     "output_type": "stream",
     "text": [
      "📝 Ep76 train=0.1640 val=0.1970 dice=0.8572\n"
     ]
    },
    {
     "name": "stderr",
     "output_type": "stream",
     "text": [
      "Ep77/100 train: 100%|██████████| 41/41 [01:05<00:00,  1.59s/it]\n",
      "Ep77/100 val: 100%|██████████| 5/5 [00:07<00:00,  1.44s/it]\n"
     ]
    },
    {
     "name": "stdout",
     "output_type": "stream",
     "text": [
      "📝 Ep77 train=0.1669 val=0.1559 dice=0.8225\n"
     ]
    },
    {
     "name": "stderr",
     "output_type": "stream",
     "text": [
      "Ep78/100 train: 100%|██████████| 41/41 [01:05<00:00,  1.59s/it]\n",
      "Ep78/100 val: 100%|██████████| 5/5 [00:07<00:00,  1.44s/it]\n"
     ]
    },
    {
     "name": "stdout",
     "output_type": "stream",
     "text": [
      "📝 Ep78 train=0.1460 val=0.2062 dice=0.6742\n"
     ]
    },
    {
     "name": "stderr",
     "output_type": "stream",
     "text": [
      "Ep79/100 train: 100%|██████████| 41/41 [01:05<00:00,  1.59s/it]\n",
      "Ep79/100 val: 100%|██████████| 5/5 [00:07<00:00,  1.46s/it]\n"
     ]
    },
    {
     "name": "stdout",
     "output_type": "stream",
     "text": [
      "📝 Ep79 train=0.1783 val=0.1276 dice=0.8072\n"
     ]
    },
    {
     "name": "stderr",
     "output_type": "stream",
     "text": [
      "Ep80/100 train: 100%|██████████| 41/41 [01:05<00:00,  1.59s/it]\n",
      "Ep80/100 val: 100%|██████████| 5/5 [00:07<00:00,  1.44s/it]\n"
     ]
    },
    {
     "name": "stdout",
     "output_type": "stream",
     "text": [
      "📝 Ep80 train=0.1315 val=0.0916 dice=0.8328\n"
     ]
    },
    {
     "name": "stderr",
     "output_type": "stream",
     "text": [
      "Ep81/100 train: 100%|██████████| 41/41 [01:04<00:00,  1.58s/it]\n",
      "Ep81/100 val: 100%|██████████| 5/5 [00:07<00:00,  1.45s/it]\n"
     ]
    },
    {
     "name": "stdout",
     "output_type": "stream",
     "text": [
      "📝 Ep81 train=0.1420 val=0.0993 dice=0.8378\n"
     ]
    },
    {
     "name": "stderr",
     "output_type": "stream",
     "text": [
      "Ep82/100 train: 100%|██████████| 41/41 [01:05<00:00,  1.59s/it]\n",
      "Ep82/100 val: 100%|██████████| 5/5 [00:07<00:00,  1.44s/it]\n"
     ]
    },
    {
     "name": "stdout",
     "output_type": "stream",
     "text": [
      "📝 Ep82 train=0.1513 val=0.1412 dice=0.7879\n"
     ]
    },
    {
     "name": "stderr",
     "output_type": "stream",
     "text": [
      "Ep83/100 train: 100%|██████████| 41/41 [01:05<00:00,  1.59s/it]\n",
      "Ep83/100 val: 100%|██████████| 5/5 [00:07<00:00,  1.43s/it]\n"
     ]
    },
    {
     "name": "stdout",
     "output_type": "stream",
     "text": [
      "📝 Ep83 train=0.1708 val=0.1137 dice=0.8846\n"
     ]
    },
    {
     "name": "stderr",
     "output_type": "stream",
     "text": [
      "Ep84/100 train: 100%|██████████| 41/41 [01:05<00:00,  1.59s/it]\n",
      "Ep84/100 val: 100%|██████████| 5/5 [00:07<00:00,  1.43s/it]\n"
     ]
    },
    {
     "name": "stdout",
     "output_type": "stream",
     "text": [
      "📝 Ep84 train=0.1369 val=0.1055 dice=0.8634\n"
     ]
    },
    {
     "name": "stderr",
     "output_type": "stream",
     "text": [
      "Ep85/100 train: 100%|██████████| 41/41 [01:05<00:00,  1.59s/it]\n",
      "Ep85/100 val: 100%|██████████| 5/5 [00:07<00:00,  1.43s/it]\n"
     ]
    },
    {
     "name": "stdout",
     "output_type": "stream",
     "text": [
      "📝 Ep85 train=0.1646 val=0.0986 dice=0.7504\n"
     ]
    },
    {
     "name": "stderr",
     "output_type": "stream",
     "text": [
      "Ep86/100 train: 100%|██████████| 41/41 [01:04<00:00,  1.58s/it]\n",
      "Ep86/100 val: 100%|██████████| 5/5 [00:07<00:00,  1.46s/it]\n"
     ]
    },
    {
     "name": "stdout",
     "output_type": "stream",
     "text": [
      "📝 Ep86 train=0.1540 val=0.1119 dice=0.7722\n"
     ]
    },
    {
     "name": "stderr",
     "output_type": "stream",
     "text": [
      "Ep87/100 train: 100%|██████████| 41/41 [01:05<00:00,  1.60s/it]\n",
      "Ep87/100 val: 100%|██████████| 5/5 [00:07<00:00,  1.47s/it]\n"
     ]
    },
    {
     "name": "stdout",
     "output_type": "stream",
     "text": [
      "📝 Ep87 train=0.1407 val=0.1128 dice=0.7987\n"
     ]
    },
    {
     "name": "stderr",
     "output_type": "stream",
     "text": [
      "Ep88/100 train: 100%|██████████| 41/41 [01:06<00:00,  1.61s/it]\n",
      "Ep88/100 val: 100%|██████████| 5/5 [00:07<00:00,  1.47s/it]\n"
     ]
    },
    {
     "name": "stdout",
     "output_type": "stream",
     "text": [
      "📝 Ep88 train=0.1306 val=0.1232 dice=0.8493\n"
     ]
    },
    {
     "name": "stderr",
     "output_type": "stream",
     "text": [
      "Ep89/100 train: 100%|██████████| 41/41 [01:06<00:00,  1.62s/it]\n",
      "Ep89/100 val: 100%|██████████| 5/5 [00:07<00:00,  1.44s/it]\n"
     ]
    },
    {
     "name": "stdout",
     "output_type": "stream",
     "text": [
      "📝 Ep89 train=0.1427 val=0.1177 dice=0.8777\n"
     ]
    },
    {
     "name": "stderr",
     "output_type": "stream",
     "text": [
      "Ep90/100 train: 100%|██████████| 41/41 [01:05<00:00,  1.59s/it]\n",
      "Ep90/100 val: 100%|██████████| 5/5 [00:07<00:00,  1.43s/it]\n"
     ]
    },
    {
     "name": "stdout",
     "output_type": "stream",
     "text": [
      "📝 Ep90 train=0.1364 val=0.0988 dice=0.8781\n"
     ]
    },
    {
     "name": "stderr",
     "output_type": "stream",
     "text": [
      "Ep91/100 train: 100%|██████████| 41/41 [01:05<00:00,  1.59s/it]\n",
      "Ep91/100 val: 100%|██████████| 5/5 [00:07<00:00,  1.45s/it]\n"
     ]
    },
    {
     "name": "stdout",
     "output_type": "stream",
     "text": [
      "📝 Ep91 train=0.1177 val=0.0848 dice=0.9227\n",
      "  👑  Saved best model (dice 0.9227)\n"
     ]
    },
    {
     "name": "stderr",
     "output_type": "stream",
     "text": [
      "Ep92/100 train: 100%|██████████| 41/41 [01:05<00:00,  1.61s/it]\n",
      "Ep92/100 val: 100%|██████████| 5/5 [00:07<00:00,  1.44s/it]\n"
     ]
    },
    {
     "name": "stdout",
     "output_type": "stream",
     "text": [
      "📝 Ep92 train=0.1375 val=0.1493 dice=0.8531\n"
     ]
    },
    {
     "name": "stderr",
     "output_type": "stream",
     "text": [
      "Ep93/100 train: 100%|██████████| 41/41 [01:05<00:00,  1.59s/it]\n",
      "Ep93/100 val: 100%|██████████| 5/5 [00:07<00:00,  1.47s/it]\n"
     ]
    },
    {
     "name": "stdout",
     "output_type": "stream",
     "text": [
      "📝 Ep93 train=0.1638 val=0.1042 dice=0.8159\n"
     ]
    },
    {
     "name": "stderr",
     "output_type": "stream",
     "text": [
      "Ep94/100 train: 100%|██████████| 41/41 [01:05<00:00,  1.59s/it]\n",
      "Ep94/100 val: 100%|██████████| 5/5 [00:07<00:00,  1.43s/it]\n"
     ]
    },
    {
     "name": "stdout",
     "output_type": "stream",
     "text": [
      "📝 Ep94 train=0.2024 val=0.1173 dice=0.7735\n"
     ]
    },
    {
     "name": "stderr",
     "output_type": "stream",
     "text": [
      "Ep95/100 train: 100%|██████████| 41/41 [01:05<00:00,  1.59s/it]\n",
      "Ep95/100 val: 100%|██████████| 5/5 [00:07<00:00,  1.42s/it]\n"
     ]
    },
    {
     "name": "stdout",
     "output_type": "stream",
     "text": [
      "📝 Ep95 train=0.1526 val=0.0849 dice=0.9278\n",
      "  👑  Saved best model (dice 0.9278)\n"
     ]
    },
    {
     "name": "stderr",
     "output_type": "stream",
     "text": [
      "Ep96/100 train: 100%|██████████| 41/41 [01:04<00:00,  1.58s/it]\n",
      "Ep96/100 val: 100%|██████████| 5/5 [00:07<00:00,  1.43s/it]\n"
     ]
    },
    {
     "name": "stdout",
     "output_type": "stream",
     "text": [
      "📝 Ep96 train=0.1454 val=0.1140 dice=0.7830\n"
     ]
    },
    {
     "name": "stderr",
     "output_type": "stream",
     "text": [
      "Ep97/100 train: 100%|██████████| 41/41 [01:11<00:00,  1.75s/it]\n",
      "Ep97/100 val: 100%|██████████| 5/5 [00:07<00:00,  1.50s/it]\n"
     ]
    },
    {
     "name": "stdout",
     "output_type": "stream",
     "text": [
      "📝 Ep97 train=0.1411 val=0.1389 dice=0.8239\n"
     ]
    },
    {
     "name": "stderr",
     "output_type": "stream",
     "text": [
      "Ep98/100 train: 100%|██████████| 41/41 [01:05<00:00,  1.61s/it]\n",
      "Ep98/100 val: 100%|██████████| 5/5 [00:07<00:00,  1.43s/it]\n"
     ]
    },
    {
     "name": "stdout",
     "output_type": "stream",
     "text": [
      "📝 Ep98 train=0.1403 val=0.1181 dice=0.8984\n"
     ]
    },
    {
     "name": "stderr",
     "output_type": "stream",
     "text": [
      "Ep99/100 train: 100%|██████████| 41/41 [01:05<00:00,  1.59s/it]\n",
      "Ep99/100 val: 100%|██████████| 5/5 [00:07<00:00,  1.44s/it]\n"
     ]
    },
    {
     "name": "stdout",
     "output_type": "stream",
     "text": [
      "📝 Ep99 train=0.1536 val=0.0844 dice=0.9362\n",
      "  👑  Saved best model (dice 0.9362)\n"
     ]
    },
    {
     "name": "stderr",
     "output_type": "stream",
     "text": [
      "Ep100/100 train: 100%|██████████| 41/41 [01:04<00:00,  1.58s/it]\n",
      "Ep100/100 val: 100%|██████████| 5/5 [00:07<00:00,  1.44s/it]"
     ]
    },
    {
     "name": "stdout",
     "output_type": "stream",
     "text": [
      "📝 Ep100 train=0.1458 val=0.1505 dice=0.8178\n"
     ]
    },
    {
     "name": "stderr",
     "output_type": "stream",
     "text": [
      "\n"
     ]
    }
   ],
   "source": [
    "# train_unet4ch.py\n",
    "import os, csv, random, argparse\n",
    "import numpy as np\n",
    "from PIL import Image\n",
    "from tqdm.auto import tqdm\n",
    "import torch, torchvision\n",
    "from torch import nn\n",
    "from torch.utils.data import Dataset, DataLoader\n",
    "#from model import UNet11_4ch                 # ★★ 改成 4ch 版本\n",
    "\n",
    "# ---------------- Dataset ----------------\n",
    "class AerialPatchDataset4C(Dataset):\n",
    "    \"\"\"\n",
    "    root/\n",
    "     ├─ images/        austin1.tif ...\n",
    "     ├─ depth_images/  austin1_depth.png / tif / jpg ...\n",
    "     └─ gt/            austin1.tif (遮罩，與 images 同名)\n",
    "    \"\"\"\n",
    "    COMMON_EXTS = [\".png\", \".jpg\", \".jpeg\", \".tif\", \".tiff\"]\n",
    "\n",
    "    def __init__(self, root, crop=256):\n",
    "        self.crop      = crop\n",
    "        self.img_dir   = os.path.join(root, \"images\")\n",
    "        self.depth_dir = os.path.join(root, \"depth_images\")\n",
    "        self.mask_dir  = os.path.join(root, \"gt\")\n",
    "\n",
    "        self.names     = sorted(os.listdir(self.img_dir))           # ex: austin1.tif\n",
    "        self.depth_map = self._build_depth_map()                    # ★★ 建對應表\n",
    "\n",
    "        self.mean = torch.tensor([0.485,0.456,0.406,0.5]).view(4,1,1)\n",
    "        self.std  = torch.tensor([0.229,0.224,0.225,0.5]).view(4,1,1)\n",
    "\n",
    "    # ----------  新增：掃描 depth_images ----------\n",
    "    def _build_depth_map(self):\n",
    "        depth_files = os.listdir(self.depth_dir)\n",
    "        depth_dict  = {}\n",
    "        for f in depth_files:\n",
    "            stem, ext = os.path.splitext(f)\n",
    "            if stem.endswith(\"_depth\"):\n",
    "                base = stem[:-6]                    # 去掉 \"_depth\"\n",
    "                depth_dict[base] = f\n",
    "        return depth_dict                           # {austin1: austin1_depth.png}\n",
    "\n",
    "    def __len__(self): return len(self.names)\n",
    "\n",
    "    def _random_crop(self, img, depth, msk):\n",
    "        h, w = img.shape[:2]; ch = cw = self.crop\n",
    "        top  = random.randint(0, h - ch); left = random.randint(0, w - cw)\n",
    "        return (arr[top:top+ch, left:left+cw] for arr in (img, depth, msk))\n",
    "\n",
    "    def __getitem__(self, idx):\n",
    "        name = self.names[idx]                      # austin1.tif\n",
    "        stem, ext = os.path.splitext(name)          # austin1, .tif\n",
    "        try:\n",
    "            # --- 找對應的深度圖檔名 ---\n",
    "            if stem in self.depth_map:\n",
    "                depth_fname = self.depth_map[stem]\n",
    "            else:\n",
    "                # 保險：按副檔名猜測\n",
    "                depth_fname = None\n",
    "                for ex in [ext] + self.COMMON_EXTS:\n",
    "                    cand = f\"{stem}_depth{ex}\"\n",
    "                    if os.path.exists(os.path.join(self.depth_dir, cand)):\n",
    "                        depth_fname = cand; break\n",
    "                if depth_fname is None:\n",
    "                    raise FileNotFoundError(f\"找不到 {stem}_depth.*\")\n",
    "\n",
    "            # --- 讀檔 ---\n",
    "            rgb   = Image.open(os.path.join(self.img_dir,   name)).convert(\"RGB\")\n",
    "            depth = Image.open(os.path.join(self.depth_dir, depth_fname)).convert(\"L\")\n",
    "            msk   = Image.open(os.path.join(self.mask_dir,  name)).convert(\"L\")\n",
    "\n",
    "            rgb   = np.asarray(rgb)\n",
    "            depth = np.asarray(depth)[..., None]              # H×W×1\n",
    "            msk   = (np.asarray(msk) // 255).astype(np.uint8)\n",
    "\n",
    "            rgb, depth, msk = self._random_crop(rgb, depth, msk)\n",
    "\n",
    "            # --- to tensor ---\n",
    "            rgb   = torch.from_numpy(rgb).permute(2,0,1).float() / 255.0\n",
    "            depth = torch.from_numpy(depth).permute(2,0,1).float() / 255.0\n",
    "            img4  = torch.cat([rgb, depth], 0)                # 4×H×W\n",
    "            img4  = (img4 - self.mean) / self.std\n",
    "            msk   = torch.from_numpy(msk).float().unsqueeze(0)\n",
    "            return img4, msk\n",
    "\n",
    "        except Exception as e:\n",
    "            print(f\"❌ [錯誤] {name}: {e}\")\n",
    "            return (torch.zeros(4, self.crop, self.crop),\n",
    "                    torch.zeros(1, self.crop, self.crop))\n",
    "\n",
    "# ---------------- Metric -----------------\n",
    "def dice_coef(pred, target, eps=1e-7):\n",
    "    pred = (torch.sigmoid(pred) > 0.5).float()\n",
    "    inter = (pred * target).sum((1,2,3))\n",
    "    union = pred.sum((1,2,3)) + target.sum((1,2,3))\n",
    "    return ((2*inter+eps)/(union+eps)).mean()\n",
    "\n",
    "# ---------------- Train ------------------\n",
    "def main(args):\n",
    "    torch.multiprocessing.set_start_method('spawn', force=True)\n",
    "    device = torch.device(\"cuda\" if torch.cuda.is_available() else \"cpu\")\n",
    "    print(\"🚀 Device:\", device)\n",
    "\n",
    "    root = r\"E:\\論文\\空拍地圖語意分割\\Depth4UNet\\AerialImageDataset\\train\"\n",
    "    if not os.path.exists(root):\n",
    "        print(f\"❌ 找不到資料目錄 {root}\"); return\n",
    "\n",
    "    data = AerialPatchDataset4C(root, crop=args.crop)\n",
    "    print(f\"📊 共 {len(data)} 張影像\")\n",
    "    v = int(0.1*len(data))\n",
    "    train_ds, val_ds = torch.utils.data.random_split(data, [len(data)-v, v])\n",
    "\n",
    "    def loader(ds, shf): return DataLoader(\n",
    "        ds, batch_size=args.bs, shuffle=shf,\n",
    "        num_workers=0, pin_memory=False, persistent_workers=False)\n",
    "\n",
    "    train_ld, val_ld = loader(train_ds, True), loader(val_ds, False)\n",
    "\n",
    "    model = UNet11_4ch(pretrained=True).to(device)      # ★★\n",
    "    crit  = nn.BCEWithLogitsLoss()\n",
    "    opt   = torch.optim.Adam(model.parameters(), lr=args.lr)\n",
    "    scaler= torch.amp.GradScaler(device.type)\n",
    "\n",
    "    best = 0; os.makedirs(\"checkpoints\", exist_ok=True)\n",
    "    with open(\"metrics.csv\",\"w\",newline=\"\") as f:\n",
    "        csv.writer(f).writerow([\"epoch\",\"train_loss\",\"val_loss\",\"dice\"])\n",
    "\n",
    "    for ep in range(1, args.epochs+1):\n",
    "        # ---- train ----\n",
    "        model.train(); tr_loss=0; n_tr=0\n",
    "        for img,msk in tqdm(train_ld, desc=f\"Ep{ep}/{args.epochs} train\"):\n",
    "            img,msk = img.to(device), msk.to(device)\n",
    "            with torch.amp.autocast(device.type):\n",
    "                pred = model(img); loss = crit(pred, msk)\n",
    "            opt.zero_grad(); scaler.scale(loss).backward()\n",
    "            scaler.step(opt); scaler.update()\n",
    "            tr_loss += loss.item(); n_tr += 1\n",
    "\n",
    "        # ---- val ----\n",
    "        model.eval(); vl_loss=0; dices=[]; n_v=0\n",
    "        with torch.no_grad():\n",
    "            for img,msk in tqdm(val_ld, desc=f\"Ep{ep}/{args.epochs} val\"):\n",
    "                img,msk = img.to(device), msk.to(device)\n",
    "                with torch.amp.autocast(device.type):\n",
    "                    pred = model(img); loss = crit(pred, msk)\n",
    "                vl_loss += loss.item(); dices.append(dice_coef(pred, msk).item()); n_v += 1\n",
    "\n",
    "        tr_loss /= max(n_tr,1); vl_loss /= max(n_v,1); dice = np.mean(dices) if dices else 0\n",
    "        print(f\"📝 Ep{ep} train={tr_loss:.4f} val={vl_loss:.4f} dice={dice:.4f}\")\n",
    "        with open(\"metrics.csv\",\"a\",newline=\"\") as f:\n",
    "            csv.writer(f).writerow([ep,tr_loss,vl_loss,dice])\n",
    "\n",
    "        if dice > best:\n",
    "            best = dice\n",
    "            torch.save(model.state_dict(), \"checkpoints/best_unet4ch.pth\")\n",
    "            print(f\"  👑  Saved best model (dice {best:.4f})\")\n",
    "\n",
    "# ---------------- Run --------------------\n",
    "if __name__ == \"__main__\":\n",
    "    args = argparse.Namespace(epochs=100, bs=4, lr=1e-4, crop=256)\n",
    "    main(args)\n"
   ]
  },
  {
   "cell_type": "code",
   "execution_count": 6,
   "id": "83cb8def",
   "metadata": {},
   "outputs": [
    {
     "name": "stdout",
     "output_type": "stream",
     "text": [
      "✅ dice_by_epoch.csv  已寫出\n",
      "✅ pr_curve.csv       已寫出\n",
      "✅ loss_curve.png     已寫出\n",
      "✅ conf_matrix.png    已寫出\n"
     ]
    },
    {
     "data": {
      "image/png": "[encoded data removed]",
      "text/plain": [
       "<Figure size 640x480 with 1 Axes>"
      ]
     },
     "metadata": {},
     "output_type": "display_data"
    },
    {
     "data": {
      "image/png": "[encoded data removed]",
      "text/plain": [
       "<Figure size 640x480 with 1 Axes>"
      ]
     },
     "metadata": {},
     "output_type": "display_data"
    },
    {
     "data": {
      "image/png": "[encoded data removed]",
      "text/plain": [
       "<Figure size 640x480 with 1 Axes>"
      ]
     },
     "metadata": {},
     "output_type": "display_data"
    },
    {
     "data": {
      "image/png": "[encoded data removed]",
      "text/plain": [
       "<Figure size 640x480 with 1 Axes>"
      ]
     },
     "metadata": {},
     "output_type": "display_data"
    }
   ],
   "source": [
    "import csv, numpy as np\n",
    "\n",
    "# === 讀入你先前程式已算好的資料 ===\n",
    "metrics_csv = \"metrics.csv\"\n",
    "val_pred_npz = \"val_pred.npz\"\n",
    "\n",
    "# ── 1. Dice-by-epoch  ───────────────────────────────────────────────\n",
    "epochs, dice = [], []\n",
    "with open(metrics_csv, newline=\"\") as f:\n",
    "    for row in csv.DictReader(f):\n",
    "        epochs.append(int(row[\"epoch\"]))\n",
    "        dice.append(float(row[\"dice\"]))\n",
    "\n",
    "with open(\"dice_by_epoch.csv\", \"w\", newline=\"\") as f:\n",
    "    w = csv.writer(f)\n",
    "    w.writerow([\"epoch\", \"dice\"])\n",
    "    w.writerows(zip(epochs, dice))\n",
    "print(\"✅ dice_by_epoch.csv  已寫出\")\n",
    "plt.figure()\n",
    "plt.plot(epochs, dice, marker='o')\n",
    "plt.xlabel(\"epoch\"); plt.ylabel(\"dice coefficient\")\n",
    "plt.title(\"Dice Coefficient by Epoch\")\n",
    "plt.grid(); plt.tight_layout()\n",
    "plt.savefig(\"dice_curve.png\")\n",
    "\n",
    "# ── 2. Precision-Recall 曲線  ───────────────────────────────────────\n",
    "dat = np.load(val_pred_npz)\n",
    "y_true, y_score = dat[\"y_true\"], dat[\"y_score\"]\n",
    "\n",
    "from sklearn.metrics import precision_recall_curve\n",
    "precision, recall, thresholds = precision_recall_curve(y_true, y_score)\n",
    "\n",
    "# precision, recall 長度 = len(thresholds)+1，為了對齊，先手動補最後一個門檻值 1.0\n",
    "thresholds = np.append(thresholds, 1.0)\n",
    "\n",
    "with open(\"pr_curve.csv\", \"w\", newline=\"\") as f:\n",
    "    w = csv.writer(f)\n",
    "    w.writerow([\"threshold\", \"recall\", \"precision\"])\n",
    "    w.writerows(zip(thresholds, recall, precision))\n",
    "print(\"✅ pr_curve.csv       已寫出\")\n",
    "plt.figure()\n",
    "plt.plot(recall, precision, marker='o')\n",
    "plt.xlabel(\"Recall\"); plt.ylabel(\"Precision\")\n",
    "plt.title(\"Precision-Recall Curve\")\n",
    "plt.grid(); plt.tight_layout()\n",
    "plt.savefig(\"pr_curve.png\")\n",
    "# === 3. Loss Curve ────────────────────────────────────────────────\n",
    "import matplotlib.pyplot as plt\n",
    "\n",
    "# 如果 metrics.csv 還有 train_loss / val_loss 欄，讀進來：\n",
    "train_loss, val_loss = [], []\n",
    "with open(metrics_csv, newline=\"\") as f:\n",
    "    for row in csv.DictReader(f):\n",
    "        train_loss.append(float(row[\"train_loss\"]))\n",
    "        val_loss.append(float(row[\"val_loss\"]))\n",
    "\n",
    "plt.figure()\n",
    "plt.plot(epochs, train_loss, label=\"train loss\")\n",
    "plt.plot(epochs, val_loss,  label=\"val loss\")\n",
    "plt.xlabel(\"epoch\"); plt.ylabel(\"loss\"); plt.title(\"Loss Curve\")\n",
    "plt.grid(); plt.legend()\n",
    "plt.tight_layout()\n",
    "plt.savefig(\"loss_curve.png\")\n",
    "print(\"✅ loss_curve.png     已寫出\")\n",
    "\n",
    "# === 4. Confusion Matrix ──────────────────────────────────────────\n",
    "from sklearn.metrics import confusion_matrix, ConfusionMatrixDisplay\n",
    "\n",
    "# 以固定門檻 0.5 取 y_pred；如要用最佳 F1 門檻可自行替換\n",
    "y_pred = (y_score >= 0.5).astype(int)\n",
    "\n",
    "cm = confusion_matrix(y_true, y_pred, labels=[0,1])   # [[TN, FP], [FN, TP]]\n",
    "\n",
    "fig, ax = plt.subplots()\n",
    "disp = ConfusionMatrixDisplay(cm, display_labels=[\"background\", \"building\"])  # 按你的類別改\n",
    "disp.plot(cmap=None, ax=ax, colorbar=False)  # 不指定 color 以符合預設\n",
    "ax.set_title(\"Confusion Matrix @ threshold 0.5\")\n",
    "plt.tight_layout()\n",
    "fig.savefig(\"conf_matrix.png\")\n",
    "print(\"✅ conf_matrix.png    已寫出\")\n"
   ]
  },
  {
   "cell_type": "code",
   "execution_count": 9,
   "id": "d0ed2293",
   "metadata": {},
   "outputs": [
    {
     "name": "stdout",
     "output_type": "stream",
     "text": [
      "🚀 Using device: cuda\n"
     ]
    },
    {
     "name": "stderr",
     "output_type": "stream",
     "text": [
      "C:\\Users\\op237\\AppData\\Local\\Temp\\ipykernel_21292\\2857281574.py:38: FutureWarning: You are using `torch.load` with `weights_only=False` (the current default value), which uses the default pickle module implicitly. It is possible to construct malicious pickle data which will execute arbitrary code during unpickling (See https://github.com/pytorch/pytorch/blob/main/SECURITY.md#untrusted-models for more details). In a future release, the default value for `weights_only` will be flipped to `True`. This limits the functions that could be executed during unpickling. Arbitrary objects will no longer be allowed to be loaded via this mode unless they are explicitly allowlisted by the user via `torch.serialization.add_safe_globals`. We recommend you start setting `weights_only=True` for any use case where you don't have full control of the loaded file. Please open an issue on GitHub for any issues related to this experimental feature.\n",
      "  model.load_state_dict(torch.load(CKPT_PATH, map_location=DEVICE))\n"
     ]
    },
    {
     "name": "stdout",
     "output_type": "stream",
     "text": [
      "📥 Loading images …\n",
      "📐 Image size: 5000×5000\n",
      "🔍 Starting prediction…\n",
      "🖼️ Image is large, using sliding window prediction…\n",
      "🔄 Processing 81 windows…\n",
      "  Progress: 10/81 (12.3%)\n",
      "  Progress: 20/81 (24.7%)\n",
      "  Progress: 30/81 (37.0%)\n",
      "  Progress: 40/81 (49.4%)\n",
      "  Progress: 50/81 (61.7%)\n",
      "  Progress: 60/81 (74.1%)\n",
      "  Progress: 70/81 (86.4%)\n",
      "  Progress: 80/81 (98.8%)\n",
      "  Progress: 81/81 (100.0%)\n",
      "✅ Saved blended result: E:\\論文\\空拍地圖語意分割\\Depth4UNet\\AerialImageDataset\\test\\images\\bellingham1_RGBD_pred.png\n",
      "✅ Saved mask: E:\\論文\\空拍地圖語意分割\\Depth4UNet\\AerialImageDataset\\test\\images\\bellingham1_RGBD_mask.png\n",
      "🎉 Prediction completed!\n"
     ]
    }
   ],
   "source": [
    "# ------------------ Demo Predict (RGB + Depth，滑窗版 1024×1024) ------------------\n",
    "\"\"\"\n",
    "此腳本示範如何對 **RGB 圖 + 單通道深度圖** 進行語意分割推論。\n",
    "假設模型輸入為 4 通道（RGB→3 + Depth→1）。\n",
    "\"\"\"\n",
    "import os\n",
    "from typing import Tuple, List\n",
    "\n",
    "import numpy as np\n",
    "from PIL import Image\n",
    "\n",
    "import torch\n",
    "import torch.nn.functional as F\n",
    "import torchvision\n",
    "\n",
    "# ------------------------------------------------------------\n",
    "# ⚙️ 1. 手動設定\n",
    "# ------------------------------------------------------------\n",
    "RGB_PATH   = r\"E:\\論文\\空拍地圖語意分割\\Depth4UNet\\AerialImageDataset\\test\\images\\bellingham1.tif\"      # 三通道 RGB 影像\n",
    "DEPTH_PATH = r\"E:\\論文\\空拍地圖語意分割\\Depth4UNet\\depth\\bellingham1_depth.png\"    # 對應深度圖 (單通道 or 16‑bit)\n",
    "CKPT_PATH  = r\"E:\\論文\\空拍地圖語意分割\\Depth4UNet\\checkpoints\\best_unet4ch.pth\"\n",
    "\n",
    "WINDOW_SIZE = 1024  # 滑窗大小\n",
    "STRIDE      = 512   # 滑窗步長（50% 重疊，減少邊界效應）\n",
    "\n",
    "# ------------------------------------------------------------\n",
    "# ⚙️ 2. 運算裝置\n",
    "# ------------------------------------------------------------\n",
    "DEVICE = torch.device(\"cuda\" if torch.cuda.is_available() else \"cpu\")\n",
    "print(\"🚀 Using device:\", DEVICE)\n",
    "\n",
    "# ------------------------------------------------------------\n",
    "# ⚙️ 3. 載入模型（UNet11_4ch，RGBD → 1 類）\n",
    "# ------------------------------------------------------------\n",
    "#from model import UNet11_4ch  # 若想換 UNet16_4ch，這裡替換即可\n",
    "\n",
    "model = UNet11_4ch(pretrained=False).to(DEVICE).eval()\n",
    "model.load_state_dict(torch.load(CKPT_PATH, map_location=DEVICE))\n",
    "\n",
    "# ------------------------------------------------------------\n",
    "# ⚙️ 4. 影像讀取\n",
    "# ------------------------------------------------------------\n",
    "print(\"📥 Loading images …\")\n",
    "# 讀取 RGB（H×W×3，uint8）\n",
    "rgb_img = Image.open(RGB_PATH).convert(\"RGB\")\n",
    "# 讀取 Depth（H×W 單通道）；自動轉成 8‑bit 再正規化 0–1\n",
    "raw_depth = Image.open(DEPTH_PATH)\n",
    "if raw_depth.mode != \"L\":  # 16‑bit or 32‑bit\n",
    "    depth_np = np.array(raw_depth, dtype=np.float32)\n",
    "    # 依整張圖做 min‑max → 0‑255 再轉 uint8（便於與 RGB 同步前處理）\n",
    "    depth_np = 255.0 * (depth_np - depth_np.min()) / max(depth_np.ptp(), 1e-6)\n",
    "    depth_img = Image.fromarray(depth_np.astype(np.uint8))\n",
    "else:\n",
    "    depth_img = raw_depth\n",
    "\n",
    "W, H = rgb_img.size\n",
    "print(f\"📐 Image size: {W}×{H}\")\n",
    "\n",
    "# ------------------------------------------------------------\n",
    "# ⚙️ 5. 前處理函式\n",
    "# ------------------------------------------------------------\n",
    "# 針對 RGB 的 torchvision 標準化 (ImageNet)\n",
    "_rgb_tf = torchvision.transforms.Compose([\n",
    "    torchvision.transforms.ToTensor(),\n",
    "    torchvision.transforms.Normalize([0.485, 0.456, 0.406],\n",
    "                                     [0.229, 0.224, 0.225])\n",
    "])\n",
    "\n",
    "# Depth → Tensor (0–1) 直接線性拉伸；不做均值方差正規化（依照你訓練時的做法調整）\n",
    "_depth_tf = torchvision.transforms.ToTensor()  # 會得到 0–1 float32\n",
    "\n",
    "\n",
    "def preprocess_patch(rgb_patch: Image.Image, depth_patch: Image.Image) -> torch.Tensor:\n",
    "    \"\"\"將 RGB 與 Depth patch 轉為 (1,4,H,W) Tensor 並 pad 到 32 倍數\"\"\"\n",
    "    t_rgb   = _rgb_tf(rgb_patch)\n",
    "    t_depth = _depth_tf(depth_patch)  # shape (1,H,W)\n",
    "    tensor  = torch.cat([t_rgb, t_depth], dim=0).unsqueeze(0).to(DEVICE)  # (1,4,H,W)\n",
    "    return tensor\n",
    "\n",
    "\n",
    "# ------------------------------------------------------------\n",
    "# ⚙️ 6. Pad‑to‑32 工具\n",
    "# ------------------------------------------------------------\n",
    "\n",
    "def pad32(x: torch.Tensor) -> Tuple[torch.Tensor, int, int]:\n",
    "    \"\"\"Pad tensor (N,C,H,W) 到 32 的倍數，回傳 pad 後 tensor 與 pady、padx\"\"\"\n",
    "    _, _, h, w = x.shape\n",
    "    ph = (32 - h % 32) % 32\n",
    "    pw = (32 - w % 32) % 32\n",
    "    return F.pad(x, (0, pw, 0, ph)), ph, pw\n",
    "\n",
    "\n",
    "# ------------------------------------------------------------\n",
    "# ⚙️ 7. 小圖直接預測\n",
    "# ------------------------------------------------------------\n",
    "\n",
    "def direct_predict(rgb_np: np.ndarray, depth_np: np.ndarray) -> np.ndarray:\n",
    "    print(\"📸 Image is small, using direct prediction…\")\n",
    "    rgb_pil   = Image.fromarray(rgb_np)\n",
    "    depth_pil = Image.fromarray(depth_np)\n",
    "\n",
    "    tensor_img = preprocess_patch(rgb_pil, depth_pil)\n",
    "    tensor_pad, ph, pw = pad32(tensor_img)\n",
    "\n",
    "    with torch.no_grad():\n",
    "        logits = model(tensor_pad)\n",
    "        if ph or pw:\n",
    "            logits = logits[..., : logits.shape[-2] - ph, : logits.shape[-1] - pw]\n",
    "        prob = torch.sigmoid(logits)[0, 0].cpu().numpy()\n",
    "    return prob\n",
    "\n",
    "\n",
    "# ------------------------------------------------------------\n",
    "# ⚙️ 8. 滑窗預測\n",
    "# ------------------------------------------------------------\n",
    "\n",
    "def sliding_window_predict(rgb_np: np.ndarray, depth_np: np.ndarray,\n",
    "                           window: int, stride: int) -> np.ndarray:\n",
    "    H, W, _ = rgb_np.shape\n",
    "\n",
    "    # 若圖片小於滑窗，直接預測\n",
    "    if H <= window and W <= window:\n",
    "        return direct_predict(rgb_np, depth_np)\n",
    "\n",
    "    print(\"🖼️ Image is large, using sliding window prediction…\")\n",
    "\n",
    "    out_mask = np.zeros((H, W), dtype=np.float32)\n",
    "    weight   = np.zeros((H, W), dtype=np.float32)\n",
    "\n",
    "    y_pos = list(range(0, max(1, H - window + 1), stride))\n",
    "    x_pos = list(range(0, max(1, W - window + 1), stride))\n",
    "\n",
    "    if y_pos[-1] + window < H:\n",
    "        y_pos.append(H - window)\n",
    "    if x_pos[-1] + window < W:\n",
    "        x_pos.append(W - window)\n",
    "\n",
    "    total = len(y_pos) * len(x_pos)\n",
    "    print(f\"🔄 Processing {total} windows…\")\n",
    "\n",
    "    idx = 0\n",
    "    for y in y_pos:\n",
    "        for x in x_pos:\n",
    "            idx += 1\n",
    "            y_end, x_end = y + window, x + window\n",
    "            rgb_win   = rgb_np[y: y_end, x: x_end]\n",
    "            depth_win = depth_np[y: y_end, x: x_end]\n",
    "\n",
    "            # 若邊界不足則 pad 至 window\n",
    "            if rgb_win.shape[0] < window or rgb_win.shape[1] < window:\n",
    "                pad_rgb   = np.zeros((window, window, 3), dtype=np.uint8)\n",
    "                pad_depth = np.zeros((window, window), dtype=np.uint8)\n",
    "                pad_rgb[: rgb_win.shape[0], : rgb_win.shape[1], :]   = rgb_win\n",
    "                pad_depth[: depth_win.shape[0], : depth_win.shape[1]] = depth_win\n",
    "                rgb_win, depth_win = pad_rgb, pad_depth\n",
    "\n",
    "            tensor_pad, ph, pw = pad32(preprocess_patch(Image.fromarray(rgb_win),\n",
    "                                                        Image.fromarray(depth_win)))\n",
    "            with torch.no_grad():\n",
    "                logits = model(tensor_pad)\n",
    "                if ph or pw:\n",
    "                    logits = logits[..., : logits.shape[-2] - ph, : logits.shape[-1] - pw]\n",
    "                prob = torch.sigmoid(logits)[0, 0].cpu().numpy()\n",
    "\n",
    "                # 若邊界 pad → 裁回原大小\n",
    "                prob = prob[: rgb_win.shape[0], : rgb_win.shape[1]]\n",
    "\n",
    "            out_mask[y: y_end, x: x_end] += prob[: y_end - y, : x_end - x]\n",
    "            weight[y: y_end, x: x_end]   += 1.0\n",
    "\n",
    "            if idx % 10 == 0 or idx == total:\n",
    "                print(f\"  Progress: {idx}/{total} ({idx / total * 100:.1f}%)\")\n",
    "\n",
    "    return np.divide(out_mask, weight, out=np.zeros_like(out_mask), where=weight != 0)\n",
    "\n",
    "\n",
    "# ------------------------------------------------------------\n",
    "# ⚙️ 9. 執行預測\n",
    "# ------------------------------------------------------------\n",
    "print(\"🔍 Starting prediction…\")\n",
    "\n",
    "rgb_np   = np.array(rgb_img)\n",
    "depth_np = np.array(depth_img)\n",
    "\n",
    "prob_mask = sliding_window_predict(rgb_np, depth_np, WINDOW_SIZE, STRIDE)\n",
    "\n",
    "# ------------------------------------------------------------\n",
    "# ⚙️ 10. 後處理與儲存\n",
    "# ------------------------------------------------------------\n",
    "THRESH = 0.5\n",
    "binary = (prob_mask > THRESH).astype(np.uint8) * 255\n",
    "\n",
    "mask_rgb = np.zeros((*binary.shape, 3), dtype=np.uint8)\n",
    "mask_rgb[..., 1] = binary  # 綠色\n",
    "\n",
    "blend = Image.blend(rgb_img, Image.fromarray(mask_rgb), alpha=0.4)\n",
    "\n",
    "out_base = os.path.splitext(RGB_PATH)[0]\n",
    "blend.save(out_base + \"_RGBD_pred.png\")\n",
    "Image.fromarray(binary).save(out_base + \"_RGBD_mask.png\")\n",
    "\n",
    "print(\"✅ Saved blended result:\", out_base + \"_RGBD_pred.png\")\n",
    "print(\"✅ Saved mask:\", out_base + \"_RGBD_mask.png\")\n",
    "print(\"🎉 Prediction completed!\")\n"
   ]
  }
 ],
 "metadata": {
  "kernelspec": {
   "display_name": "Depth4UNet",
   "language": "python",
   "name": "python3"
  },
  "language_info": {
   "codemirror_mode": {
    "name": "ipython",
    "version": 3
   },
   "file_extension": ".py",
   "mimetype": "text/x-python",
   "name": "python",
   "nbconvert_exporter": "python",
   "pygments_lexer": "ipython3",
   "version": "3.8.20"
  }
 },
 "nbformat": 4,
 "nbformat_minor": 5
}
