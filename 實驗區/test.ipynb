{
 "cells": [
  {
   "cell_type": "code",
   "execution_count": 44,
   "id": "16a3f11b",
   "metadata": {},
   "outputs": [
    {
     "data": {
      "text/plain": [
       "device(type='cuda')"
      ]
     },
     "execution_count": 44,
     "metadata": {},
     "output_type": "execute_result"
    }
   ],
   "source": [
    "# 必須先安裝: pip install numpy torch torchvision scikit-learn matplotlib pillow tqdm\n",
    "\n",
    "%matplotlib inline\n",
    "import os, random, csv, colorsys, numpy as np, torch\n",
    "import matplotlib.pyplot as plt\n",
    "from pathlib import Path\n",
    "from PIL import Image\n",
    "from sklearn.metrics import precision_recall_curve, average_precision_score\n",
    "from torch.utils.data import Dataset, DataLoader, Subset, random_split\n",
    "\n",
    "# 你的四種模型\n",
    "from Depth4UNet          import UNet11_4ch as UNet11_ReLU   # RGBD (VGG11+ReLU)\n",
    "from Depth4UNetGELU      import UNet11_4ch as UNet11_GELU  # RGBD (VGG11+GELU)\n",
    "from UNet                import UNet_4ch   as UNet4_RGBD   # RGBD (原生 U-Net)\n",
    "from UNetVGG11           import UNet11     as UNet11_RGB   # RGB  (VGG11)\n",
    "\n",
    "ARCHES = {\n",
    "    \"unet4_rgbd\" : dict(cls=UNet4_RGBD,  in_ch=4),\n",
    "    \"vgg11_relu\" : dict(cls=UNet11_ReLU, in_ch=4),\n",
    "    \"vgg11_gelu\" : dict(cls=UNet11_GELU, in_ch=4),\n",
    "    \"vgg11_rgb\"  : dict(cls=UNet11_RGB,  in_ch=3),\n",
    "}\n",
    "device = torch.device(\"cuda\" if torch.cuda.is_available() else \"cpu\")\n",
    "device\n"
   ]
  },
  {
   "cell_type": "code",
   "execution_count": 45,
   "id": "a16aec23",
   "metadata": {},
   "outputs": [],
   "source": [
    "class _BaseDS(Dataset):\n",
    "    def __init__(self, root, crop=256):\n",
    "        root = Path(root)\n",
    "        self.crop = crop\n",
    "        self.img_dir, self.mask_dir = root / \"images\", root / \"gt\"\n",
    "        self.names = sorted(os.listdir(self.img_dir))\n",
    "    def _crop(self,*arrs):\n",
    "        h,w = arrs[0].shape[:2]; ch=cw=self.crop\n",
    "        top, left = random.randint(0,h-ch), random.randint(0,w-cw)\n",
    "        return [a[top:top+ch,left:left+cw] for a in arrs]\n",
    "\n",
    "class DS_RGB(_BaseDS):\n",
    "    MEAN = torch.tensor([0.485,0.456,0.406]).view(3,1,1)\n",
    "    STD  = torch.tensor([0.229,0.224,0.225]).view(3,1,1)\n",
    "    def __getitem__(self,i):\n",
    "        n=self.names[i]\n",
    "        rgb = np.asarray(Image.open(self.img_dir/n).convert(\"RGB\"))\n",
    "        msk = np.asarray(Image.open(self.mask_dir/n).convert(\"L\"))\n",
    "        rgb,msk=self._crop(rgb,msk)\n",
    "        rgb=torch.from_numpy(rgb).permute(2,0,1).float()/255.0\n",
    "        msk=(torch.from_numpy(msk)//255).float().unsqueeze(0)\n",
    "        rgb=(rgb-self.MEAN)/self.STD\n",
    "        return rgb,msk\n",
    "\n",
    "class DS_RGBD(_BaseDS):\n",
    "    MEAN = torch.tensor([0.485,0.456,0.406,0.5]).view(4,1,1)\n",
    "    STD  = torch.tensor([0.229,0.224,0.225,0.5]).view(4,1,1)\n",
    "    def __init__(self,root,crop=256):\n",
    "        super().__init__(root,crop)\n",
    "        self.depth_dir = Path(root)/\"depth_images\"\n",
    "        self.dmap={f[:-6]:f for f in os.listdir(self.depth_dir) if f.endswith(\"_depth.png\")}\n",
    "    def __getitem__(self,i):\n",
    "        n=self.names[i]; stem,_=os.path.splitext(n)\n",
    "        rgb = np.asarray(Image.open(self.img_dir/n).convert(\"RGB\"))\n",
    "        depth = np.asarray(Image.open(self.depth_dir/self.dmap.get(stem,\"\")).convert(\"L\")) \\\n",
    "                if stem in self.dmap else np.zeros(rgb.shape[:2],np.uint8)\n",
    "        msk = np.asarray(Image.open(self.mask_dir/n).convert(\"L\"))\n",
    "        rgb,depth,msk=self._crop(rgb,depth[...,None],msk)\n",
    "        rgb=torch.from_numpy(rgb).permute(2,0,1).float()/255.0\n",
    "        depth=torch.from_numpy(depth).permute(2,0,1).float()/255.0\n",
    "        x=torch.cat([rgb,depth],0); x=(x-self.MEAN)/self.STD\n",
    "        msk=(torch.from_numpy(msk)//255).float().unsqueeze(0)\n",
    "        return x,msk\n",
    "    def __len__(self): return len(self.names)\n",
    "\n"
   ]
  },
  {
   "cell_type": "code",
   "execution_count": 46,
   "id": "843e60a6",
   "metadata": {},
   "outputs": [],
   "source": [
    "# ✅ 修改成你的實際路徑\n",
    "ROOT = r\"E:/論文/空拍地圖語意分割/Depth4UNet/AerialImageDataset/train\"\n",
    "VAL_IDX_NPY = \"val_idx.npy\"   # 首次執行會自動產生\n",
    "CHECKPOINTS = [\n",
    "    (r\"E:/論文/空拍地圖語意分割/Depth4UNet/checkpoints/best_traditional_unet4ch.pth\",  \"UNet4\",       \"unet4_rgbd\"),\n",
    "    (r\"E:/論文/空拍地圖語意分割/Depth4UNet/checkpoints/best_unet4ch(new).pth\",  \"VGG11_ReLU\",  \"vgg11_relu\"),\n",
    "    (r\"E:/論文/空拍地圖語意分割/Depth4UNet/checkpoints/best_unet4ch(GELU_Inverted Bottleneck).pth\",  \"VGG11_GELU\",  \"vgg11_gelu\"),\n",
    "    (r\"E:/論文/空拍地圖語意分割/Depth4UNet/checkpoints/best_unet.pth\",   \"RGB_VGG11\",   \"vgg11_rgb\"),\n",
    "]\n",
    "BATCH_SIZE = 4\n"
   ]
  },
  {
   "cell_type": "code",
   "execution_count": 49,
   "id": "061ec704",
   "metadata": {},
   "outputs": [],
   "source": [
    "def get_loader(root, in_ch, idx_file, crop=256, bs=4):\n",
    "    base = DS_RGBD if in_ch==4 else DS_RGB\n",
    "    full = base(root,crop)\n",
    "    if os.path.exists(idx_file):\n",
    "        idx = np.load(idx_file); val_ds=Subset(full,idx)\n",
    "    else:\n",
    "        v=int(0.1*len(full))\n",
    "        _,val_ds=random_split(full,[len(full)-v,v],generator=torch.Generator().manual_seed(0))\n",
    "        np.save(idx_file, np.array(val_ds.indices))\n",
    "    return DataLoader(val_ds,batch_size=bs,shuffle=False,num_workers=0)\n",
    "\n",
    "import torch.nn as nn\n",
    "\n",
    "def add_missing_bias(module: nn.Module):\n",
    "    \"\"\"\n",
    "    遍歷整個 model，若某個 nn.Conv2d / nn.ConvTranspose2d 沒有 bias，\n",
    "    就動態加上一個零初始化的 bias 參數，使其能對應舊 checkpoint。\n",
    "    \"\"\"\n",
    "    for name, m in module.named_modules():\n",
    "        if isinstance(m, (nn.Conv2d, nn.ConvTranspose2d)) and m.bias is None:\n",
    "            b = nn.Parameter(torch.zeros(m.out_channels, device=m.weight.device))\n",
    "            m.register_parameter(\"bias\", b)      # 動態掛進 module\n",
    "            # 注意：不用修改 m.register_parameter 的 return 值\n"
   ]
  },
  {
   "cell_type": "code",
   "execution_count": null,
   "id": "48f3be11",
   "metadata": {},
   "outputs": [
    {
     "name": "stderr",
     "output_type": "stream",
     "text": [
      "C:\\Users\\op237\\AppData\\Local\\Temp\\ipykernel_24532\\1315762412.py:16: FutureWarning: You are using `torch.load` with `weights_only=False` (the current default value), which uses the default pickle module implicitly. It is possible to construct malicious pickle data which will execute arbitrary code during unpickling (See https://github.com/pytorch/pytorch/blob/main/SECURITY.md#untrusted-models for more details). In a future release, the default value for `weights_only` will be flipped to `True`. This limits the functions that could be executed during unpickling. Arbitrary objects will no longer be allowed to be loaded via this mode unless they are explicitly allowlisted by the user via `torch.serialization.add_safe_globals`. We recommend you start setting `weights_only=True` for any use case where you don't have full control of the loaded file. Please open an issue on GitHub for any issues related to this experimental feature.\n",
      "  state_all  = torch.load(ckpt, map_location=device)\n"
     ]
    },
    {
     "name": "stdout",
     "output_type": "stream",
     "text": [
      "UNet4: matched 46 / 46 layers\n"
     ]
    },
    {
     "name": "stderr",
     "output_type": "stream",
     "text": [
      "c:\\Users\\op237\\miniconda3\\envs\\Depth4UNet\\lib\\site-packages\\torchvision\\models\\_utils.py:208: UserWarning: The parameter 'pretrained' is deprecated since 0.13 and may be removed in the future, please use 'weights' instead.\n",
      "  warnings.warn(\n",
      "c:\\Users\\op237\\miniconda3\\envs\\Depth4UNet\\lib\\site-packages\\torchvision\\models\\_utils.py:223: UserWarning: Arguments other than a weight enum or `None` for 'weights' are deprecated since 0.13 and may be removed in the future. The current behavior is equivalent to passing `weights=VGG11_Weights.IMAGENET1K_V1`. You can also use `weights=VGG11_Weights.DEFAULT` to get the most up-to-date weights.\n",
      "  warnings.warn(msg)\n",
      "C:\\Users\\op237\\AppData\\Local\\Temp\\ipykernel_24532\\1315762412.py:16: FutureWarning: You are using `torch.load` with `weights_only=False` (the current default value), which uses the default pickle module implicitly. It is possible to construct malicious pickle data which will execute arbitrary code during unpickling (See https://github.com/pytorch/pytorch/blob/main/SECURITY.md#untrusted-models for more details). In a future release, the default value for `weights_only` will be flipped to `True`. This limits the functions that could be executed during unpickling. Arbitrary objects will no longer be allowed to be loaded via this mode unless they are explicitly allowlisted by the user via `torch.serialization.add_safe_globals`. We recommend you start setting `weights_only=True` for any use case where you don't have full control of the loaded file. Please open an issue on GitHub for any issues related to this experimental feature.\n",
      "  state_all  = torch.load(ckpt, map_location=device)\n"
     ]
    },
    {
     "name": "stdout",
     "output_type": "stream",
     "text": [
      "VGG11_ReLU: matched 43 / 56 layers\n"
     ]
    },
    {
     "ename": "KeyboardInterrupt",
     "evalue": "",
     "output_type": "error",
     "traceback": [
      "\u001b[1;31m---------------------------------------------------------------------------\u001b[0m",
      "\u001b[1;31mKeyboardInterrupt\u001b[0m                         Traceback (most recent call last)",
      "Cell \u001b[1;32mIn[48], line 27\u001b[0m\n\u001b[0;32m     25\u001b[0m y_true, y_score \u001b[38;5;241m=\u001b[39m [], []\n\u001b[0;32m     26\u001b[0m \u001b[38;5;28;01mwith\u001b[39;00m torch\u001b[38;5;241m.\u001b[39mno_grad():\n\u001b[1;32m---> 27\u001b[0m     \u001b[38;5;28;01mfor\u001b[39;00m x, y \u001b[38;5;129;01min\u001b[39;00m ld:\n\u001b[0;32m     28\u001b[0m         y_score\u001b[38;5;241m.\u001b[39mappend(torch\u001b[38;5;241m.\u001b[39msigmoid(model(x\u001b[38;5;241m.\u001b[39mto(device)))\u001b[38;5;241m.\u001b[39mcpu())\n\u001b[0;32m     29\u001b[0m         y_true\u001b[38;5;241m.\u001b[39mappend(y)\n",
      "File \u001b[1;32mc:\\Users\\op237\\miniconda3\\envs\\Depth4UNet\\lib\\site-packages\\torch\\utils\\data\\dataloader.py:630\u001b[0m, in \u001b[0;36m_BaseDataLoaderIter.__next__\u001b[1;34m(self)\u001b[0m\n\u001b[0;32m    627\u001b[0m \u001b[38;5;28;01mif\u001b[39;00m \u001b[38;5;28mself\u001b[39m\u001b[38;5;241m.\u001b[39m_sampler_iter \u001b[38;5;129;01mis\u001b[39;00m \u001b[38;5;28;01mNone\u001b[39;00m:\n\u001b[0;32m    628\u001b[0m     \u001b[38;5;66;03m# TODO(https://github.com/pytorch/pytorch/issues/76750)\u001b[39;00m\n\u001b[0;32m    629\u001b[0m     \u001b[38;5;28mself\u001b[39m\u001b[38;5;241m.\u001b[39m_reset()  \u001b[38;5;66;03m# type: ignore[call-arg]\u001b[39;00m\n\u001b[1;32m--> 630\u001b[0m data \u001b[38;5;241m=\u001b[39m \u001b[38;5;28;43mself\u001b[39;49m\u001b[38;5;241;43m.\u001b[39;49m\u001b[43m_next_data\u001b[49m\u001b[43m(\u001b[49m\u001b[43m)\u001b[49m\n\u001b[0;32m    631\u001b[0m \u001b[38;5;28mself\u001b[39m\u001b[38;5;241m.\u001b[39m_num_yielded \u001b[38;5;241m+\u001b[39m\u001b[38;5;241m=\u001b[39m \u001b[38;5;241m1\u001b[39m\n\u001b[0;32m    632\u001b[0m \u001b[38;5;28;01mif\u001b[39;00m \u001b[38;5;28mself\u001b[39m\u001b[38;5;241m.\u001b[39m_dataset_kind \u001b[38;5;241m==\u001b[39m _DatasetKind\u001b[38;5;241m.\u001b[39mIterable \u001b[38;5;129;01mand\u001b[39;00m \\\n\u001b[0;32m    633\u001b[0m         \u001b[38;5;28mself\u001b[39m\u001b[38;5;241m.\u001b[39m_IterableDataset_len_called \u001b[38;5;129;01mis\u001b[39;00m \u001b[38;5;129;01mnot\u001b[39;00m \u001b[38;5;28;01mNone\u001b[39;00m \u001b[38;5;129;01mand\u001b[39;00m \\\n\u001b[0;32m    634\u001b[0m         \u001b[38;5;28mself\u001b[39m\u001b[38;5;241m.\u001b[39m_num_yielded \u001b[38;5;241m>\u001b[39m \u001b[38;5;28mself\u001b[39m\u001b[38;5;241m.\u001b[39m_IterableDataset_len_called:\n",
      "File \u001b[1;32mc:\\Users\\op237\\miniconda3\\envs\\Depth4UNet\\lib\\site-packages\\torch\\utils\\data\\dataloader.py:673\u001b[0m, in \u001b[0;36m_SingleProcessDataLoaderIter._next_data\u001b[1;34m(self)\u001b[0m\n\u001b[0;32m    671\u001b[0m \u001b[38;5;28;01mdef\u001b[39;00m \u001b[38;5;21m_next_data\u001b[39m(\u001b[38;5;28mself\u001b[39m):\n\u001b[0;32m    672\u001b[0m     index \u001b[38;5;241m=\u001b[39m \u001b[38;5;28mself\u001b[39m\u001b[38;5;241m.\u001b[39m_next_index()  \u001b[38;5;66;03m# may raise StopIteration\u001b[39;00m\n\u001b[1;32m--> 673\u001b[0m     data \u001b[38;5;241m=\u001b[39m \u001b[38;5;28;43mself\u001b[39;49m\u001b[38;5;241;43m.\u001b[39;49m\u001b[43m_dataset_fetcher\u001b[49m\u001b[38;5;241;43m.\u001b[39;49m\u001b[43mfetch\u001b[49m\u001b[43m(\u001b[49m\u001b[43mindex\u001b[49m\u001b[43m)\u001b[49m  \u001b[38;5;66;03m# may raise StopIteration\u001b[39;00m\n\u001b[0;32m    674\u001b[0m     \u001b[38;5;28;01mif\u001b[39;00m \u001b[38;5;28mself\u001b[39m\u001b[38;5;241m.\u001b[39m_pin_memory:\n\u001b[0;32m    675\u001b[0m         data \u001b[38;5;241m=\u001b[39m _utils\u001b[38;5;241m.\u001b[39mpin_memory\u001b[38;5;241m.\u001b[39mpin_memory(data, \u001b[38;5;28mself\u001b[39m\u001b[38;5;241m.\u001b[39m_pin_memory_device)\n",
      "File \u001b[1;32mc:\\Users\\op237\\miniconda3\\envs\\Depth4UNet\\lib\\site-packages\\torch\\utils\\data\\_utils\\fetch.py:50\u001b[0m, in \u001b[0;36m_MapDatasetFetcher.fetch\u001b[1;34m(self, possibly_batched_index)\u001b[0m\n\u001b[0;32m     48\u001b[0m \u001b[38;5;28;01mif\u001b[39;00m \u001b[38;5;28mself\u001b[39m\u001b[38;5;241m.\u001b[39mauto_collation:\n\u001b[0;32m     49\u001b[0m     \u001b[38;5;28;01mif\u001b[39;00m \u001b[38;5;28mhasattr\u001b[39m(\u001b[38;5;28mself\u001b[39m\u001b[38;5;241m.\u001b[39mdataset, \u001b[38;5;124m\"\u001b[39m\u001b[38;5;124m__getitems__\u001b[39m\u001b[38;5;124m\"\u001b[39m) \u001b[38;5;129;01mand\u001b[39;00m \u001b[38;5;28mself\u001b[39m\u001b[38;5;241m.\u001b[39mdataset\u001b[38;5;241m.\u001b[39m__getitems__:\n\u001b[1;32m---> 50\u001b[0m         data \u001b[38;5;241m=\u001b[39m \u001b[38;5;28;43mself\u001b[39;49m\u001b[38;5;241;43m.\u001b[39;49m\u001b[43mdataset\u001b[49m\u001b[38;5;241;43m.\u001b[39;49m\u001b[43m__getitems__\u001b[49m\u001b[43m(\u001b[49m\u001b[43mpossibly_batched_index\u001b[49m\u001b[43m)\u001b[49m\n\u001b[0;32m     51\u001b[0m     \u001b[38;5;28;01melse\u001b[39;00m:\n\u001b[0;32m     52\u001b[0m         data \u001b[38;5;241m=\u001b[39m [\u001b[38;5;28mself\u001b[39m\u001b[38;5;241m.\u001b[39mdataset[idx] \u001b[38;5;28;01mfor\u001b[39;00m idx \u001b[38;5;129;01min\u001b[39;00m possibly_batched_index]\n",
      "File \u001b[1;32mc:\\Users\\op237\\miniconda3\\envs\\Depth4UNet\\lib\\site-packages\\torch\\utils\\data\\dataset.py:420\u001b[0m, in \u001b[0;36mSubset.__getitems__\u001b[1;34m(self, indices)\u001b[0m\n\u001b[0;32m    418\u001b[0m     \u001b[38;5;28;01mreturn\u001b[39;00m \u001b[38;5;28mself\u001b[39m\u001b[38;5;241m.\u001b[39mdataset\u001b[38;5;241m.\u001b[39m__getitems__([\u001b[38;5;28mself\u001b[39m\u001b[38;5;241m.\u001b[39mindices[idx] \u001b[38;5;28;01mfor\u001b[39;00m idx \u001b[38;5;129;01min\u001b[39;00m indices])  \u001b[38;5;66;03m# type: ignore[attr-defined]\u001b[39;00m\n\u001b[0;32m    419\u001b[0m \u001b[38;5;28;01melse\u001b[39;00m:\n\u001b[1;32m--> 420\u001b[0m     \u001b[38;5;28;01mreturn\u001b[39;00m [\u001b[38;5;28mself\u001b[39m\u001b[38;5;241m.\u001b[39mdataset[\u001b[38;5;28mself\u001b[39m\u001b[38;5;241m.\u001b[39mindices[idx]] \u001b[38;5;28;01mfor\u001b[39;00m idx \u001b[38;5;129;01min\u001b[39;00m indices]\n",
      "File \u001b[1;32mc:\\Users\\op237\\miniconda3\\envs\\Depth4UNet\\lib\\site-packages\\torch\\utils\\data\\dataset.py:420\u001b[0m, in \u001b[0;36m<listcomp>\u001b[1;34m(.0)\u001b[0m\n\u001b[0;32m    418\u001b[0m     \u001b[38;5;28;01mreturn\u001b[39;00m \u001b[38;5;28mself\u001b[39m\u001b[38;5;241m.\u001b[39mdataset\u001b[38;5;241m.\u001b[39m__getitems__([\u001b[38;5;28mself\u001b[39m\u001b[38;5;241m.\u001b[39mindices[idx] \u001b[38;5;28;01mfor\u001b[39;00m idx \u001b[38;5;129;01min\u001b[39;00m indices])  \u001b[38;5;66;03m# type: ignore[attr-defined]\u001b[39;00m\n\u001b[0;32m    419\u001b[0m \u001b[38;5;28;01melse\u001b[39;00m:\n\u001b[1;32m--> 420\u001b[0m     \u001b[38;5;28;01mreturn\u001b[39;00m [\u001b[38;5;28;43mself\u001b[39;49m\u001b[38;5;241;43m.\u001b[39;49m\u001b[43mdataset\u001b[49m\u001b[43m[\u001b[49m\u001b[38;5;28;43mself\u001b[39;49m\u001b[38;5;241;43m.\u001b[39;49m\u001b[43mindices\u001b[49m\u001b[43m[\u001b[49m\u001b[43midx\u001b[49m\u001b[43m]\u001b[49m\u001b[43m]\u001b[49m \u001b[38;5;28;01mfor\u001b[39;00m idx \u001b[38;5;129;01min\u001b[39;00m indices]\n",
      "Cell \u001b[1;32mIn[45], line 37\u001b[0m, in \u001b[0;36mDS_RGBD.__getitem__\u001b[1;34m(self, i)\u001b[0m\n\u001b[0;32m     34\u001b[0m rgb \u001b[38;5;241m=\u001b[39m np\u001b[38;5;241m.\u001b[39masarray(Image\u001b[38;5;241m.\u001b[39mopen(\u001b[38;5;28mself\u001b[39m\u001b[38;5;241m.\u001b[39mimg_dir\u001b[38;5;241m/\u001b[39mn)\u001b[38;5;241m.\u001b[39mconvert(\u001b[38;5;124m\"\u001b[39m\u001b[38;5;124mRGB\u001b[39m\u001b[38;5;124m\"\u001b[39m))\n\u001b[0;32m     35\u001b[0m depth \u001b[38;5;241m=\u001b[39m np\u001b[38;5;241m.\u001b[39masarray(Image\u001b[38;5;241m.\u001b[39mopen(\u001b[38;5;28mself\u001b[39m\u001b[38;5;241m.\u001b[39mdepth_dir\u001b[38;5;241m/\u001b[39m\u001b[38;5;28mself\u001b[39m\u001b[38;5;241m.\u001b[39mdmap\u001b[38;5;241m.\u001b[39mget(stem,\u001b[38;5;124m\"\u001b[39m\u001b[38;5;124m\"\u001b[39m))\u001b[38;5;241m.\u001b[39mconvert(\u001b[38;5;124m\"\u001b[39m\u001b[38;5;124mL\u001b[39m\u001b[38;5;124m\"\u001b[39m)) \\\n\u001b[0;32m     36\u001b[0m         \u001b[38;5;28;01mif\u001b[39;00m stem \u001b[38;5;129;01min\u001b[39;00m \u001b[38;5;28mself\u001b[39m\u001b[38;5;241m.\u001b[39mdmap \u001b[38;5;28;01melse\u001b[39;00m np\u001b[38;5;241m.\u001b[39mzeros(rgb\u001b[38;5;241m.\u001b[39mshape[:\u001b[38;5;241m2\u001b[39m],np\u001b[38;5;241m.\u001b[39muint8)\n\u001b[1;32m---> 37\u001b[0m msk \u001b[38;5;241m=\u001b[39m np\u001b[38;5;241m.\u001b[39masarray(\u001b[43mImage\u001b[49m\u001b[38;5;241;43m.\u001b[39;49m\u001b[43mopen\u001b[49m\u001b[43m(\u001b[49m\u001b[38;5;28;43mself\u001b[39;49m\u001b[38;5;241;43m.\u001b[39;49m\u001b[43mmask_dir\u001b[49m\u001b[38;5;241;43m/\u001b[39;49m\u001b[43mn\u001b[49m\u001b[43m)\u001b[49m\u001b[38;5;241;43m.\u001b[39;49m\u001b[43mconvert\u001b[49m\u001b[43m(\u001b[49m\u001b[38;5;124;43m\"\u001b[39;49m\u001b[38;5;124;43mL\u001b[39;49m\u001b[38;5;124;43m\"\u001b[39;49m\u001b[43m)\u001b[49m)\n\u001b[0;32m     38\u001b[0m rgb,depth,msk\u001b[38;5;241m=\u001b[39m\u001b[38;5;28mself\u001b[39m\u001b[38;5;241m.\u001b[39m_crop(rgb,depth[\u001b[38;5;241m.\u001b[39m\u001b[38;5;241m.\u001b[39m\u001b[38;5;241m.\u001b[39m,\u001b[38;5;28;01mNone\u001b[39;00m],msk)\n\u001b[0;32m     39\u001b[0m rgb\u001b[38;5;241m=\u001b[39mtorch\u001b[38;5;241m.\u001b[39mfrom_numpy(rgb)\u001b[38;5;241m.\u001b[39mpermute(\u001b[38;5;241m2\u001b[39m,\u001b[38;5;241m0\u001b[39m,\u001b[38;5;241m1\u001b[39m)\u001b[38;5;241m.\u001b[39mfloat()\u001b[38;5;241m/\u001b[39m\u001b[38;5;241m255.0\u001b[39m\n",
      "File \u001b[1;32mc:\\Users\\op237\\miniconda3\\envs\\Depth4UNet\\lib\\site-packages\\PIL\\Image.py:995\u001b[0m, in \u001b[0;36mImage.convert\u001b[1;34m(self, mode, matrix, dither, palette, colors)\u001b[0m\n\u001b[0;32m    992\u001b[0m \u001b[38;5;28;01mif\u001b[39;00m mode \u001b[38;5;129;01min\u001b[39;00m (\u001b[38;5;124m\"\u001b[39m\u001b[38;5;124mBGR;15\u001b[39m\u001b[38;5;124m\"\u001b[39m, \u001b[38;5;124m\"\u001b[39m\u001b[38;5;124mBGR;16\u001b[39m\u001b[38;5;124m\"\u001b[39m, \u001b[38;5;124m\"\u001b[39m\u001b[38;5;124mBGR;24\u001b[39m\u001b[38;5;124m\"\u001b[39m):\n\u001b[0;32m    993\u001b[0m     deprecate(mode, \u001b[38;5;241m12\u001b[39m)\n\u001b[1;32m--> 995\u001b[0m \u001b[38;5;28;43mself\u001b[39;49m\u001b[38;5;241;43m.\u001b[39;49m\u001b[43mload\u001b[49m\u001b[43m(\u001b[49m\u001b[43m)\u001b[49m\n\u001b[0;32m    997\u001b[0m has_transparency \u001b[38;5;241m=\u001b[39m \u001b[38;5;124m\"\u001b[39m\u001b[38;5;124mtransparency\u001b[39m\u001b[38;5;124m\"\u001b[39m \u001b[38;5;129;01min\u001b[39;00m \u001b[38;5;28mself\u001b[39m\u001b[38;5;241m.\u001b[39minfo\n\u001b[0;32m    998\u001b[0m \u001b[38;5;28;01mif\u001b[39;00m \u001b[38;5;129;01mnot\u001b[39;00m mode \u001b[38;5;129;01mand\u001b[39;00m \u001b[38;5;28mself\u001b[39m\u001b[38;5;241m.\u001b[39mmode \u001b[38;5;241m==\u001b[39m \u001b[38;5;124m\"\u001b[39m\u001b[38;5;124mP\u001b[39m\u001b[38;5;124m\"\u001b[39m:\n\u001b[0;32m    999\u001b[0m     \u001b[38;5;66;03m# determine default mode\u001b[39;00m\n",
      "File \u001b[1;32mc:\\Users\\op237\\miniconda3\\envs\\Depth4UNet\\lib\\site-packages\\PIL\\TiffImagePlugin.py:1237\u001b[0m, in \u001b[0;36mTiffImageFile.load\u001b[1;34m(self)\u001b[0m\n\u001b[0;32m   1235\u001b[0m \u001b[38;5;28;01mdef\u001b[39;00m \u001b[38;5;21mload\u001b[39m(\u001b[38;5;28mself\u001b[39m):\n\u001b[0;32m   1236\u001b[0m     \u001b[38;5;28;01mif\u001b[39;00m \u001b[38;5;28mself\u001b[39m\u001b[38;5;241m.\u001b[39mtile \u001b[38;5;129;01mand\u001b[39;00m \u001b[38;5;28mself\u001b[39m\u001b[38;5;241m.\u001b[39muse_load_libtiff:\n\u001b[1;32m-> 1237\u001b[0m         \u001b[38;5;28;01mreturn\u001b[39;00m \u001b[38;5;28;43mself\u001b[39;49m\u001b[38;5;241;43m.\u001b[39;49m\u001b[43m_load_libtiff\u001b[49m\u001b[43m(\u001b[49m\u001b[43m)\u001b[49m\n\u001b[0;32m   1238\u001b[0m     \u001b[38;5;28;01mreturn\u001b[39;00m \u001b[38;5;28msuper\u001b[39m()\u001b[38;5;241m.\u001b[39mload()\n",
      "File \u001b[1;32mc:\\Users\\op237\\miniconda3\\envs\\Depth4UNet\\lib\\site-packages\\PIL\\TiffImagePlugin.py:1324\u001b[0m, in \u001b[0;36mTiffImageFile._load_libtiff\u001b[1;34m(self)\u001b[0m\n\u001b[0;32m   1322\u001b[0m         \u001b[38;5;28mself\u001b[39m\u001b[38;5;241m.\u001b[39mfp\u001b[38;5;241m.\u001b[39mseek(\u001b[38;5;241m0\u001b[39m)\n\u001b[0;32m   1323\u001b[0m     \u001b[38;5;66;03m# 4 bytes, otherwise the trace might error out\u001b[39;00m\n\u001b[1;32m-> 1324\u001b[0m     n, err \u001b[38;5;241m=\u001b[39m \u001b[43mdecoder\u001b[49m\u001b[38;5;241;43m.\u001b[39;49m\u001b[43mdecode\u001b[49m\u001b[43m(\u001b[49m\u001b[38;5;124;43mb\u001b[39;49m\u001b[38;5;124;43m\"\u001b[39;49m\u001b[38;5;124;43mfpfp\u001b[39;49m\u001b[38;5;124;43m\"\u001b[39;49m\u001b[43m)\u001b[49m\n\u001b[0;32m   1325\u001b[0m \u001b[38;5;28;01melse\u001b[39;00m:\n\u001b[0;32m   1326\u001b[0m     \u001b[38;5;66;03m# we have something else.\u001b[39;00m\n\u001b[0;32m   1327\u001b[0m     logger\u001b[38;5;241m.\u001b[39mdebug(\u001b[38;5;124m\"\u001b[39m\u001b[38;5;124mdon\u001b[39m\u001b[38;5;124m'\u001b[39m\u001b[38;5;124mt have fileno or getvalue. just reading\u001b[39m\u001b[38;5;124m\"\u001b[39m)\n",
      "\u001b[1;31mKeyboardInterrupt\u001b[0m: "
     ]
    },
    {
     "data": {
      "image/png": "[encoded data removed]",
      "text/plain": [
       "<Figure size 600x500 with 1 Axes>"
      ]
     },
     "metadata": {},
     "output_type": "display_data"
    }
   ],
   "source": [
    "# PR 曲線顏色\n",
    "def palette(n): return [colorsys.hsv_to_rgb(i/n,0.8,0.8) for i in range(n)]\n",
    "\n",
    "loaders = {}\n",
    "plt.figure(figsize=(6,5))\n",
    "for (ckpt, label, arch), color in zip(CHECKPOINTS, palette(len(CHECKPOINTS))):\n",
    "    info  = ARCHES[arch]\n",
    "    if info[\"in_ch\"] not in loaders:\n",
    "        loaders[info[\"in_ch\"]] = get_loader(ROOT, info[\"in_ch\"], VAL_IDX_NPY, crop=256, bs=BATCH_SIZE)\n",
    "    ld = loaders[info[\"in_ch\"]]\n",
    "\n",
    "    # 1. 建模型\n",
    "    model = info[\"cls\"]().to(device)\n",
    "    add_missing_bias(model)      \n",
    "    # 2. 手動對齊權重（方案 B）\n",
    "    state_all  = torch.load(ckpt, map_location=device)\n",
    "    model_state = model.state_dict()\n",
    "    compatible = {k: v for k, v in state_all.items()\n",
    "                  if k in model_state and v.shape == model_state[k].shape}\n",
    "    model_state.update(compatible)\n",
    "    model.load_state_dict(model_state)   # strict=True 預設\n",
    "    print(f\"{label}: matched {len(compatible)} / {len(model_state)} layers\")\n",
    "\n",
    "    # 3. 評估\n",
    "    y_true, y_score = [], []\n",
    "    with torch.no_grad():\n",
    "        for x, y in ld:\n",
    "            y_score.append(torch.sigmoid(model(x.to(device))).cpu())\n",
    "            y_true.append(y)\n",
    "    y_true  = torch.cat(y_true).numpy().ravel()\n",
    "    y_score = torch.cat(y_score).numpy().ravel()\n",
    "\n",
    "    precision, recall, _ = precision_recall_curve(y_true, y_score)\n",
    "    ap = average_precision_score(y_true, y_score)\n",
    "    plt.plot(recall, precision, color=color, label=f\"{label} (AP={ap:.3f})\")\n",
    "\n",
    "\n",
    "\n",
    "plt.xlabel(\"Recall\"); plt.ylabel(\"Precision\")\n",
    "plt.title(\"PR curves (val set)\")\n",
    "plt.grid(); plt.legend(); plt.tight_layout()\n"
   ]
  },
  {
   "cell_type": "code",
   "execution_count": null,
   "id": "a04f35c5",
   "metadata": {},
   "outputs": [
    {
     "name": "stdout",
     "output_type": "stream",
     "text": [
      "[('E:/論文/空拍地圖語意分割/Depth4UNet/checkpoints/best_traditional_unet4ch.pth', 'UNet4', 'unet4_rgbd'), ('E:/論文/空拍地圖語意分割/Depth4UNet/checkpoints/best_unet4ch.pth', 'VGG11_ReLU', 'vgg11_relu'), ('E:/論文/空拍地圖語意分割/Depth4UNet/checkpoints/best_unet4ch(GELU_Inverted Bottleneck).pth', 'VGG11_GELU', 'vgg11_gelu'), ('E:/論文/空拍地圖語意分割/Depth4UNet/checkpoints/best_unet.pth', 'RGB_VGG11', 'vgg11_rgb')]\n"
     ]
    }
   ],
   "source": [
    "print(CHECKPOINTS)\n"
   ]
  }
 ],
 "metadata": {
  "kernelspec": {
   "display_name": "Depth4UNet",
   "language": "python",
   "name": "python3"
  },
  "language_info": {
   "codemirror_mode": {
    "name": "ipython",
    "version": 3
   },
   "file_extension": ".py",
   "mimetype": "text/x-python",
   "name": "python",
   "nbconvert_exporter": "python",
   "pygments_lexer": "ipython3",
   "version": "3.8.20"
  }
 },
 "nbformat": 4,
 "nbformat_minor": 5
}
